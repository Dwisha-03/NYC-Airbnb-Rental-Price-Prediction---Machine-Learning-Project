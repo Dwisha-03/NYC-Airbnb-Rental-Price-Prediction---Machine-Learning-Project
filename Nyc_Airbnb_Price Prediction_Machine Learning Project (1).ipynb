{
 "cells": [
  {
   "cell_type": "markdown",
   "id": "577807cf",
   "metadata": {},
   "source": [
    "# Data Science Project - Airbnb Price Prediction"
   ]
  },
  {
   "cell_type": "code",
   "execution_count": 627,
   "id": "0ef767ae",
   "metadata": {},
   "outputs": [],
   "source": [
    "# DATA CAPSTONE PROJECT\n",
    "# BY: Dwisha Mehta"
   ]
  },
  {
   "cell_type": "code",
   "execution_count": 2,
   "id": "42dfa72d",
   "metadata": {},
   "outputs": [
    {
     "name": "stderr",
     "output_type": "stream",
     "text": [
      "Since the GPL-licensed package `unidecode` is not installed, using Python's `unicodedata` package which yields worse results.\n"
     ]
    }
   ],
   "source": [
    "import pandas as pd\n",
    "import numpy as np\n",
    "import re\n",
    "import string\n",
    "from collections import OrderedDict\n",
    "from cleantext import clean\n",
    "import emoji\n",
    "import matplotlib.pyplot as plt\n",
    "%matplotlib inline\n",
    "import seaborn as sns\n",
    "import pandas as pd\n",
    "import numpy as np\n",
    "import pandas as pd\n",
    "import numpy as np\n",
    "import re\n",
    "import string\n",
    "import seaborn as sns\n",
    "from numpy import sqrt\n",
    "from collections import OrderedDict\n",
    "from scipy.stats import norm\n",
    "import matplotlib.pyplot as plt\n",
    "%matplotlib inline\n",
    "from mlxtend.evaluate import permutation_test\n",
    "from scipy import stats\n",
    "from statsmodels.stats import weightstats as stests\n",
    "from numpy import sqrt, abs, round\n",
    "from scipy.stats import norm, uniform, zscore\n",
    "from scipy.stats import ttest_ind\n",
    "from statsmodels.stats.weightstats import ztest as ztest\n",
    "import pandas as pd\n",
    "import numpy as np\n",
    "import matplotlib.pyplot as plt\n",
    "%matplotlib inline\n",
    "import seaborn as sns\n",
    "from sklearn.metrics import accuracy_score\n",
    "import haversine as hs\n",
    "from sklearn.model_selection import KFold, cross_val_score, cross_val_predict\n",
    "from sklearn.model_selection import RandomizedSearchCV, train_test_split\n",
    "from statistics import mean\n",
    "from sklearn.metrics import mean_absolute_error as mse\n",
    "import statsmodels.api as sm\n",
    "from scipy import stats\n",
    "from sklearn.model_selection import train_test_split\n",
    "from sklearn.model_selection import GridSearchCV\n",
    "from sklearn.preprocessing import LabelEncoder\n",
    "from sklearn.linear_model import LinearRegression\n",
    "from sklearn.ensemble import RandomForestRegressor\n",
    "from sklearn import metrics\n",
    "from numpy import absolute\n",
    "from numpy import sqrt"
   ]
  },
  {
   "cell_type": "code",
   "execution_count": 5,
   "id": "296b3778",
   "metadata": {},
   "outputs": [],
   "source": [
    "#Read the data \n",
    "airbnb = pd.read_csv('airbnb_edited.csv') \n",
    "airbnb = airbnb.drop(['Unnamed: 0'], axis = 1)"
   ]
  },
  {
   "cell_type": "markdown",
   "id": "80b8c6a5",
   "metadata": {},
   "source": [
    "# Feature Engineering"
   ]
  },
  {
   "cell_type": "code",
   "execution_count": 6,
   "id": "a01637a0",
   "metadata": {},
   "outputs": [
    {
     "data": {
      "text/html": [
       "<div>\n",
       "<style scoped>\n",
       "    .dataframe tbody tr th:only-of-type {\n",
       "        vertical-align: middle;\n",
       "    }\n",
       "\n",
       "    .dataframe tbody tr th {\n",
       "        vertical-align: top;\n",
       "    }\n",
       "\n",
       "    .dataframe thead th {\n",
       "        text-align: right;\n",
       "    }\n",
       "</style>\n",
       "<table border=\"1\" class=\"dataframe\">\n",
       "  <thead>\n",
       "    <tr style=\"text-align: right;\">\n",
       "      <th></th>\n",
       "      <th>neighbourhood_group</th>\n",
       "      <th>neighbourhood</th>\n",
       "      <th>latitude</th>\n",
       "      <th>longitude</th>\n",
       "      <th>room_type</th>\n",
       "      <th>minimum_nights</th>\n",
       "      <th>number_of_reviews</th>\n",
       "      <th>reviews_per_month</th>\n",
       "      <th>floor</th>\n",
       "      <th>noise(dB)</th>\n",
       "      <th>price</th>\n",
       "      <th>year</th>\n",
       "      <th>month</th>\n",
       "      <th>day</th>\n",
       "    </tr>\n",
       "  </thead>\n",
       "  <tbody>\n",
       "    <tr>\n",
       "      <th>0</th>\n",
       "      <td>Brooklyn</td>\n",
       "      <td>Kensington</td>\n",
       "      <td>40.64749</td>\n",
       "      <td>-73.97237</td>\n",
       "      <td>Private room</td>\n",
       "      <td>1</td>\n",
       "      <td>9.0</td>\n",
       "      <td>0.2100</td>\n",
       "      <td>1.0</td>\n",
       "      <td>69.056465</td>\n",
       "      <td>149</td>\n",
       "      <td>2018.0</td>\n",
       "      <td>10.0</td>\n",
       "      <td>19.0</td>\n",
       "    </tr>\n",
       "    <tr>\n",
       "      <th>1</th>\n",
       "      <td>Manhattan</td>\n",
       "      <td>Midtown</td>\n",
       "      <td>40.75362</td>\n",
       "      <td>-73.98377</td>\n",
       "      <td>Entire home/apt</td>\n",
       "      <td>1</td>\n",
       "      <td>45.0</td>\n",
       "      <td>0.3800</td>\n",
       "      <td>1.0</td>\n",
       "      <td>56.054278</td>\n",
       "      <td>225</td>\n",
       "      <td>2019.0</td>\n",
       "      <td>5.0</td>\n",
       "      <td>21.0</td>\n",
       "    </tr>\n",
       "    <tr>\n",
       "      <th>2</th>\n",
       "      <td>Manhattan</td>\n",
       "      <td>Harlem</td>\n",
       "      <td>40.80902</td>\n",
       "      <td>-73.94190</td>\n",
       "      <td>Private room</td>\n",
       "      <td>3</td>\n",
       "      <td>0.0</td>\n",
       "      <td>1.2132</td>\n",
       "      <td>1.0</td>\n",
       "      <td>56.054278</td>\n",
       "      <td>150</td>\n",
       "      <td>2019.0</td>\n",
       "      <td>5.0</td>\n",
       "      <td>21.0</td>\n",
       "    </tr>\n",
       "    <tr>\n",
       "      <th>3</th>\n",
       "      <td>Brooklyn</td>\n",
       "      <td>Clinton Hill</td>\n",
       "      <td>40.68514</td>\n",
       "      <td>-73.95976</td>\n",
       "      <td>Entire home/apt</td>\n",
       "      <td>1</td>\n",
       "      <td>270.0</td>\n",
       "      <td>4.6400</td>\n",
       "      <td>1.0</td>\n",
       "      <td>69.056465</td>\n",
       "      <td>89</td>\n",
       "      <td>2019.0</td>\n",
       "      <td>7.0</td>\n",
       "      <td>5.0</td>\n",
       "    </tr>\n",
       "    <tr>\n",
       "      <th>4</th>\n",
       "      <td>Manhattan</td>\n",
       "      <td>East Harlem</td>\n",
       "      <td>40.79851</td>\n",
       "      <td>-73.94399</td>\n",
       "      <td>Entire home/apt</td>\n",
       "      <td>10</td>\n",
       "      <td>9.0</td>\n",
       "      <td>0.1000</td>\n",
       "      <td>1.0</td>\n",
       "      <td>56.054278</td>\n",
       "      <td>80</td>\n",
       "      <td>2018.0</td>\n",
       "      <td>11.0</td>\n",
       "      <td>19.0</td>\n",
       "    </tr>\n",
       "  </tbody>\n",
       "</table>\n",
       "</div>"
      ],
      "text/plain": [
       "  neighbourhood_group neighbourhood  latitude  longitude        room_type  \\\n",
       "0            Brooklyn    Kensington  40.64749  -73.97237     Private room   \n",
       "1           Manhattan       Midtown  40.75362  -73.98377  Entire home/apt   \n",
       "2           Manhattan        Harlem  40.80902  -73.94190     Private room   \n",
       "3            Brooklyn  Clinton Hill  40.68514  -73.95976  Entire home/apt   \n",
       "4           Manhattan   East Harlem  40.79851  -73.94399  Entire home/apt   \n",
       "\n",
       "   minimum_nights  number_of_reviews  reviews_per_month  floor  noise(dB)  \\\n",
       "0               1                9.0             0.2100    1.0  69.056465   \n",
       "1               1               45.0             0.3800    1.0  56.054278   \n",
       "2               3                0.0             1.2132    1.0  56.054278   \n",
       "3               1              270.0             4.6400    1.0  69.056465   \n",
       "4              10                9.0             0.1000    1.0  56.054278   \n",
       "\n",
       "   price    year  month   day  \n",
       "0    149  2018.0   10.0  19.0  \n",
       "1    225  2019.0    5.0  21.0  \n",
       "2    150  2019.0    5.0  21.0  \n",
       "3     89  2019.0    7.0   5.0  \n",
       "4     80  2018.0   11.0  19.0  "
      ]
     },
     "execution_count": 6,
     "metadata": {},
     "output_type": "execute_result"
    }
   ],
   "source": [
    "airbnb.head()"
   ]
  },
  {
   "cell_type": "code",
   "execution_count": 7,
   "id": "e1c6f32b",
   "metadata": {},
   "outputs": [
    {
     "data": {
      "text/plain": [
       "array(['Brooklyn', 'Manhattan', 'Queens', 'Staten Island', 'Bronx'],\n",
       "      dtype=object)"
      ]
     },
     "execution_count": 7,
     "metadata": {},
     "output_type": "execute_result"
    }
   ],
   "source": [
    "airbnb['neighbourhood_group'].unique()"
   ]
  },
  {
   "cell_type": "code",
   "execution_count": 8,
   "id": "2aefdd89",
   "metadata": {},
   "outputs": [],
   "source": [
    "def latitude(value):\n",
    "    if value == 'Brooklyn':\n",
    "        return '40.650002'\n",
    "    if value == 'Manhattan':\n",
    "        return '40.776676'\n",
    "    if value == 'Queens':\n",
    "        return '40.742054'\n",
    "    if value == 'Staten Island':\n",
    "        return '40.579021'\n",
    "    if value == 'Bronx':\n",
    "        return '40.837048'\n",
    "\n",
    "airbnb['neigh_lat'] = airbnb['neighbourhood_group'].apply(latitude)"
   ]
  },
  {
   "cell_type": "code",
   "execution_count": 9,
   "id": "2acf7e51",
   "metadata": {},
   "outputs": [],
   "source": [
    "def longitude(value):\n",
    "    if value == 'Brooklyn':\n",
    "        return '-73.949997'\n",
    "    if value == 'Manhattan':\n",
    "        return '-73.971321'\n",
    "    if value == 'Queens':\n",
    "        return '-73.769417'\n",
    "    if value == 'Staten Island':\n",
    "        return '-74.151535'\n",
    "    if value == 'Bronx':\n",
    "        return '-73.865433'\n",
    "    \n",
    "airbnb['neigh_long'] = airbnb['neighbourhood_group'].apply(longitude)"
   ]
  },
  {
   "cell_type": "code",
   "execution_count": 10,
   "id": "88aeee39",
   "metadata": {},
   "outputs": [],
   "source": [
    "from math import radians, cos, sin, asin, sqrt\n",
    "# Implement the formula below\n",
    "def distance_d(LaA, LaB, LoA, LoB):\n",
    "# The function \"radians\" is found in the math module, It's also used to convert radians to degrees.  \n",
    "    \n",
    "    # The \"Haversine formula\" is used.\n",
    "    D_Lo = LoB - LoA \n",
    "    D_La = LaB - LaA \n",
    "    P = sin(D_La / 2)**2 + cos(LaA) * cos(LaB) * sin(D_Lo / 2)**2  \n",
    "   \n",
    "    Q = 2 * asin(sqrt(P))   \n",
    "    # The earth's radius in kilometers.\n",
    "    R_km = 6371  \n",
    "# Then we'll compute the outcome.\n",
    "    return(Q * R_km)\n",
    "airbnb['latitude']= airbnb['latitude'].astype(float)\n",
    "airbnb['neigh_lat']= airbnb['neigh_lat'].astype(float)\n",
    "airbnb['longitude']= airbnb['longitude'].astype(float)\n",
    "airbnb['neigh_long']= airbnb['neigh_long'].astype(float)\n",
    "airbnb['neigh_distance'] = airbnb.apply(lambda x: distance_d(x.latitude, x.neigh_lat, x.longitude, x.neigh_long), axis=1)"
   ]
  },
  {
   "cell_type": "code",
   "execution_count": 11,
   "id": "1ac16d16",
   "metadata": {},
   "outputs": [],
   "source": [
    "airbnb[['nyc_lat', 'nyc_long']] = [40.758896,-73.985130]\n",
    "airbnb['nycdistance'] = airbnb.apply(lambda x: distance_d(x.latitude, x.nyc_lat, x.longitude, x.nyc_long), axis=1)"
   ]
  },
  {
   "cell_type": "code",
   "execution_count": 12,
   "id": "f0212e72",
   "metadata": {},
   "outputs": [],
   "source": [
    "airbnb[['timesquare_lat', 'timesquare_long']] = [40.758896,-73.985130]\n",
    "airbnb['timesquaredist'] = airbnb.apply(lambda x: distance_d(x.latitude, x.timesquare_lat, x.longitude, x.timesquare_long), axis=1)"
   ]
  },
  {
   "cell_type": "code",
   "execution_count": 13,
   "id": "42a2dbce",
   "metadata": {},
   "outputs": [],
   "source": [
    "airbnb[['empire_lat', 'empire_long']] = [40.748817,-73.985428]\n",
    "\n",
    "airbnb['empiredist'] = airbnb.apply(lambda x: distance_d(x.latitude, x.empire_lat, x.longitude, x.empire_long), axis=1)\n"
   ]
  },
  {
   "cell_type": "code",
   "execution_count": 14,
   "id": "470fcaa5",
   "metadata": {},
   "outputs": [
    {
     "data": {
      "text/html": [
       "<div>\n",
       "<style scoped>\n",
       "    .dataframe tbody tr th:only-of-type {\n",
       "        vertical-align: middle;\n",
       "    }\n",
       "\n",
       "    .dataframe tbody tr th {\n",
       "        vertical-align: top;\n",
       "    }\n",
       "\n",
       "    .dataframe thead th {\n",
       "        text-align: right;\n",
       "    }\n",
       "</style>\n",
       "<table border=\"1\" class=\"dataframe\">\n",
       "  <thead>\n",
       "    <tr style=\"text-align: right;\">\n",
       "      <th></th>\n",
       "      <th>neighbourhood_group</th>\n",
       "      <th>neighbourhood</th>\n",
       "      <th>latitude</th>\n",
       "      <th>longitude</th>\n",
       "      <th>room_type</th>\n",
       "      <th>minimum_nights</th>\n",
       "      <th>number_of_reviews</th>\n",
       "      <th>reviews_per_month</th>\n",
       "      <th>floor</th>\n",
       "      <th>noise(dB)</th>\n",
       "      <th>...</th>\n",
       "      <th>neigh_distance</th>\n",
       "      <th>nyc_lat</th>\n",
       "      <th>nyc_long</th>\n",
       "      <th>nycdistance</th>\n",
       "      <th>timesquare_lat</th>\n",
       "      <th>timesquare_long</th>\n",
       "      <th>timesquaredist</th>\n",
       "      <th>empire_lat</th>\n",
       "      <th>empire_long</th>\n",
       "      <th>empiredist</th>\n",
       "    </tr>\n",
       "  </thead>\n",
       "  <tbody>\n",
       "    <tr>\n",
       "      <th>780</th>\n",
       "      <td>Staten Island</td>\n",
       "      <td>Graniteville</td>\n",
       "      <td>40.62109</td>\n",
       "      <td>-74.16534</td>\n",
       "      <td>Private room</td>\n",
       "      <td>3</td>\n",
       "      <td>80.0</td>\n",
       "      <td>0.92</td>\n",
       "      <td>1.0</td>\n",
       "      <td>51.96436</td>\n",
       "      <td>...</td>\n",
       "      <td>281.301258</td>\n",
       "      <td>40.758896</td>\n",
       "      <td>-73.98513</td>\n",
       "      <td>1434.230087</td>\n",
       "      <td>40.758896</td>\n",
       "      <td>-73.98513</td>\n",
       "      <td>1434.230087</td>\n",
       "      <td>40.748817</td>\n",
       "      <td>-73.985428</td>\n",
       "      <td>1393.712368</td>\n",
       "    </tr>\n",
       "    <tr>\n",
       "      <th>26083</th>\n",
       "      <td>Staten Island</td>\n",
       "      <td>Graniteville</td>\n",
       "      <td>40.62439</td>\n",
       "      <td>-74.16634</td>\n",
       "      <td>Entire home/apt</td>\n",
       "      <td>1</td>\n",
       "      <td>36.0</td>\n",
       "      <td>2.67</td>\n",
       "      <td>1.0</td>\n",
       "      <td>51.96436</td>\n",
       "      <td>...</td>\n",
       "      <td>303.222697</td>\n",
       "      <td>40.758896</td>\n",
       "      <td>-73.98513</td>\n",
       "      <td>1426.748606</td>\n",
       "      <td>40.758896</td>\n",
       "      <td>-73.98513</td>\n",
       "      <td>1426.748606</td>\n",
       "      <td>40.748817</td>\n",
       "      <td>-73.985428</td>\n",
       "      <td>1386.974489</td>\n",
       "    </tr>\n",
       "    <tr>\n",
       "      <th>28713</th>\n",
       "      <td>Staten Island</td>\n",
       "      <td>Graniteville</td>\n",
       "      <td>40.62301</td>\n",
       "      <td>-74.16558</td>\n",
       "      <td>Entire home/apt</td>\n",
       "      <td>4</td>\n",
       "      <td>7.0</td>\n",
       "      <td>1.01</td>\n",
       "      <td>1.0</td>\n",
       "      <td>51.96436</td>\n",
       "      <td>...</td>\n",
       "      <td>293.421804</td>\n",
       "      <td>40.758896</td>\n",
       "      <td>-73.98513</td>\n",
       "      <td>1428.129094</td>\n",
       "      <td>40.758896</td>\n",
       "      <td>-73.98513</td>\n",
       "      <td>1428.129094</td>\n",
       "      <td>40.748817</td>\n",
       "      <td>-73.985428</td>\n",
       "      <td>1387.997832</td>\n",
       "    </tr>\n",
       "  </tbody>\n",
       "</table>\n",
       "<p>3 rows × 26 columns</p>\n",
       "</div>"
      ],
      "text/plain": [
       "      neighbourhood_group neighbourhood  latitude  longitude        room_type  \\\n",
       "780         Staten Island  Graniteville  40.62109  -74.16534     Private room   \n",
       "26083       Staten Island  Graniteville  40.62439  -74.16634  Entire home/apt   \n",
       "28713       Staten Island  Graniteville  40.62301  -74.16558  Entire home/apt   \n",
       "\n",
       "       minimum_nights  number_of_reviews  reviews_per_month  floor  noise(dB)  \\\n",
       "780                 3               80.0               0.92    1.0   51.96436   \n",
       "26083               1               36.0               2.67    1.0   51.96436   \n",
       "28713               4                7.0               1.01    1.0   51.96436   \n",
       "\n",
       "       ...  neigh_distance    nyc_lat  nyc_long  nycdistance  timesquare_lat  \\\n",
       "780    ...      281.301258  40.758896 -73.98513  1434.230087       40.758896   \n",
       "26083  ...      303.222697  40.758896 -73.98513  1426.748606       40.758896   \n",
       "28713  ...      293.421804  40.758896 -73.98513  1428.129094       40.758896   \n",
       "\n",
       "       timesquare_long  timesquaredist  empire_lat  empire_long   empiredist  \n",
       "780          -73.98513     1434.230087   40.748817   -73.985428  1393.712368  \n",
       "26083        -73.98513     1426.748606   40.748817   -73.985428  1386.974489  \n",
       "28713        -73.98513     1428.129094   40.748817   -73.985428  1387.997832  \n",
       "\n",
       "[3 rows x 26 columns]"
      ]
     },
     "execution_count": 14,
     "metadata": {},
     "output_type": "execute_result"
    }
   ],
   "source": [
    "airbnb[airbnb['neighbourhood']== 'Graniteville']"
   ]
  },
  {
   "cell_type": "markdown",
   "id": "2a524bfb",
   "metadata": {},
   "source": [
    "# Outlier Detection"
   ]
  },
  {
   "cell_type": "code",
   "execution_count": 15,
   "id": "353a8697",
   "metadata": {},
   "outputs": [
    {
     "data": {
      "text/plain": [
       "Index(['neighbourhood_group', 'neighbourhood', 'latitude', 'longitude',\n",
       "       'room_type', 'minimum_nights', 'number_of_reviews', 'reviews_per_month',\n",
       "       'floor', 'noise(dB)', 'price', 'year', 'month', 'day', 'neigh_lat',\n",
       "       'neigh_long', 'neigh_distance', 'nyc_lat', 'nyc_long', 'nycdistance',\n",
       "       'timesquare_lat', 'timesquare_long', 'timesquaredist', 'empire_lat',\n",
       "       'empire_long', 'empiredist'],\n",
       "      dtype='object')"
      ]
     },
     "execution_count": 15,
     "metadata": {},
     "output_type": "execute_result"
    }
   ],
   "source": [
    "airbnb.columns"
   ]
  },
  {
   "cell_type": "code",
   "execution_count": 16,
   "id": "3f98bb58",
   "metadata": {},
   "outputs": [
    {
     "data": {
      "text/html": [
       "<div>\n",
       "<style scoped>\n",
       "    .dataframe tbody tr th:only-of-type {\n",
       "        vertical-align: middle;\n",
       "    }\n",
       "\n",
       "    .dataframe tbody tr th {\n",
       "        vertical-align: top;\n",
       "    }\n",
       "\n",
       "    .dataframe thead th {\n",
       "        text-align: right;\n",
       "    }\n",
       "</style>\n",
       "<table border=\"1\" class=\"dataframe\">\n",
       "  <thead>\n",
       "    <tr style=\"text-align: right;\">\n",
       "      <th></th>\n",
       "      <th>latitude</th>\n",
       "      <th>longitude</th>\n",
       "      <th>minimum_nights</th>\n",
       "      <th>number_of_reviews</th>\n",
       "      <th>reviews_per_month</th>\n",
       "      <th>floor</th>\n",
       "      <th>noise(dB)</th>\n",
       "      <th>price</th>\n",
       "      <th>year</th>\n",
       "      <th>month</th>\n",
       "      <th>...</th>\n",
       "      <th>neigh_distance</th>\n",
       "      <th>nyc_lat</th>\n",
       "      <th>nyc_long</th>\n",
       "      <th>nycdistance</th>\n",
       "      <th>timesquare_lat</th>\n",
       "      <th>timesquare_long</th>\n",
       "      <th>timesquaredist</th>\n",
       "      <th>empire_lat</th>\n",
       "      <th>empire_long</th>\n",
       "      <th>empiredist</th>\n",
       "    </tr>\n",
       "  </thead>\n",
       "  <tbody>\n",
       "    <tr>\n",
       "      <th>count</th>\n",
       "      <td>39117.000000</td>\n",
       "      <td>39117.000000</td>\n",
       "      <td>39117.000000</td>\n",
       "      <td>39117.000000</td>\n",
       "      <td>39117.000000</td>\n",
       "      <td>39117.00000</td>\n",
       "      <td>39117.000000</td>\n",
       "      <td>39117.000000</td>\n",
       "      <td>39117.000000</td>\n",
       "      <td>39117.000000</td>\n",
       "      <td>...</td>\n",
       "      <td>39117.000000</td>\n",
       "      <td>3.911700e+04</td>\n",
       "      <td>3.911700e+04</td>\n",
       "      <td>39117.000000</td>\n",
       "      <td>3.911700e+04</td>\n",
       "      <td>3.911700e+04</td>\n",
       "      <td>39117.000000</td>\n",
       "      <td>3.911700e+04</td>\n",
       "      <td>3.911700e+04</td>\n",
       "      <td>39117.000000</td>\n",
       "    </tr>\n",
       "    <tr>\n",
       "      <th>mean</th>\n",
       "      <td>40.728897</td>\n",
       "      <td>-73.952088</td>\n",
       "      <td>7.003349</td>\n",
       "      <td>27.352530</td>\n",
       "      <td>1.213200</td>\n",
       "      <td>1.58192</td>\n",
       "      <td>62.700221</td>\n",
       "      <td>152.431194</td>\n",
       "      <td>2018.316614</td>\n",
       "      <td>6.151878</td>\n",
       "      <td>...</td>\n",
       "      <td>337.977653</td>\n",
       "      <td>4.075890e+01</td>\n",
       "      <td>-7.398513e+01</td>\n",
       "      <td>449.537129</td>\n",
       "      <td>4.075890e+01</td>\n",
       "      <td>-7.398513e+01</td>\n",
       "      <td>449.537129</td>\n",
       "      <td>4.074882e+01</td>\n",
       "      <td>-7.398543e+01</td>\n",
       "      <td>429.411279</td>\n",
       "    </tr>\n",
       "    <tr>\n",
       "      <th>std</th>\n",
       "      <td>0.054520</td>\n",
       "      <td>0.046141</td>\n",
       "      <td>20.695672</td>\n",
       "      <td>43.845541</td>\n",
       "      <td>1.286791</td>\n",
       "      <td>1.49254</td>\n",
       "      <td>6.515355</td>\n",
       "      <td>243.141827</td>\n",
       "      <td>1.163886</td>\n",
       "      <td>2.487255</td>\n",
       "      <td>...</td>\n",
       "      <td>209.367182</td>\n",
       "      <td>1.158910e-11</td>\n",
       "      <td>3.953510e-11</td>\n",
       "      <td>290.241069</td>\n",
       "      <td>1.158910e-11</td>\n",
       "      <td>3.953510e-11</td>\n",
       "      <td>290.241069</td>\n",
       "      <td>1.381313e-11</td>\n",
       "      <td>2.486931e-12</td>\n",
       "      <td>286.657532</td>\n",
       "    </tr>\n",
       "    <tr>\n",
       "      <th>min</th>\n",
       "      <td>40.508680</td>\n",
       "      <td>-74.244420</td>\n",
       "      <td>1.000000</td>\n",
       "      <td>0.000000</td>\n",
       "      <td>0.010000</td>\n",
       "      <td>0.00000</td>\n",
       "      <td>22.964360</td>\n",
       "      <td>0.000000</td>\n",
       "      <td>2011.000000</td>\n",
       "      <td>1.000000</td>\n",
       "      <td>...</td>\n",
       "      <td>3.549335</td>\n",
       "      <td>4.075890e+01</td>\n",
       "      <td>-7.398513e+01</td>\n",
       "      <td>2.052331</td>\n",
       "      <td>4.075890e+01</td>\n",
       "      <td>-7.398513e+01</td>\n",
       "      <td>2.052331</td>\n",
       "      <td>4.074882e+01</td>\n",
       "      <td>-7.398543e+01</td>\n",
       "      <td>1.650187</td>\n",
       "    </tr>\n",
       "    <tr>\n",
       "      <th>25%</th>\n",
       "      <td>40.689980</td>\n",
       "      <td>-73.982980</td>\n",
       "      <td>1.000000</td>\n",
       "      <td>2.000000</td>\n",
       "      <td>0.280000</td>\n",
       "      <td>1.00000</td>\n",
       "      <td>56.054278</td>\n",
       "      <td>69.000000</td>\n",
       "      <td>2018.000000</td>\n",
       "      <td>5.000000</td>\n",
       "      <td>...</td>\n",
       "      <td>199.153676</td>\n",
       "      <td>4.075890e+01</td>\n",
       "      <td>-7.398513e+01</td>\n",
       "      <td>238.127793</td>\n",
       "      <td>4.075890e+01</td>\n",
       "      <td>-7.398513e+01</td>\n",
       "      <td>238.127793</td>\n",
       "      <td>4.074882e+01</td>\n",
       "      <td>-7.398543e+01</td>\n",
       "      <td>213.278634</td>\n",
       "    </tr>\n",
       "    <tr>\n",
       "      <th>50%</th>\n",
       "      <td>40.722980</td>\n",
       "      <td>-73.955630</td>\n",
       "      <td>2.000000</td>\n",
       "      <td>13.000000</td>\n",
       "      <td>1.213200</td>\n",
       "      <td>1.00000</td>\n",
       "      <td>62.478632</td>\n",
       "      <td>105.000000</td>\n",
       "      <td>2019.000000</td>\n",
       "      <td>6.000000</td>\n",
       "      <td>...</td>\n",
       "      <td>308.132525</td>\n",
       "      <td>4.075890e+01</td>\n",
       "      <td>-7.398513e+01</td>\n",
       "      <td>414.970264</td>\n",
       "      <td>4.075890e+01</td>\n",
       "      <td>-7.398513e+01</td>\n",
       "      <td>414.970264</td>\n",
       "      <td>4.074882e+01</td>\n",
       "      <td>-7.398543e+01</td>\n",
       "      <td>404.348879</td>\n",
       "    </tr>\n",
       "    <tr>\n",
       "      <th>75%</th>\n",
       "      <td>40.763090</td>\n",
       "      <td>-73.936340</td>\n",
       "      <td>5.000000</td>\n",
       "      <td>27.352530</td>\n",
       "      <td>1.213200</td>\n",
       "      <td>1.00000</td>\n",
       "      <td>69.056465</td>\n",
       "      <td>175.000000</td>\n",
       "      <td>2019.000000</td>\n",
       "      <td>7.000000</td>\n",
       "      <td>...</td>\n",
       "      <td>402.083297</td>\n",
       "      <td>4.075890e+01</td>\n",
       "      <td>-7.398513e+01</td>\n",
       "      <td>584.882609</td>\n",
       "      <td>4.075890e+01</td>\n",
       "      <td>-7.398513e+01</td>\n",
       "      <td>584.882609</td>\n",
       "      <td>4.074882e+01</td>\n",
       "      <td>-7.398543e+01</td>\n",
       "      <td>552.743298</td>\n",
       "    </tr>\n",
       "    <tr>\n",
       "      <th>max</th>\n",
       "      <td>40.913060</td>\n",
       "      <td>-73.712990</td>\n",
       "      <td>1250.000000</td>\n",
       "      <td>629.000000</td>\n",
       "      <td>20.940000</td>\n",
       "      <td>100.00000</td>\n",
       "      <td>98.056465</td>\n",
       "      <td>10000.000000</td>\n",
       "      <td>2019.000000</td>\n",
       "      <td>12.000000</td>\n",
       "      <td>...</td>\n",
       "      <td>1287.899565</td>\n",
       "      <td>4.075890e+01</td>\n",
       "      <td>-7.398513e+01</td>\n",
       "      <td>2263.658024</td>\n",
       "      <td>4.075890e+01</td>\n",
       "      <td>-7.398513e+01</td>\n",
       "      <td>2263.658024</td>\n",
       "      <td>4.074882e+01</td>\n",
       "      <td>-7.398543e+01</td>\n",
       "      <td>2216.698642</td>\n",
       "    </tr>\n",
       "  </tbody>\n",
       "</table>\n",
       "<p>8 rows × 23 columns</p>\n",
       "</div>"
      ],
      "text/plain": [
       "           latitude     longitude  minimum_nights  number_of_reviews  \\\n",
       "count  39117.000000  39117.000000    39117.000000       39117.000000   \n",
       "mean      40.728897    -73.952088        7.003349          27.352530   \n",
       "std        0.054520      0.046141       20.695672          43.845541   \n",
       "min       40.508680    -74.244420        1.000000           0.000000   \n",
       "25%       40.689980    -73.982980        1.000000           2.000000   \n",
       "50%       40.722980    -73.955630        2.000000          13.000000   \n",
       "75%       40.763090    -73.936340        5.000000          27.352530   \n",
       "max       40.913060    -73.712990     1250.000000         629.000000   \n",
       "\n",
       "       reviews_per_month        floor     noise(dB)         price  \\\n",
       "count       39117.000000  39117.00000  39117.000000  39117.000000   \n",
       "mean            1.213200      1.58192     62.700221    152.431194   \n",
       "std             1.286791      1.49254      6.515355    243.141827   \n",
       "min             0.010000      0.00000     22.964360      0.000000   \n",
       "25%             0.280000      1.00000     56.054278     69.000000   \n",
       "50%             1.213200      1.00000     62.478632    105.000000   \n",
       "75%             1.213200      1.00000     69.056465    175.000000   \n",
       "max            20.940000    100.00000     98.056465  10000.000000   \n",
       "\n",
       "               year         month  ...  neigh_distance       nyc_lat  \\\n",
       "count  39117.000000  39117.000000  ...    39117.000000  3.911700e+04   \n",
       "mean    2018.316614      6.151878  ...      337.977653  4.075890e+01   \n",
       "std        1.163886      2.487255  ...      209.367182  1.158910e-11   \n",
       "min     2011.000000      1.000000  ...        3.549335  4.075890e+01   \n",
       "25%     2018.000000      5.000000  ...      199.153676  4.075890e+01   \n",
       "50%     2019.000000      6.000000  ...      308.132525  4.075890e+01   \n",
       "75%     2019.000000      7.000000  ...      402.083297  4.075890e+01   \n",
       "max     2019.000000     12.000000  ...     1287.899565  4.075890e+01   \n",
       "\n",
       "           nyc_long   nycdistance  timesquare_lat  timesquare_long  \\\n",
       "count  3.911700e+04  39117.000000    3.911700e+04     3.911700e+04   \n",
       "mean  -7.398513e+01    449.537129    4.075890e+01    -7.398513e+01   \n",
       "std    3.953510e-11    290.241069    1.158910e-11     3.953510e-11   \n",
       "min   -7.398513e+01      2.052331    4.075890e+01    -7.398513e+01   \n",
       "25%   -7.398513e+01    238.127793    4.075890e+01    -7.398513e+01   \n",
       "50%   -7.398513e+01    414.970264    4.075890e+01    -7.398513e+01   \n",
       "75%   -7.398513e+01    584.882609    4.075890e+01    -7.398513e+01   \n",
       "max   -7.398513e+01   2263.658024    4.075890e+01    -7.398513e+01   \n",
       "\n",
       "       timesquaredist    empire_lat   empire_long    empiredist  \n",
       "count    39117.000000  3.911700e+04  3.911700e+04  39117.000000  \n",
       "mean       449.537129  4.074882e+01 -7.398543e+01    429.411279  \n",
       "std        290.241069  1.381313e-11  2.486931e-12    286.657532  \n",
       "min          2.052331  4.074882e+01 -7.398543e+01      1.650187  \n",
       "25%        238.127793  4.074882e+01 -7.398543e+01    213.278634  \n",
       "50%        414.970264  4.074882e+01 -7.398543e+01    404.348879  \n",
       "75%        584.882609  4.074882e+01 -7.398543e+01    552.743298  \n",
       "max       2263.658024  4.074882e+01 -7.398543e+01   2216.698642  \n",
       "\n",
       "[8 rows x 23 columns]"
      ]
     },
     "execution_count": 16,
     "metadata": {},
     "output_type": "execute_result"
    }
   ],
   "source": [
    "airbnb.describe()"
   ]
  },
  {
   "cell_type": "code",
   "execution_count": 17,
   "id": "b2cdd0d7",
   "metadata": {},
   "outputs": [],
   "source": [
    "airbnb['noise(dB)']= airbnb['noise(dB)'].astype(float)\n",
    "airbnb['minimum_nights']= airbnb['minimum_nights'].astype(int)\n",
    "airbnb['number_of_reviews']= airbnb['number_of_reviews'].astype(float)\n",
    "airbnb['price']= airbnb['price'].astype(float)\n",
    "airbnb['floor']= airbnb['floor'].astype(int)"
   ]
  },
  {
   "cell_type": "code",
   "execution_count": 18,
   "id": "46ed274e",
   "metadata": {},
   "outputs": [],
   "source": [
    "def outliers(df, ft):\n",
    "    Q1= df[ft].quantile(0.25)\n",
    "    Q3= df[ft].quantile(0.75)\n",
    "    IQR = Q3-Q1\n",
    "    lower_bound = Q1 -1.5*IQR\n",
    "    upper_bound = Q1 +1.5*IQR\n",
    "    \n",
    "    ls = df.index[(df[ft] < lower_bound)]\n",
    "    return ls\n",
    "    "
   ]
  },
  {
   "cell_type": "code",
   "execution_count": 19,
   "id": "c82f46a3",
   "metadata": {},
   "outputs": [],
   "source": [
    "index_list = []\n",
    "for feature in ['noise(dB)','minimum_nights','longitude','latitude','number_of_reviews','reviews_per_month', 'price', 'floor','nycdistance','neigh_distance', 'neigh_lat', 'neigh_long','nyc_long' ]:\n",
    "    index_list.extend(outliers(airbnb, feature))"
   ]
  },
  {
   "cell_type": "code",
   "execution_count": 20,
   "id": "c138e670",
   "metadata": {},
   "outputs": [],
   "source": [
    "def remove(df, ls):\n",
    "    ls = sorted(set(ls))\n",
    "    df = df.drop(ls)\n",
    "    return df"
   ]
  },
  {
   "cell_type": "code",
   "execution_count": 21,
   "id": "8c727895",
   "metadata": {},
   "outputs": [],
   "source": [
    "new = remove(airbnb, index_list)"
   ]
  },
  {
   "cell_type": "code",
   "execution_count": 22,
   "id": "198b9b30",
   "metadata": {},
   "outputs": [
    {
     "data": {
      "text/plain": [
       "Manhattan    17328\n",
       "Brooklyn     16000\n",
       "Queens        4523\n",
       "Bronx          872\n",
       "Name: neighbourhood_group, dtype: int64"
      ]
     },
     "execution_count": 22,
     "metadata": {},
     "output_type": "execute_result"
    }
   ],
   "source": [
    "# As the outlier removing method also removed some of the neighbourhood groups, there might be issues in accuracy of model\n",
    "new['neighbourhood_group'].value_counts()"
   ]
  },
  {
   "cell_type": "code",
   "execution_count": 23,
   "id": "ccd3975e",
   "metadata": {},
   "outputs": [
    {
     "data": {
      "text/plain": [
       "(38723, 26)"
      ]
     },
     "execution_count": 23,
     "metadata": {},
     "output_type": "execute_result"
    }
   ],
   "source": [
    "new.shape"
   ]
  },
  {
   "cell_type": "markdown",
   "id": "ca11c068",
   "metadata": {},
   "source": [
    "# Converting categorical variables"
   ]
  },
  {
   "cell_type": "code",
   "execution_count": 24,
   "id": "4a7d0659",
   "metadata": {},
   "outputs": [],
   "source": [
    "neighbourhood_dummies = pd.get_dummies(new['neighbourhood_group'],drop_first=True)"
   ]
  },
  {
   "cell_type": "code",
   "execution_count": 25,
   "id": "eb22062d",
   "metadata": {},
   "outputs": [],
   "source": [
    "new = pd.concat([new.drop('neighbourhood_group',axis=1),neighbourhood_dummies],axis=1)"
   ]
  },
  {
   "cell_type": "code",
   "execution_count": 26,
   "id": "c2a06cc5",
   "metadata": {},
   "outputs": [],
   "source": [
    "roomtype_dummies = pd.get_dummies(new['room_type'],drop_first=True)"
   ]
  },
  {
   "cell_type": "code",
   "execution_count": 27,
   "id": "34c04315",
   "metadata": {},
   "outputs": [],
   "source": [
    "new = pd.concat([new.drop('room_type',axis=1),roomtype_dummies],axis=1)"
   ]
  },
  {
   "cell_type": "code",
   "execution_count": 28,
   "id": "b6aca478",
   "metadata": {},
   "outputs": [],
   "source": [
    "new.drop([ 'nyc_long', 'nyc_lat','neigh_long', 'neigh_lat', 'year', 'day', 'month', 'timesquare_lat', 'timesquare_long', 'empire_lat', 'empire_long'],axis=1,inplace=True)"
   ]
  },
  {
   "cell_type": "code",
   "execution_count": 29,
   "id": "51697a12",
   "metadata": {},
   "outputs": [],
   "source": [
    "le = LabelEncoder()"
   ]
  },
  {
   "cell_type": "code",
   "execution_count": 30,
   "id": "4c4674d6",
   "metadata": {},
   "outputs": [],
   "source": [
    "new['neighbourhood']= le.fit_transform(new['neighbourhood'])"
   ]
  },
  {
   "cell_type": "code",
   "execution_count": 31,
   "id": "24236fcc",
   "metadata": {},
   "outputs": [
    {
     "data": {
      "text/plain": [
       "neighbourhood        0\n",
       "latitude             0\n",
       "longitude            0\n",
       "minimum_nights       0\n",
       "number_of_reviews    0\n",
       "reviews_per_month    0\n",
       "floor                0\n",
       "noise(dB)            0\n",
       "price                0\n",
       "neigh_distance       0\n",
       "nycdistance          0\n",
       "timesquaredist       0\n",
       "empiredist           0\n",
       "Brooklyn             0\n",
       "Manhattan            0\n",
       "Queens               0\n",
       "Private room         0\n",
       "Shared room          0\n",
       "dtype: int64"
      ]
     },
     "execution_count": 31,
     "metadata": {},
     "output_type": "execute_result"
    }
   ],
   "source": [
    "new.isna().sum()"
   ]
  },
  {
   "cell_type": "code",
   "execution_count": 32,
   "id": "c2b580e1",
   "metadata": {},
   "outputs": [
    {
     "data": {
      "text/plain": [
       "Index(['neighbourhood', 'latitude', 'longitude', 'minimum_nights',\n",
       "       'number_of_reviews', 'reviews_per_month', 'floor', 'noise(dB)', 'price',\n",
       "       'neigh_distance', 'nycdistance', 'timesquaredist', 'empiredist',\n",
       "       'Brooklyn', 'Manhattan', 'Queens', 'Private room', 'Shared room'],\n",
       "      dtype='object')"
      ]
     },
     "execution_count": 32,
     "metadata": {},
     "output_type": "execute_result"
    }
   ],
   "source": [
    "new.columns"
   ]
  },
  {
   "cell_type": "markdown",
   "id": "f6ab4ce3",
   "metadata": {},
   "source": [
    "# Correlation"
   ]
  },
  {
   "cell_type": "code",
   "execution_count": 33,
   "id": "85da5b81",
   "metadata": {},
   "outputs": [],
   "source": [
    "df = new"
   ]
  },
  {
   "cell_type": "code",
   "execution_count": 34,
   "id": "5eb73f26",
   "metadata": {},
   "outputs": [],
   "source": [
    "correlations_data = new.corr()['price'].sort_values()"
   ]
  },
  {
   "cell_type": "code",
   "execution_count": 35,
   "id": "cf6ad5af",
   "metadata": {},
   "outputs": [],
   "source": [
    "# No variables are very highly positively or negatively correlated so there is no need to drop them\n",
    "correlations_data.to_csv('correlation.csv')"
   ]
  },
  {
   "cell_type": "code",
   "execution_count": 36,
   "id": "413d2d6e",
   "metadata": {},
   "outputs": [
    {
     "data": {
      "text/plain": [
       "Private room        -0.245505\n",
       "empiredist          -0.182093\n",
       "nycdistance         -0.179510\n",
       "timesquaredist      -0.179510\n",
       "longitude           -0.165906\n",
       "Brooklyn            -0.101907\n",
       "Queens              -0.083254\n",
       "neigh_distance      -0.075142\n",
       "noise(dB)           -0.054712\n",
       "Shared room         -0.051888\n",
       "number_of_reviews   -0.040386\n",
       "reviews_per_month   -0.031651\n",
       "latitude             0.031285\n",
       "minimum_nights       0.042874\n",
       "neighbourhood        0.064364\n",
       "floor                0.136364\n",
       "Manhattan            0.167499\n",
       "price                1.000000\n",
       "Name: price, dtype: float64"
      ]
     },
     "execution_count": 36,
     "metadata": {},
     "output_type": "execute_result"
    }
   ],
   "source": [
    "correlations_data"
   ]
  },
  {
   "cell_type": "code",
   "execution_count": 37,
   "id": "272ff28d",
   "metadata": {},
   "outputs": [
    {
     "data": {
      "text/plain": [
       "Text(0.5, 1.0, 'airbnb.corr()')"
      ]
     },
     "execution_count": 37,
     "metadata": {},
     "output_type": "execute_result"
    },
    {
     "data": {
      "image/png": "[encoded data removed]",
      "text/plain": [
       "<Figure size 1080x648 with 2 Axes>"
      ]
     },
     "metadata": {
      "needs_background": "light"
     },
     "output_type": "display_data"
    }
   ],
   "source": [
    "plt.figure(figsize=(15,9))\n",
    "sns.heatmap(df.corr(),cmap='coolwarm', annot = True)\n",
    "plt.title('airbnb.corr()')"
   ]
  },
  {
   "cell_type": "markdown",
   "id": "69f426c8",
   "metadata": {},
   "source": [
    "# Feature Selection"
   ]
  },
  {
   "cell_type": "code",
   "execution_count": 38,
   "id": "6506df13",
   "metadata": {},
   "outputs": [
    {
     "name": "stdout",
     "output_type": "stream",
     "text": [
      "[0.00349861 0.00946421 0.01159115 0.0086789  0.00731764 0.00899612\n",
      " 0.31727447 0.4432758  0.01002505 0.00944586 0.01051457 0.01013862\n",
      " 0.02754432 0.04697192 0.00885737 0.06172606 0.00467934]\n"
     ]
    },
    {
     "data": {
      "image/png": "[encoded data removed]",
      "text/plain": [
       "<Figure size 432x288 with 1 Axes>"
      ]
     },
     "metadata": {
      "needs_background": "light"
     },
     "output_type": "display_data"
    }
   ],
   "source": [
    "import pandas as pd\n",
    "import numpy as np\n",
    "X = new.drop(['price'], axis =1)\n",
    "y = new['price']   \n",
    "from sklearn.ensemble import ExtraTreesRegressor\n",
    "import matplotlib.pyplot as plt\n",
    "model = ExtraTreesRegressor()\n",
    "model.fit(X,y)\n",
    "print(model.feature_importances_) \n",
    "feat_importances = pd.Series(model.feature_importances_, index=X.columns)\n",
    "feat_importances.nlargest(15).plot(kind='barh')\n",
    "plt.show()"
   ]
  },
  {
   "cell_type": "markdown",
   "id": "7b697c71",
   "metadata": {},
   "source": [
    "# Predictive Modeling "
   ]
  },
  {
   "cell_type": "markdown",
   "id": "6a7af25f",
   "metadata": {},
   "source": [
    "# # Linear Regression"
   ]
  },
  {
   "cell_type": "code",
   "execution_count": 39,
   "id": "04103ab9",
   "metadata": {},
   "outputs": [],
   "source": [
    "X = new.drop('price', axis = 1)\n",
    "y = new['price']"
   ]
  },
  {
   "cell_type": "code",
   "execution_count": 40,
   "id": "46adde10",
   "metadata": {},
   "outputs": [],
   "source": [
    "X_train, X_test, y_train, y_test = train_test_split(X, y, test_size=0.2, random_state=101)"
   ]
  },
  {
   "cell_type": "code",
   "execution_count": 41,
   "id": "e69b25ce",
   "metadata": {},
   "outputs": [],
   "source": [
    "lm = LinearRegression()"
   ]
  },
  {
   "cell_type": "code",
   "execution_count": 42,
   "id": "34cd3346",
   "metadata": {},
   "outputs": [
    {
     "name": "stdout",
     "output_type": "stream",
     "text": [
      "Cross-validated scores: [ -3719.63138873  -3900.14510018  -7978.1479953  -15964.13432345\n",
      "  -9046.34819068 -16225.87504395  -9477.59872391  -4025.49835482\n",
      "  -5561.72638534  -4192.666951  ]\n"
     ]
    }
   ],
   "source": [
    "cv = KFold(n_splits=10, random_state=1, shuffle=True)\n",
    "scores = cross_val_score(lm, X, y, cv=cv,scoring='neg_mean_squared_error')\n",
    "print(\"Cross-validated scores:\", scores)"
   ]
  },
  {
   "cell_type": "code",
   "execution_count": 43,
   "id": "83dcd7bb",
   "metadata": {},
   "outputs": [
    {
     "name": "stdout",
     "output_type": "stream",
     "text": [
      "Cross validation MAE: -8009.177245735688\n",
      "Cross validation RMSE: 89.49400675875277\n"
     ]
    }
   ],
   "source": [
    "print('Cross validation MAE:', mean(scores))\n",
    "print('Cross validation RMSE:', sqrt(mean(absolute(scores))))"
   ]
  },
  {
   "cell_type": "code",
   "execution_count": 44,
   "id": "3a9f4d94",
   "metadata": {},
   "outputs": [],
   "source": [
    "lm_model = lm.fit(X_train, y_train)"
   ]
  },
  {
   "cell_type": "code",
   "execution_count": 45,
   "id": "72d9216a",
   "metadata": {},
   "outputs": [],
   "source": [
    "predictions = lm_model.predict(X_test)"
   ]
  },
  {
   "cell_type": "code",
   "execution_count": 46,
   "id": "318d96eb",
   "metadata": {},
   "outputs": [
    {
     "data": {
      "text/plain": [
       "<seaborn.axisgrid.FacetGrid at 0x7f87f842aee0>"
      ]
     },
     "execution_count": 46,
     "metadata": {},
     "output_type": "execute_result"
    },
    {
     "data": {
      "image/png": "[encoded data removed]",
      "text/plain": [
       "<Figure size 360x360 with 1 Axes>"
      ]
     },
     "metadata": {
      "needs_background": "light"
     },
     "output_type": "display_data"
    }
   ],
   "source": [
    "predictionsdata = pd.DataFrame({\"original_Price\": y_test.values, \"predicted_Price\": predictions})\n",
    "sns.lmplot(x=\"original_Price\",y=\"predicted_Price\",data=predictionsdata)"
   ]
  },
  {
   "cell_type": "code",
   "execution_count": 47,
   "id": "02edde4f",
   "metadata": {
    "scrolled": true
   },
   "outputs": [
    {
     "name": "stderr",
     "output_type": "stream",
     "text": [
      "/opt/anaconda3/lib/python3.8/site-packages/seaborn/distributions.py:2557: FutureWarning: `distplot` is a deprecated function and will be removed in a future version. Please adapt your code to use either `displot` (a figure-level function with similar flexibility) or `histplot` (an axes-level function for histograms).\n",
      "  warnings.warn(msg, FutureWarning)\n"
     ]
    },
    {
     "data": {
      "image/png": "[encoded data removed]",
      "text/plain": [
       "<Figure size 1080x432 with 1 Axes>"
      ]
     },
     "metadata": {
      "needs_background": "light"
     },
     "output_type": "display_data"
    }
   ],
   "source": [
    "fig = plt.figure(figsize = (15,6))\n",
    "plt.ticklabel_format(style='plain') \n",
    "sns.distplot((y_test-predictions),bins=50);"
   ]
  },
  {
   "cell_type": "code",
   "execution_count": 51,
   "id": "b42fcaaf",
   "metadata": {},
   "outputs": [
    {
     "name": "stdout",
     "output_type": "stream",
     "text": [
      "MAE: 41.91856459175832\n",
      "MSE: 5253.984896190662\n",
      "RMSE: 72.48437691110176\n",
      "R2 score = 0.89\n"
     ]
    }
   ],
   "source": [
    "print('MAE:', metrics.mean_absolute_error(y_test, predictions))\n",
    "print('MSE:', metrics.mean_squared_error(y_test, predictions))\n",
    "print('RMSE:', np.sqrt(metrics.mean_squared_error(y_test, predictions)))\n",
    "print(\"R2 score =\", round(metrics.r2_score(y_test, predictions), 2))"
   ]
  },
  {
   "cell_type": "code",
   "execution_count": 52,
   "id": "82e9052e",
   "metadata": {},
   "outputs": [
    {
     "data": {
      "text/plain": [
       "array([ 6.02132104e-02, -1.17155534e+02,  2.88315577e+01,  1.05303969e-01,\n",
       "       -2.29260755e-02,  4.50108709e-01,  1.91240141e+01,  3.05336173e+02,\n",
       "       -7.35265293e-03,  3.67662420e-02,  3.67662420e-02, -1.16660509e-01,\n",
       "        2.90972772e+03,  6.91055369e+03,  4.87049224e+03, -7.50268042e+01,\n",
       "       -8.58256505e+01])"
      ]
     },
     "execution_count": 52,
     "metadata": {},
     "output_type": "execute_result"
    }
   ],
   "source": [
    "lm_model.coef_"
   ]
  },
  {
   "cell_type": "markdown",
   "id": "1a8e0a86",
   "metadata": {},
   "source": [
    "# Feature Importance"
   ]
  },
  {
   "cell_type": "code",
   "execution_count": 53,
   "id": "9b925c00",
   "metadata": {},
   "outputs": [
    {
     "name": "stdout",
     "output_type": "stream",
     "text": [
      "Feature: 0, Score: 0.06021\n",
      "Feature: 1, Score: -117.15553\n",
      "Feature: 2, Score: 28.83156\n",
      "Feature: 3, Score: 0.10530\n",
      "Feature: 4, Score: -0.02293\n",
      "Feature: 5, Score: 0.45011\n",
      "Feature: 6, Score: 19.12401\n",
      "Feature: 7, Score: 305.33617\n",
      "Feature: 8, Score: -0.00735\n",
      "Feature: 9, Score: 0.03677\n",
      "Feature: 10, Score: 0.03677\n",
      "Feature: 11, Score: -0.11666\n",
      "Feature: 12, Score: 2909.72772\n",
      "Feature: 13, Score: 6910.55369\n",
      "Feature: 14, Score: 4870.49224\n",
      "Feature: 15, Score: -75.02680\n",
      "Feature: 16, Score: -85.82565\n"
     ]
    },
    {
     "data": {
      "image/png": "[encoded data removed]",
      "text/plain": [
       "<Figure size 432x288 with 1 Axes>"
      ]
     },
     "metadata": {
      "needs_background": "light"
     },
     "output_type": "display_data"
    }
   ],
   "source": [
    "importance = lm_model.coef_\n",
    "# summarize feature importance\n",
    "for i,v in enumerate(importance):\n",
    "    print('Feature: %0d, Score: %.5f' % (i,v))\n",
    "# plot feature importance\n",
    "plt.bar([x for x in range(len(importance))], importance)\n",
    "plt.show()"
   ]
  },
  {
   "cell_type": "markdown",
   "id": "f895d3d1",
   "metadata": {},
   "source": [
    "# Random Forest "
   ]
  },
  {
   "cell_type": "code",
   "execution_count": 54,
   "id": "007394cd",
   "metadata": {},
   "outputs": [],
   "source": [
    "X = new.drop('price', axis =1)\n",
    "y = new['price']"
   ]
  },
  {
   "cell_type": "code",
   "execution_count": 55,
   "id": "72ca98ec",
   "metadata": {},
   "outputs": [],
   "source": [
    "X_train, X_test, y_train, y_test = train_test_split(X, y, test_size=0.2, random_state=101)"
   ]
  },
  {
   "cell_type": "code",
   "execution_count": 56,
   "id": "e1b56fdc",
   "metadata": {},
   "outputs": [],
   "source": [
    "# Performed hyperparameter tuning, and got the best parameters for random forest regressor\n",
    "rfc = RandomForestRegressor(n_estimators=100,\n",
    "                               criterion='squared_error',\n",
    "                               max_features=6,\n",
    "                               n_jobs=-1,\n",
    "                               random_state=1)"
   ]
  },
  {
   "cell_type": "code",
   "execution_count": 57,
   "id": "ade723fe",
   "metadata": {},
   "outputs": [
    {
     "name": "stdout",
     "output_type": "stream",
     "text": [
      "Cross-validated scores: [ -4344.97469945  -9909.72690226  -9844.98147366 -13194.01908794\n",
      "  -4802.1695604  -14881.13169307  -6175.67259358  -4721.76895938\n",
      "  -4707.16315136  -5625.30895811]\n"
     ]
    }
   ],
   "source": [
    "cv = KFold(n_splits=10, random_state=1, shuffle=True)\n",
    "scores = cross_val_score(rfc, X, y, cv=cv,scoring='neg_mean_squared_error')\n",
    "print(\"Cross-validated scores:\", scores)"
   ]
  },
  {
   "cell_type": "code",
   "execution_count": 58,
   "id": "7d5bbd8a",
   "metadata": {},
   "outputs": [
    {
     "name": "stdout",
     "output_type": "stream",
     "text": [
      "Cross validation MAE: -7820.6917079220975\n",
      "Cross validation RMSE: 88.43467480531659\n"
     ]
    }
   ],
   "source": [
    "print('Cross validation MAE:', mean(scores))\n",
    "print('Cross validation RMSE:', sqrt(mean(absolute(scores))))"
   ]
  },
  {
   "cell_type": "code",
   "execution_count": 59,
   "id": "3146e481",
   "metadata": {},
   "outputs": [
    {
     "data": {
      "text/html": [
       "<style>#sk-container-id-1 {color: black;background-color: white;}#sk-container-id-1 pre{padding: 0;}#sk-container-id-1 div.sk-toggleable {background-color: white;}#sk-container-id-1 label.sk-toggleable__label {cursor: pointer;display: block;width: 100%;margin-bottom: 0;padding: 0.3em;box-sizing: border-box;text-align: center;}#sk-container-id-1 label.sk-toggleable__label-arrow:before {content: \"▸\";float: left;margin-right: 0.25em;color: #696969;}#sk-container-id-1 label.sk-toggleable__label-arrow:hover:before {color: black;}#sk-container-id-1 div.sk-estimator:hover label.sk-toggleable__label-arrow:before {color: black;}#sk-container-id-1 div.sk-toggleable__content {max-height: 0;max-width: 0;overflow: hidden;text-align: left;background-color: #f0f8ff;}#sk-container-id-1 div.sk-toggleable__content pre {margin: 0.2em;color: black;border-radius: 0.25em;background-color: #f0f8ff;}#sk-container-id-1 input.sk-toggleable__control:checked~div.sk-toggleable__content {max-height: 200px;max-width: 100%;overflow: auto;}#sk-container-id-1 input.sk-toggleable__control:checked~label.sk-toggleable__label-arrow:before {content: \"▾\";}#sk-container-id-1 div.sk-estimator input.sk-toggleable__control:checked~label.sk-toggleable__label {background-color: #d4ebff;}#sk-container-id-1 div.sk-label input.sk-toggleable__control:checked~label.sk-toggleable__label {background-color: #d4ebff;}#sk-container-id-1 input.sk-hidden--visually {border: 0;clip: rect(1px 1px 1px 1px);clip: rect(1px, 1px, 1px, 1px);height: 1px;margin: -1px;overflow: hidden;padding: 0;position: absolute;width: 1px;}#sk-container-id-1 div.sk-estimator {font-family: monospace;background-color: #f0f8ff;border: 1px dotted black;border-radius: 0.25em;box-sizing: border-box;margin-bottom: 0.5em;}#sk-container-id-1 div.sk-estimator:hover {background-color: #d4ebff;}#sk-container-id-1 div.sk-parallel-item::after {content: \"\";width: 100%;border-bottom: 1px solid gray;flex-grow: 1;}#sk-container-id-1 div.sk-label:hover label.sk-toggleable__label {background-color: #d4ebff;}#sk-container-id-1 div.sk-serial::before {content: \"\";position: absolute;border-left: 1px solid gray;box-sizing: border-box;top: 0;bottom: 0;left: 50%;z-index: 0;}#sk-container-id-1 div.sk-serial {display: flex;flex-direction: column;align-items: center;background-color: white;padding-right: 0.2em;padding-left: 0.2em;position: relative;}#sk-container-id-1 div.sk-item {position: relative;z-index: 1;}#sk-container-id-1 div.sk-parallel {display: flex;align-items: stretch;justify-content: center;background-color: white;position: relative;}#sk-container-id-1 div.sk-item::before, #sk-container-id-1 div.sk-parallel-item::before {content: \"\";position: absolute;border-left: 1px solid gray;box-sizing: border-box;top: 0;bottom: 0;left: 50%;z-index: -1;}#sk-container-id-1 div.sk-parallel-item {display: flex;flex-direction: column;z-index: 1;position: relative;background-color: white;}#sk-container-id-1 div.sk-parallel-item:first-child::after {align-self: flex-end;width: 50%;}#sk-container-id-1 div.sk-parallel-item:last-child::after {align-self: flex-start;width: 50%;}#sk-container-id-1 div.sk-parallel-item:only-child::after {width: 0;}#sk-container-id-1 div.sk-dashed-wrapped {border: 1px dashed gray;margin: 0 0.4em 0.5em 0.4em;box-sizing: border-box;padding-bottom: 0.4em;background-color: white;}#sk-container-id-1 div.sk-label label {font-family: monospace;font-weight: bold;display: inline-block;line-height: 1.2em;}#sk-container-id-1 div.sk-label-container {text-align: center;}#sk-container-id-1 div.sk-container {/* jupyter's `normalize.less` sets `[hidden] { display: none; }` but bootstrap.min.css set `[hidden] { display: none !important; }` so we also need the `!important` here to be able to override the default hidden behavior on the sphinx rendered scikit-learn.org. See: https://github.com/scikit-learn/scikit-learn/issues/21755 */display: inline-block !important;position: relative;}#sk-container-id-1 div.sk-text-repr-fallback {display: none;}</style><div id=\"sk-container-id-1\" class=\"sk-top-container\"><div class=\"sk-text-repr-fallback\"><pre>RandomForestRegressor(max_features=6, n_jobs=-1, random_state=1)</pre><b>In a Jupyter environment, please rerun this cell to show the HTML representation or trust the notebook. <br />On GitHub, the HTML representation is unable to render, please try loading this page with nbviewer.org.</b></div><div class=\"sk-container\" hidden><div class=\"sk-item\"><div class=\"sk-estimator sk-toggleable\"><input class=\"sk-toggleable__control sk-hidden--visually\" id=\"sk-estimator-id-1\" type=\"checkbox\" checked><label for=\"sk-estimator-id-1\" class=\"sk-toggleable__label sk-toggleable__label-arrow\">RandomForestRegressor</label><div class=\"sk-toggleable__content\"><pre>RandomForestRegressor(max_features=6, n_jobs=-1, random_state=1)</pre></div></div></div></div></div>"
      ],
      "text/plain": [
       "RandomForestRegressor(max_features=6, n_jobs=-1, random_state=1)"
      ]
     },
     "execution_count": 59,
     "metadata": {},
     "output_type": "execute_result"
    }
   ],
   "source": [
    "rfc.fit(X_train,y_train)"
   ]
  },
  {
   "cell_type": "code",
   "execution_count": 60,
   "id": "64deb136",
   "metadata": {},
   "outputs": [],
   "source": [
    "predictions = rfc.predict(X_test)"
   ]
  },
  {
   "cell_type": "code",
   "execution_count": 61,
   "id": "a0568ee4",
   "metadata": {},
   "outputs": [
    {
     "name": "stdout",
     "output_type": "stream",
     "text": [
      "MAE: 37.25394921454702\n",
      "MSE: 5010.0763115343225\n",
      "RMSE: 70.78189253993088\n",
      "R2 score = 0.9\n"
     ]
    }
   ],
   "source": [
    "print('MAE:', metrics.mean_absolute_error(y_test, predictions))\n",
    "print('MSE:', metrics.mean_squared_error(y_test, predictions))\n",
    "print('RMSE:', np.sqrt(metrics.mean_squared_error(y_test, predictions)))\n",
    "print(\"R2 score =\", round(metrics.r2_score(y_test, predictions), 2))"
   ]
  },
  {
   "cell_type": "markdown",
   "id": "80d8f85b",
   "metadata": {},
   "source": [
    "# Predictive Modeling on different dataset"
   ]
  },
  {
   "cell_type": "code",
   "execution_count": 572,
   "id": "a9873b3b",
   "metadata": {},
   "outputs": [],
   "source": [
    "train = pd.read_csv('playoffs_train (1).csv')"
   ]
  },
  {
   "cell_type": "code",
   "execution_count": 573,
   "id": "27d24d39",
   "metadata": {},
   "outputs": [],
   "source": [
    "test = pd.read_csv('playoffs_test (1).csv')"
   ]
  },
  {
   "cell_type": "markdown",
   "id": "23ebed89",
   "metadata": {},
   "source": [
    "# Feature Engineering"
   ]
  },
  {
   "cell_type": "code",
   "execution_count": 574,
   "id": "e1af5ca9",
   "metadata": {},
   "outputs": [],
   "source": [
    "def latitude(value):\n",
    "    if value == 'Brooklyn':\n",
    "        return '40.650002'\n",
    "    if value == 'Manhattan':\n",
    "        return '40.776676'\n",
    "    if value == 'Queens':\n",
    "        return '40.742054'\n",
    "    if value == 'Staten Island':\n",
    "        return '40.579021'\n",
    "    if value == 'Bronx':\n",
    "        return '40.837048'\n",
    "\n",
    "train['neigh_lat'] = train['neighbourhood_group'].apply(latitude)\n",
    "\n",
    "\n",
    "def latitude(value):\n",
    "    if value == 'Brooklyn':\n",
    "        return '40.650002'\n",
    "    if value == 'Manhattan':\n",
    "        return '40.776676'\n",
    "    if value == 'Queens':\n",
    "        return '40.742054'\n",
    "    if value == 'Staten Island':\n",
    "        return '40.579021'\n",
    "    if value == 'Bronx':\n",
    "        return '40.837048'\n",
    "\n",
    "test['neigh_lat'] = test['neighbourhood_group'].apply(latitude)"
   ]
  },
  {
   "cell_type": "code",
   "execution_count": 575,
   "id": "8280a5df",
   "metadata": {},
   "outputs": [],
   "source": [
    "def longitude(value):\n",
    "    if value == 'Brooklyn':\n",
    "        return '-73.949997'\n",
    "    if value == 'Manhattan':\n",
    "        return '-73.971321'\n",
    "    if value == 'Queens':\n",
    "        return '-73.769417'\n",
    "    if value == 'Staten Island':\n",
    "        return '-74.151535'\n",
    "    if value == 'Bronx':\n",
    "        return '-73.865433'\n",
    "    \n",
    "train['neigh_long'] = train['neighbourhood_group'].apply(longitude)\n",
    "\n",
    "def longitude(value):\n",
    "    if value == 'Brooklyn':\n",
    "        return '-73.949997'\n",
    "    if value == 'Manhattan':\n",
    "        return '-73.971321'\n",
    "    if value == 'Queens':\n",
    "        return '-73.769417'\n",
    "    if value == 'Staten Island':\n",
    "        return '-74.151535'\n",
    "    if value == 'Bronx':\n",
    "        return '-73.865433'\n",
    "    \n",
    "test['neigh_long'] = test['neighbourhood_group'].apply(longitude)"
   ]
  },
  {
   "cell_type": "code",
   "execution_count": 576,
   "id": "19f0ee03",
   "metadata": {},
   "outputs": [],
   "source": [
    "from math import radians, cos, sin, asin, sqrt\n",
    "# Implement the formula below\n",
    "def distance_d(LaA, LaB, LoA, LoB):\n",
    "# The function \"radians\" is found in the math module, It's also used to convert radians to degrees.  \n",
    "   \n",
    "    # The \"Haversine formula\" is used.\n",
    "    D_Lo = LoB - LoA \n",
    "    D_La = LaB - LaA \n",
    "    P = sin(D_La / 2)**2 + cos(LaA) * cos(LaB) * sin(D_Lo / 2)**2  \n",
    "   \n",
    "    Q = 2 * asin(sqrt(P))   \n",
    "    # The earth's radius in kilometers.\n",
    "    R_km = 6371  \n",
    "# Then we'll compute the outcome.\n",
    "    return(Q * R_km)\n",
    "train['latitude']= train['latitude'].astype(float)\n",
    "train['neigh_lat']= train['neigh_lat'].astype(float)\n",
    "train['longitude']= train['longitude'].astype(float)\n",
    "train['neigh_long']= train['neigh_long'].astype(float)\n",
    "train['neigh_distance'] = train.apply(lambda x: distance_d(x.latitude, x.neigh_lat, x.longitude, x.neigh_long), axis=1)\n",
    "\n",
    "\n",
    "\n",
    "test['latitude']= test['latitude'].astype(float)\n",
    "test['neigh_lat']= test['neigh_lat'].astype(float)\n",
    "test['longitude']= test['longitude'].astype(float)\n",
    "test['neigh_long']= test['neigh_long'].astype(float)\n",
    "test['neigh_distance'] = test.apply(lambda x: distance_d(x.latitude, x.neigh_lat, x.longitude, x.neigh_long), axis=1)"
   ]
  },
  {
   "cell_type": "code",
   "execution_count": 577,
   "id": "077e8fac",
   "metadata": {},
   "outputs": [],
   "source": [
    "train[['nyc_lat', 'nyc_long']] = [40.758896,-73.985130]\n",
    "train['nycdistance'] = train.apply(lambda x: distance_d(x.latitude, x.nyc_lat, x.longitude, x.nyc_long), axis=1)\n",
    "\n",
    "\n",
    "test[['nyc_lat', 'nyc_long']] = [40.758896,-73.985130]\n",
    "test['nycdistance'] = test.apply(lambda x: distance_d(x.latitude, x.nyc_lat, x.longitude, x.nyc_long), axis=1)"
   ]
  },
  {
   "cell_type": "code",
   "execution_count": 578,
   "id": "f6110920",
   "metadata": {},
   "outputs": [],
   "source": [
    "train[['cen_lat', 'cen_long']] = [40.752655, -73.977295]\n",
    "train['cendistance'] = train.apply(lambda x: distance_d(x.latitude, x.cen_lat, x.longitude, x.cen_long), axis=1)\n",
    "\n",
    "\n",
    "test[['cen_lat', 'cen_long']] = [40.752655, -73.977295]\n",
    "test['cendistance'] = test.apply(lambda x: distance_d(x.latitude, x.cen_lat, x.longitude, x.cen_long), axis=1)"
   ]
  },
  {
   "cell_type": "code",
   "execution_count": 579,
   "id": "04d85a93",
   "metadata": {},
   "outputs": [],
   "source": [
    "train[['wall_lat', 'wall_long']] = [40.706005, -74.008827]\n",
    "train['walldistance'] = train.apply(lambda x: distance_d(x.latitude, x.wall_lat, x.longitude, x.wall_long), axis=1)\n",
    "\n",
    "\n",
    "test[['wall_lat', 'wall_long']] = [40.706005, -74.008827]\n",
    "test['walldistance'] = test.apply(lambda x: distance_d(x.latitude, x.wall_lat, x.longitude, x.wall_long), axis=1)"
   ]
  },
  {
   "cell_type": "code",
   "execution_count": 580,
   "id": "15fa0095",
   "metadata": {},
   "outputs": [],
   "source": [
    "train[['timesquare_lat', 'timesquare_long']] = [40.758896,-73.985130]\n",
    "test[['timesquare_lat', 'timesquare_long']] = [40.758896,-73.985130]\n",
    "\n",
    "train['timesquaredist'] = train.apply(lambda x: distance_d(x.latitude, x.timesquare_lat, x.longitude, x.timesquare_long), axis=1)\n",
    "test['timesquaredist'] = test.apply(lambda x: distance_d(x.latitude, x.timesquare_lat, x.longitude, x.timesquare_long), axis=1)"
   ]
  },
  {
   "cell_type": "code",
   "execution_count": 581,
   "id": "80080a40",
   "metadata": {},
   "outputs": [],
   "source": [
    "train[['empire_lat', 'empire_long']] = [40.748817,-73.985428]\n",
    "test[['empire_lat', 'empire_long']] = [40.748817,-73.985428]\n",
    "\n",
    "train['empiredist'] = train.apply(lambda x: distance_d(x.latitude, x.empire_lat, x.longitude, x.empire_long), axis=1)\n",
    "test['empiredist'] = test.apply(lambda x: distance_d(x.latitude, x.empire_lat, x.longitude, x.empire_long), axis=1)"
   ]
  },
  {
   "cell_type": "code",
   "execution_count": 582,
   "id": "dcf94b06",
   "metadata": {},
   "outputs": [],
   "source": [
    "le = LabelEncoder()\n",
    "\n",
    "train['neighbourhood']= le.fit_transform(train['neighbourhood'])\n",
    "\n",
    "test['neighbourhood']= le.fit_transform(test['neighbourhood'])\n"
   ]
  },
  {
   "cell_type": "code",
   "execution_count": 583,
   "id": "ba4919b7",
   "metadata": {},
   "outputs": [],
   "source": [
    "train['neighbourhood_group']= le.fit_transform(train['neighbourhood_group'])\n",
    "\n",
    "test['neighbourhood_group']= le.fit_transform(test['neighbourhood_group'])\n"
   ]
  },
  {
   "cell_type": "code",
   "execution_count": 584,
   "id": "2a7d97a7",
   "metadata": {},
   "outputs": [],
   "source": [
    "train['room_type']= le.fit_transform(train['room_type'])\n",
    "\n",
    "test['room_type']= le.fit_transform(test['room_type'])\n"
   ]
  },
  {
   "cell_type": "code",
   "execution_count": 585,
   "id": "39c3e0be",
   "metadata": {},
   "outputs": [],
   "source": [
    "train.drop(['id','host_id','name','host_name', 'nyc_lat',\n",
    "            'nyc_long', 'timesquare_lat', 'timesquare_long','empire_lat',\n",
    "            'empire_long'],axis=1,inplace=True)\n",
    "test.drop(['id','host_id','name','host_name', 'nyc_lat',\n",
    "            'nyc_long', 'timesquare_lat', 'timesquare_long','empire_lat',\n",
    "            'empire_long'],axis=1,inplace=True)"
   ]
  },
  {
   "cell_type": "code",
   "execution_count": 586,
   "id": "9cfe2796",
   "metadata": {},
   "outputs": [
    {
     "data": {
      "text/plain": [
       "Text(0.5, 1.0, 'train.corr()')"
      ]
     },
     "execution_count": 586,
     "metadata": {},
     "output_type": "execute_result"
    },
    {
     "data": {
      "image/png": "[encoded data removed]",
      "text/plain": [
       "<Figure size 1080x648 with 2 Axes>"
      ]
     },
     "metadata": {
      "needs_background": "light"
     },
     "output_type": "display_data"
    }
   ],
   "source": [
    "plt.figure(figsize=(15,9))\n",
    "sns.heatmap(train.corr(),cmap='coolwarm', annot = True)\n",
    "plt.title('train.corr()')"
   ]
  },
  {
   "cell_type": "markdown",
   "id": "2cb95a37",
   "metadata": {},
   "source": [
    "# Random Forest"
   ]
  },
  {
   "cell_type": "code",
   "execution_count": 78,
   "id": "dc5875b3",
   "metadata": {},
   "outputs": [],
   "source": [
    "X = train.drop(['price','neigh_long', 'nycdistance', 'neigh_lat', 'man_lat', 'man_long'], axis =1)\n",
    "y = train['price']\n",
    "X_train, X_test, y_train, y_test = train_test_split(X,y,test_size=0.3,random_state=101)"
   ]
  },
  {
   "cell_type": "code",
   "execution_count": 79,
   "id": "1ac49142",
   "metadata": {},
   "outputs": [],
   "source": [
    "# Performed hyperparameter tuning, and got the best parameters for random forest regressor\n",
    "rfc = RandomForestRegressor(n_estimators=100,\n",
    "                               criterion='squared_error',\n",
    "                               max_features=5,\n",
    "                               n_jobs=-1,\n",
    "                               random_state=1)"
   ]
  },
  {
   "cell_type": "code",
   "execution_count": 80,
   "id": "c285f9d1",
   "metadata": {},
   "outputs": [
    {
     "name": "stdout",
     "output_type": "stream",
     "text": [
      "Cross-validated scores: [-2959.66750564 -2788.20147756 -3003.7469706  -3136.19401316\n",
      " -3033.44858563 -3443.28554867 -3009.21991784 -3225.08728868\n",
      " -3279.87116157 -2952.19489814]\n"
     ]
    }
   ],
   "source": [
    "cv = KFold(n_splits=10, random_state=1, shuffle=True)\n",
    "scores = cross_val_score(rfc, X, y, cv=cv,scoring='neg_mean_squared_error')\n",
    "print(\"Cross-validated scores:\", scores)"
   ]
  },
  {
   "cell_type": "code",
   "execution_count": 81,
   "id": "8110375f",
   "metadata": {},
   "outputs": [
    {
     "data": {
      "text/plain": [
       "-3083.0917367477277"
      ]
     },
     "execution_count": 81,
     "metadata": {},
     "output_type": "execute_result"
    }
   ],
   "source": [
    "mean(scores)"
   ]
  },
  {
   "cell_type": "code",
   "execution_count": 82,
   "id": "b6e61a9d",
   "metadata": {},
   "outputs": [
    {
     "name": "stdout",
     "output_type": "stream",
     "text": [
      "Cross validation MAE: -3083.0917367477277\n",
      "Cross validation RMSE: 55.525595329971274\n"
     ]
    }
   ],
   "source": [
    "print('Cross validation MAE:', mean(scores))\n",
    "print('Cross validation RMSE:', sqrt(mean(absolute(scores))))"
   ]
  },
  {
   "cell_type": "markdown",
   "id": "86d89f81",
   "metadata": {},
   "source": [
    "# Decision Trees"
   ]
  },
  {
   "cell_type": "code",
   "execution_count": 611,
   "id": "2fa83ff1",
   "metadata": {},
   "outputs": [],
   "source": [
    "X = train.drop(['price','neigh_long', 'nycdistance','neigh_lat', 'cen_lat', 'wall_lat', 'wall_long','cen_long','empiredist'], axis =1)\n",
    "y = train['price']\n",
    "X_train, X_test, y_train, y_test = train_test_split(X,y,test_size=0.3,random_state=101)\n",
    "\n"
   ]
  },
  {
   "cell_type": "code",
   "execution_count": 612,
   "id": "d8e9f836",
   "metadata": {},
   "outputs": [
    {
     "data": {
      "text/html": [
       "<div>\n",
       "<style scoped>\n",
       "    .dataframe tbody tr th:only-of-type {\n",
       "        vertical-align: middle;\n",
       "    }\n",
       "\n",
       "    .dataframe tbody tr th {\n",
       "        vertical-align: top;\n",
       "    }\n",
       "\n",
       "    .dataframe thead th {\n",
       "        text-align: right;\n",
       "    }\n",
       "</style>\n",
       "<table border=\"1\" class=\"dataframe\">\n",
       "  <thead>\n",
       "    <tr style=\"text-align: right;\">\n",
       "      <th></th>\n",
       "      <th>neighbourhood_group</th>\n",
       "      <th>neighbourhood</th>\n",
       "      <th>latitude</th>\n",
       "      <th>longitude</th>\n",
       "      <th>room_type</th>\n",
       "      <th>floor</th>\n",
       "      <th>neigh_distance</th>\n",
       "      <th>cendistance</th>\n",
       "      <th>walldistance</th>\n",
       "      <th>timesquaredist</th>\n",
       "    </tr>\n",
       "  </thead>\n",
       "  <tbody>\n",
       "    <tr>\n",
       "      <th>0</th>\n",
       "      <td>0</td>\n",
       "      <td>54</td>\n",
       "      <td>40.69466</td>\n",
       "      <td>-73.97151</td>\n",
       "      <td>0</td>\n",
       "      <td>1</td>\n",
       "      <td>314.966380</td>\n",
       "      <td>371.294327</td>\n",
       "      <td>246.252893</td>\n",
       "      <td>418.226201</td>\n",
       "    </tr>\n",
       "    <tr>\n",
       "      <th>1</th>\n",
       "      <td>1</td>\n",
       "      <td>124</td>\n",
       "      <td>40.73545</td>\n",
       "      <td>-74.00686</td>\n",
       "      <td>0</td>\n",
       "      <td>16</td>\n",
       "      <td>346.232889</td>\n",
       "      <td>217.169690</td>\n",
       "      <td>188.006191</td>\n",
       "      <td>203.250564</td>\n",
       "    </tr>\n",
       "    <tr>\n",
       "      <th>2</th>\n",
       "      <td>0</td>\n",
       "      <td>116</td>\n",
       "      <td>40.66132</td>\n",
       "      <td>-73.99192</td>\n",
       "      <td>0</td>\n",
       "      <td>1</td>\n",
       "      <td>272.252020</td>\n",
       "      <td>589.171710</td>\n",
       "      <td>303.914328</td>\n",
       "      <td>623.133313</td>\n",
       "    </tr>\n",
       "    <tr>\n",
       "      <th>3</th>\n",
       "      <td>1</td>\n",
       "      <td>86</td>\n",
       "      <td>40.75357</td>\n",
       "      <td>-73.97313</td>\n",
       "      <td>1</td>\n",
       "      <td>16</td>\n",
       "      <td>147.656211</td>\n",
       "      <td>27.068650</td>\n",
       "      <td>378.034147</td>\n",
       "      <td>83.394628</td>\n",
       "    </tr>\n",
       "    <tr>\n",
       "      <th>4</th>\n",
       "      <td>0</td>\n",
       "      <td>20</td>\n",
       "      <td>40.70092</td>\n",
       "      <td>-73.92945</td>\n",
       "      <td>0</td>\n",
       "      <td>16</td>\n",
       "      <td>349.146038</td>\n",
       "      <td>447.584707</td>\n",
       "      <td>501.999126</td>\n",
       "      <td>510.582158</td>\n",
       "    </tr>\n",
       "    <tr>\n",
       "      <th>...</th>\n",
       "      <td>...</td>\n",
       "      <td>...</td>\n",
       "      <td>...</td>\n",
       "      <td>...</td>\n",
       "      <td>...</td>\n",
       "      <td>...</td>\n",
       "      <td>...</td>\n",
       "      <td>...</td>\n",
       "      <td>...</td>\n",
       "      <td>...</td>\n",
       "    </tr>\n",
       "    <tr>\n",
       "      <th>35568</th>\n",
       "      <td>0</td>\n",
       "      <td>126</td>\n",
       "      <td>40.71091</td>\n",
       "      <td>-73.96029</td>\n",
       "      <td>1</td>\n",
       "      <td>1</td>\n",
       "      <td>393.405945</td>\n",
       "      <td>286.932385</td>\n",
       "      <td>308.117021</td>\n",
       "      <td>343.838046</td>\n",
       "    </tr>\n",
       "    <tr>\n",
       "      <th>35569</th>\n",
       "      <td>1</td>\n",
       "      <td>123</td>\n",
       "      <td>40.83365</td>\n",
       "      <td>-73.94459</td>\n",
       "      <td>1</td>\n",
       "      <td>1</td>\n",
       "      <td>400.891699</td>\n",
       "      <td>556.389413</td>\n",
       "      <td>909.810827</td>\n",
       "      <td>541.633960</td>\n",
       "    </tr>\n",
       "    <tr>\n",
       "      <th>35570</th>\n",
       "      <td>1</td>\n",
       "      <td>42</td>\n",
       "      <td>40.78719</td>\n",
       "      <td>-73.95201</td>\n",
       "      <td>1</td>\n",
       "      <td>16</td>\n",
       "      <td>139.896602</td>\n",
       "      <td>272.447630</td>\n",
       "      <td>630.338208</td>\n",
       "      <td>277.149216</td>\n",
       "    </tr>\n",
       "    <tr>\n",
       "      <th>35571</th>\n",
       "      <td>0</td>\n",
       "      <td>116</td>\n",
       "      <td>40.64318</td>\n",
       "      <td>-74.01329</td>\n",
       "      <td>1</td>\n",
       "      <td>1</td>\n",
       "      <td>398.043177</td>\n",
       "      <td>733.435471</td>\n",
       "      <td>401.238858</td>\n",
       "      <td>758.306642</td>\n",
       "    </tr>\n",
       "    <tr>\n",
       "      <th>35572</th>\n",
       "      <td>0</td>\n",
       "      <td>55</td>\n",
       "      <td>40.62241</td>\n",
       "      <td>-74.02863</td>\n",
       "      <td>0</td>\n",
       "      <td>1</td>\n",
       "      <td>521.057597</td>\n",
       "      <td>890.432043</td>\n",
       "      <td>546.866024</td>\n",
       "      <td>911.639023</td>\n",
       "    </tr>\n",
       "  </tbody>\n",
       "</table>\n",
       "<p>35573 rows × 10 columns</p>\n",
       "</div>"
      ],
      "text/plain": [
       "       neighbourhood_group  neighbourhood  latitude  longitude  room_type  \\\n",
       "0                        0             54  40.69466  -73.97151          0   \n",
       "1                        1            124  40.73545  -74.00686          0   \n",
       "2                        0            116  40.66132  -73.99192          0   \n",
       "3                        1             86  40.75357  -73.97313          1   \n",
       "4                        0             20  40.70092  -73.92945          0   \n",
       "...                    ...            ...       ...        ...        ...   \n",
       "35568                    0            126  40.71091  -73.96029          1   \n",
       "35569                    1            123  40.83365  -73.94459          1   \n",
       "35570                    1             42  40.78719  -73.95201          1   \n",
       "35571                    0            116  40.64318  -74.01329          1   \n",
       "35572                    0             55  40.62241  -74.02863          0   \n",
       "\n",
       "       floor  neigh_distance  cendistance  walldistance  timesquaredist  \n",
       "0          1      314.966380   371.294327    246.252893      418.226201  \n",
       "1         16      346.232889   217.169690    188.006191      203.250564  \n",
       "2          1      272.252020   589.171710    303.914328      623.133313  \n",
       "3         16      147.656211    27.068650    378.034147       83.394628  \n",
       "4         16      349.146038   447.584707    501.999126      510.582158  \n",
       "...      ...             ...          ...           ...             ...  \n",
       "35568      1      393.405945   286.932385    308.117021      343.838046  \n",
       "35569      1      400.891699   556.389413    909.810827      541.633960  \n",
       "35570     16      139.896602   272.447630    630.338208      277.149216  \n",
       "35571      1      398.043177   733.435471    401.238858      758.306642  \n",
       "35572      1      521.057597   890.432043    546.866024      911.639023  \n",
       "\n",
       "[35573 rows x 10 columns]"
      ]
     },
     "execution_count": 612,
     "metadata": {},
     "output_type": "execute_result"
    }
   ],
   "source": [
    "X"
   ]
  },
  {
   "cell_type": "code",
   "execution_count": 613,
   "id": "d8ec69df",
   "metadata": {},
   "outputs": [],
   "source": [
    "parameters={\"splitter\":[\"best\",\"random\"],\n",
    "            \"max_depth\" : [3,5,7,9,11,12],\n",
    "           \"min_samples_leaf\":[0.001],\n",
    "           \"min_weight_fraction_leaf\":[0.1],\n",
    "           \"max_features\":[\"auto\",\"log2\",\"sqrt\"],\n",
    "           \"max_leaf_nodes\":[10,20,30,40,50,60] }"
   ]
  },
  {
   "cell_type": "code",
   "execution_count": 590,
   "id": "f1f873f2",
   "metadata": {},
   "outputs": [],
   "source": [
    "tuning_model=GridSearchCV(reg_decision_model,param_grid=parameters,scoring='neg_mean_squared_error',cv=3,verbose=3)"
   ]
  },
  {
   "cell_type": "code",
   "execution_count": 556,
   "id": "eb1f63c4",
   "metadata": {},
   "outputs": [
    {
     "name": "stdout",
     "output_type": "stream",
     "text": [
      "Fitting 3 folds for each of 216 candidates, totalling 648 fits\n",
      "[CV 1/3] END max_depth=3, max_features=auto, max_leaf_nodes=10, min_samples_leaf=0.001, min_weight_fraction_leaf=0.1, splitter=best;, score=-3514.059 total time=   0.0s\n",
      "[CV 2/3] END max_depth=3, max_features=auto, max_leaf_nodes=10, min_samples_leaf=0.001, min_weight_fraction_leaf=0.1, splitter=best;, score=-3591.287 total time=   0.0s\n",
      "[CV 3/3] END max_depth=3, max_features=auto, max_leaf_nodes=10, min_samples_leaf=0.001, min_weight_fraction_leaf=0.1, splitter=best;, score=-3556.942 total time=   0.0s\n",
      "[CV 1/3] END max_depth=3, max_features=auto, max_leaf_nodes=10, min_samples_leaf=0.001, min_weight_fraction_leaf=0.1, splitter=random;, score=-6835.468 total time=   0.0s\n",
      "[CV 2/3] END max_depth=3, max_features=auto, max_leaf_nodes=10, min_samples_leaf=0.001, min_weight_fraction_leaf=0.1, splitter=random;, score=-6763.774 total time=   0.0s\n",
      "[CV 3/3] END max_depth=3, max_features=auto, max_leaf_nodes=10, min_samples_leaf=0.001, min_weight_fraction_leaf=0.1, splitter=random;, score=-6579.454 total time=   0.0s\n",
      "[CV 1/3] END max_depth=3, max_features=auto, max_leaf_nodes=20, min_samples_leaf=0.001, min_weight_fraction_leaf=0.1, splitter=best;, score=-3514.059 total time=   0.0s\n",
      "[CV 2/3] END max_depth=3, max_features=auto, max_leaf_nodes=20, min_samples_leaf=0.001, min_weight_fraction_leaf=0.1, splitter=best;, score=-3591.287 total time=   0.0s\n"
     ]
    },
    {
     "name": "stderr",
     "output_type": "stream",
     "text": [
      "/opt/anaconda3/lib/python3.8/site-packages/sklearn/tree/_classes.py:306: FutureWarning: `max_features='auto'` has been deprecated in 1.1 and will be removed in 1.3. To keep the past behaviour, explicitly set `max_features=1.0'`.\n",
      "  warnings.warn(\n",
      "/opt/anaconda3/lib/python3.8/site-packages/sklearn/tree/_classes.py:306: FutureWarning: `max_features='auto'` has been deprecated in 1.1 and will be removed in 1.3. To keep the past behaviour, explicitly set `max_features=1.0'`.\n",
      "  warnings.warn(\n",
      "/opt/anaconda3/lib/python3.8/site-packages/sklearn/tree/_classes.py:306: FutureWarning: `max_features='auto'` has been deprecated in 1.1 and will be removed in 1.3. To keep the past behaviour, explicitly set `max_features=1.0'`.\n",
      "  warnings.warn(\n",
      "/opt/anaconda3/lib/python3.8/site-packages/sklearn/tree/_classes.py:306: FutureWarning: `max_features='auto'` has been deprecated in 1.1 and will be removed in 1.3. To keep the past behaviour, explicitly set `max_features=1.0'`.\n",
      "  warnings.warn(\n",
      "/opt/anaconda3/lib/python3.8/site-packages/sklearn/tree/_classes.py:306: FutureWarning: `max_features='auto'` has been deprecated in 1.1 and will be removed in 1.3. To keep the past behaviour, explicitly set `max_features=1.0'`.\n",
      "  warnings.warn(\n",
      "/opt/anaconda3/lib/python3.8/site-packages/sklearn/tree/_classes.py:306: FutureWarning: `max_features='auto'` has been deprecated in 1.1 and will be removed in 1.3. To keep the past behaviour, explicitly set `max_features=1.0'`.\n",
      "  warnings.warn(\n",
      "/opt/anaconda3/lib/python3.8/site-packages/sklearn/tree/_classes.py:306: FutureWarning: `max_features='auto'` has been deprecated in 1.1 and will be removed in 1.3. To keep the past behaviour, explicitly set `max_features=1.0'`.\n",
      "  warnings.warn(\n",
      "/opt/anaconda3/lib/python3.8/site-packages/sklearn/tree/_classes.py:306: FutureWarning: `max_features='auto'` has been deprecated in 1.1 and will be removed in 1.3. To keep the past behaviour, explicitly set `max_features=1.0'`.\n",
      "  warnings.warn(\n",
      "/opt/anaconda3/lib/python3.8/site-packages/sklearn/tree/_classes.py:306: FutureWarning: `max_features='auto'` has been deprecated in 1.1 and will be removed in 1.3. To keep the past behaviour, explicitly set `max_features=1.0'`.\n",
      "  warnings.warn(\n"
     ]
    },
    {
     "name": "stdout",
     "output_type": "stream",
     "text": [
      "[CV 3/3] END max_depth=3, max_features=auto, max_leaf_nodes=20, min_samples_leaf=0.001, min_weight_fraction_leaf=0.1, splitter=best;, score=-3556.942 total time=   0.0s\n",
      "[CV 1/3] END max_depth=3, max_features=auto, max_leaf_nodes=20, min_samples_leaf=0.001, min_weight_fraction_leaf=0.1, splitter=random;, score=-6358.205 total time=   0.0s\n",
      "[CV 2/3] END max_depth=3, max_features=auto, max_leaf_nodes=20, min_samples_leaf=0.001, min_weight_fraction_leaf=0.1, splitter=random;, score=-10814.118 total time=   0.0s\n",
      "[CV 3/3] END max_depth=3, max_features=auto, max_leaf_nodes=20, min_samples_leaf=0.001, min_weight_fraction_leaf=0.1, splitter=random;, score=-12146.141 total time=   0.0s\n",
      "[CV 1/3] END max_depth=3, max_features=auto, max_leaf_nodes=30, min_samples_leaf=0.001, min_weight_fraction_leaf=0.1, splitter=best;, score=-3514.059 total time=   0.0s\n",
      "[CV 2/3] END max_depth=3, max_features=auto, max_leaf_nodes=30, min_samples_leaf=0.001, min_weight_fraction_leaf=0.1, splitter=best;, score=-3591.287 total time=   0.0s\n",
      "[CV 3/3] END max_depth=3, max_features=auto, max_leaf_nodes=30, min_samples_leaf=0.001, min_weight_fraction_leaf=0.1, splitter=best;, score=-3556.942 total time=   0.0s\n",
      "[CV 1/3] END max_depth=3, max_features=auto, max_leaf_nodes=30, min_samples_leaf=0.001, min_weight_fraction_leaf=0.1, splitter=random;, score=-11172.063 total time=   0.0s\n",
      "[CV 2/3] END max_depth=3, max_features=auto, max_leaf_nodes=30, min_samples_leaf=0.001, min_weight_fraction_leaf=0.1, splitter=random;, score=-4171.306 total time=   0.0s\n",
      "[CV 3/3] END max_depth=3, max_features=auto, max_leaf_nodes=30, min_samples_leaf=0.001, min_weight_fraction_leaf=0.1, splitter=random;, score=-6008.316 total time=   0.0s\n",
      "[CV 1/3] END max_depth=3, max_features=auto, max_leaf_nodes=40, min_samples_leaf=0.001, min_weight_fraction_leaf=0.1, splitter=best;, score=-3514.059 total time=   0.0s\n"
     ]
    },
    {
     "name": "stderr",
     "output_type": "stream",
     "text": [
      "/opt/anaconda3/lib/python3.8/site-packages/sklearn/tree/_classes.py:306: FutureWarning: `max_features='auto'` has been deprecated in 1.1 and will be removed in 1.3. To keep the past behaviour, explicitly set `max_features=1.0'`.\n",
      "  warnings.warn(\n",
      "/opt/anaconda3/lib/python3.8/site-packages/sklearn/tree/_classes.py:306: FutureWarning: `max_features='auto'` has been deprecated in 1.1 and will be removed in 1.3. To keep the past behaviour, explicitly set `max_features=1.0'`.\n",
      "  warnings.warn(\n",
      "/opt/anaconda3/lib/python3.8/site-packages/sklearn/tree/_classes.py:306: FutureWarning: `max_features='auto'` has been deprecated in 1.1 and will be removed in 1.3. To keep the past behaviour, explicitly set `max_features=1.0'`.\n",
      "  warnings.warn(\n",
      "/opt/anaconda3/lib/python3.8/site-packages/sklearn/tree/_classes.py:306: FutureWarning: `max_features='auto'` has been deprecated in 1.1 and will be removed in 1.3. To keep the past behaviour, explicitly set `max_features=1.0'`.\n",
      "  warnings.warn(\n",
      "/opt/anaconda3/lib/python3.8/site-packages/sklearn/tree/_classes.py:306: FutureWarning: `max_features='auto'` has been deprecated in 1.1 and will be removed in 1.3. To keep the past behaviour, explicitly set `max_features=1.0'`.\n",
      "  warnings.warn(\n",
      "/opt/anaconda3/lib/python3.8/site-packages/sklearn/tree/_classes.py:306: FutureWarning: `max_features='auto'` has been deprecated in 1.1 and will be removed in 1.3. To keep the past behaviour, explicitly set `max_features=1.0'`.\n",
      "  warnings.warn(\n",
      "/opt/anaconda3/lib/python3.8/site-packages/sklearn/tree/_classes.py:306: FutureWarning: `max_features='auto'` has been deprecated in 1.1 and will be removed in 1.3. To keep the past behaviour, explicitly set `max_features=1.0'`.\n",
      "  warnings.warn(\n",
      "/opt/anaconda3/lib/python3.8/site-packages/sklearn/tree/_classes.py:306: FutureWarning: `max_features='auto'` has been deprecated in 1.1 and will be removed in 1.3. To keep the past behaviour, explicitly set `max_features=1.0'`.\n",
      "  warnings.warn(\n",
      "/opt/anaconda3/lib/python3.8/site-packages/sklearn/tree/_classes.py:306: FutureWarning: `max_features='auto'` has been deprecated in 1.1 and will be removed in 1.3. To keep the past behaviour, explicitly set `max_features=1.0'`.\n",
      "  warnings.warn(\n",
      "/opt/anaconda3/lib/python3.8/site-packages/sklearn/tree/_classes.py:306: FutureWarning: `max_features='auto'` has been deprecated in 1.1 and will be removed in 1.3. To keep the past behaviour, explicitly set `max_features=1.0'`.\n",
      "  warnings.warn(\n",
      "/opt/anaconda3/lib/python3.8/site-packages/sklearn/tree/_classes.py:306: FutureWarning: `max_features='auto'` has been deprecated in 1.1 and will be removed in 1.3. To keep the past behaviour, explicitly set `max_features=1.0'`.\n",
      "  warnings.warn(\n"
     ]
    },
    {
     "name": "stdout",
     "output_type": "stream",
     "text": [
      "[CV 2/3] END max_depth=3, max_features=auto, max_leaf_nodes=40, min_samples_leaf=0.001, min_weight_fraction_leaf=0.1, splitter=best;, score=-3591.287 total time=   0.0s\n",
      "[CV 3/3] END max_depth=3, max_features=auto, max_leaf_nodes=40, min_samples_leaf=0.001, min_weight_fraction_leaf=0.1, splitter=best;, score=-3556.942 total time=   0.0s\n",
      "[CV 1/3] END max_depth=3, max_features=auto, max_leaf_nodes=40, min_samples_leaf=0.001, min_weight_fraction_leaf=0.1, splitter=random;, score=-12982.394 total time=   0.0s\n",
      "[CV 2/3] END max_depth=3, max_features=auto, max_leaf_nodes=40, min_samples_leaf=0.001, min_weight_fraction_leaf=0.1, splitter=random;, score=-6675.756 total time=   0.0s\n",
      "[CV 3/3] END max_depth=3, max_features=auto, max_leaf_nodes=40, min_samples_leaf=0.001, min_weight_fraction_leaf=0.1, splitter=random;, score=-10069.946 total time=   0.0s\n",
      "[CV 1/3] END max_depth=3, max_features=auto, max_leaf_nodes=50, min_samples_leaf=0.001, min_weight_fraction_leaf=0.1, splitter=best;, score=-3514.059 total time=   0.0s\n",
      "[CV 2/3] END max_depth=3, max_features=auto, max_leaf_nodes=50, min_samples_leaf=0.001, min_weight_fraction_leaf=0.1, splitter=best;, score=-3591.287 total time=   0.0s\n",
      "[CV 3/3] END max_depth=3, max_features=auto, max_leaf_nodes=50, min_samples_leaf=0.001, min_weight_fraction_leaf=0.1, splitter=best;, score=-3556.942 total time=   0.0s\n",
      "[CV 1/3] END max_depth=3, max_features=auto, max_leaf_nodes=50, min_samples_leaf=0.001, min_weight_fraction_leaf=0.1, splitter=random;, score=-7276.314 total time=   0.0s\n",
      "[CV 2/3] END max_depth=3, max_features=auto, max_leaf_nodes=50, min_samples_leaf=0.001, min_weight_fraction_leaf=0.1, splitter=random;, score=-8614.277 total time=   0.0s\n",
      "[CV 3/3] END max_depth=3, max_features=auto, max_leaf_nodes=50, min_samples_leaf=0.001, min_weight_fraction_leaf=0.1, splitter=random;, score=-7313.588 total time=   0.0s\n"
     ]
    },
    {
     "name": "stderr",
     "output_type": "stream",
     "text": [
      "/opt/anaconda3/lib/python3.8/site-packages/sklearn/tree/_classes.py:306: FutureWarning: `max_features='auto'` has been deprecated in 1.1 and will be removed in 1.3. To keep the past behaviour, explicitly set `max_features=1.0'`.\n",
      "  warnings.warn(\n",
      "/opt/anaconda3/lib/python3.8/site-packages/sklearn/tree/_classes.py:306: FutureWarning: `max_features='auto'` has been deprecated in 1.1 and will be removed in 1.3. To keep the past behaviour, explicitly set `max_features=1.0'`.\n",
      "  warnings.warn(\n",
      "/opt/anaconda3/lib/python3.8/site-packages/sklearn/tree/_classes.py:306: FutureWarning: `max_features='auto'` has been deprecated in 1.1 and will be removed in 1.3. To keep the past behaviour, explicitly set `max_features=1.0'`.\n",
      "  warnings.warn(\n",
      "/opt/anaconda3/lib/python3.8/site-packages/sklearn/tree/_classes.py:306: FutureWarning: `max_features='auto'` has been deprecated in 1.1 and will be removed in 1.3. To keep the past behaviour, explicitly set `max_features=1.0'`.\n",
      "  warnings.warn(\n",
      "/opt/anaconda3/lib/python3.8/site-packages/sklearn/tree/_classes.py:306: FutureWarning: `max_features='auto'` has been deprecated in 1.1 and will be removed in 1.3. To keep the past behaviour, explicitly set `max_features=1.0'`.\n",
      "  warnings.warn(\n",
      "/opt/anaconda3/lib/python3.8/site-packages/sklearn/tree/_classes.py:306: FutureWarning: `max_features='auto'` has been deprecated in 1.1 and will be removed in 1.3. To keep the past behaviour, explicitly set `max_features=1.0'`.\n",
      "  warnings.warn(\n",
      "/opt/anaconda3/lib/python3.8/site-packages/sklearn/tree/_classes.py:306: FutureWarning: `max_features='auto'` has been deprecated in 1.1 and will be removed in 1.3. To keep the past behaviour, explicitly set `max_features=1.0'`.\n",
      "  warnings.warn(\n",
      "/opt/anaconda3/lib/python3.8/site-packages/sklearn/tree/_classes.py:306: FutureWarning: `max_features='auto'` has been deprecated in 1.1 and will be removed in 1.3. To keep the past behaviour, explicitly set `max_features=1.0'`.\n",
      "  warnings.warn(\n",
      "/opt/anaconda3/lib/python3.8/site-packages/sklearn/tree/_classes.py:306: FutureWarning: `max_features='auto'` has been deprecated in 1.1 and will be removed in 1.3. To keep the past behaviour, explicitly set `max_features=1.0'`.\n",
      "  warnings.warn(\n",
      "/opt/anaconda3/lib/python3.8/site-packages/sklearn/tree/_classes.py:306: FutureWarning: `max_features='auto'` has been deprecated in 1.1 and will be removed in 1.3. To keep the past behaviour, explicitly set `max_features=1.0'`.\n",
      "  warnings.warn(\n",
      "/opt/anaconda3/lib/python3.8/site-packages/sklearn/tree/_classes.py:306: FutureWarning: `max_features='auto'` has been deprecated in 1.1 and will be removed in 1.3. To keep the past behaviour, explicitly set `max_features=1.0'`.\n",
      "  warnings.warn(\n"
     ]
    },
    {
     "name": "stdout",
     "output_type": "stream",
     "text": [
      "[CV 1/3] END max_depth=3, max_features=auto, max_leaf_nodes=60, min_samples_leaf=0.001, min_weight_fraction_leaf=0.1, splitter=best;, score=-3514.059 total time=   0.0s\n",
      "[CV 2/3] END max_depth=3, max_features=auto, max_leaf_nodes=60, min_samples_leaf=0.001, min_weight_fraction_leaf=0.1, splitter=best;, score=-3591.287 total time=   0.0s\n",
      "[CV 3/3] END max_depth=3, max_features=auto, max_leaf_nodes=60, min_samples_leaf=0.001, min_weight_fraction_leaf=0.1, splitter=best;, score=-3556.942 total time=   0.0s\n",
      "[CV 1/3] END max_depth=3, max_features=auto, max_leaf_nodes=60, min_samples_leaf=0.001, min_weight_fraction_leaf=0.1, splitter=random;, score=-4441.038 total time=   0.0s\n",
      "[CV 2/3] END max_depth=3, max_features=auto, max_leaf_nodes=60, min_samples_leaf=0.001, min_weight_fraction_leaf=0.1, splitter=random;, score=-6730.280 total time=   0.0s\n",
      "[CV 3/3] END max_depth=3, max_features=auto, max_leaf_nodes=60, min_samples_leaf=0.001, min_weight_fraction_leaf=0.1, splitter=random;, score=-10681.858 total time=   0.0s\n",
      "[CV 1/3] END max_depth=3, max_features=log2, max_leaf_nodes=10, min_samples_leaf=0.001, min_weight_fraction_leaf=0.1, splitter=best;, score=-9765.122 total time=   0.0s\n",
      "[CV 2/3] END max_depth=3, max_features=log2, max_leaf_nodes=10, min_samples_leaf=0.001, min_weight_fraction_leaf=0.1, splitter=best;, score=-7756.502 total time=   0.0s\n",
      "[CV 3/3] END max_depth=3, max_features=log2, max_leaf_nodes=10, min_samples_leaf=0.001, min_weight_fraction_leaf=0.1, splitter=best;, score=-13352.406 total time=   0.0s\n",
      "[CV 1/3] END max_depth=3, max_features=log2, max_leaf_nodes=10, min_samples_leaf=0.001, min_weight_fraction_leaf=0.1, splitter=random;, score=-13668.385 total time=   0.0s\n",
      "[CV 2/3] END max_depth=3, max_features=log2, max_leaf_nodes=10, min_samples_leaf=0.001, min_weight_fraction_leaf=0.1, splitter=random;, score=-6973.669 total time=   0.0s\n",
      "[CV 3/3] END max_depth=3, max_features=log2, max_leaf_nodes=10, min_samples_leaf=0.001, min_weight_fraction_leaf=0.1, splitter=random;, score=-18959.472 total time=   0.0s\n",
      "[CV 1/3] END max_depth=3, max_features=log2, max_leaf_nodes=20, min_samples_leaf=0.001, min_weight_fraction_leaf=0.1, splitter=best;, score=-17164.326 total time=   0.0s\n",
      "[CV 2/3] END max_depth=3, max_features=log2, max_leaf_nodes=20, min_samples_leaf=0.001, min_weight_fraction_leaf=0.1, splitter=best;, score=-12600.311 total time=   0.0s\n"
     ]
    },
    {
     "name": "stderr",
     "output_type": "stream",
     "text": [
      "/opt/anaconda3/lib/python3.8/site-packages/sklearn/tree/_classes.py:306: FutureWarning: `max_features='auto'` has been deprecated in 1.1 and will be removed in 1.3. To keep the past behaviour, explicitly set `max_features=1.0'`.\n",
      "  warnings.warn(\n",
      "/opt/anaconda3/lib/python3.8/site-packages/sklearn/tree/_classes.py:306: FutureWarning: `max_features='auto'` has been deprecated in 1.1 and will be removed in 1.3. To keep the past behaviour, explicitly set `max_features=1.0'`.\n",
      "  warnings.warn(\n",
      "/opt/anaconda3/lib/python3.8/site-packages/sklearn/tree/_classes.py:306: FutureWarning: `max_features='auto'` has been deprecated in 1.1 and will be removed in 1.3. To keep the past behaviour, explicitly set `max_features=1.0'`.\n",
      "  warnings.warn(\n",
      "/opt/anaconda3/lib/python3.8/site-packages/sklearn/tree/_classes.py:306: FutureWarning: `max_features='auto'` has been deprecated in 1.1 and will be removed in 1.3. To keep the past behaviour, explicitly set `max_features=1.0'`.\n",
      "  warnings.warn(\n",
      "/opt/anaconda3/lib/python3.8/site-packages/sklearn/tree/_classes.py:306: FutureWarning: `max_features='auto'` has been deprecated in 1.1 and will be removed in 1.3. To keep the past behaviour, explicitly set `max_features=1.0'`.\n",
      "  warnings.warn(\n"
     ]
    },
    {
     "name": "stdout",
     "output_type": "stream",
     "text": [
      "[CV 3/3] END max_depth=3, max_features=log2, max_leaf_nodes=20, min_samples_leaf=0.001, min_weight_fraction_leaf=0.1, splitter=best;, score=-10289.147 total time=   0.0s\n",
      "[CV 1/3] END max_depth=3, max_features=log2, max_leaf_nodes=20, min_samples_leaf=0.001, min_weight_fraction_leaf=0.1, splitter=random;, score=-13474.915 total time=   0.0s\n",
      "[CV 2/3] END max_depth=3, max_features=log2, max_leaf_nodes=20, min_samples_leaf=0.001, min_weight_fraction_leaf=0.1, splitter=random;, score=-19685.498 total time=   0.0s\n",
      "[CV 3/3] END max_depth=3, max_features=log2, max_leaf_nodes=20, min_samples_leaf=0.001, min_weight_fraction_leaf=0.1, splitter=random;, score=-18407.467 total time=   0.0s\n",
      "[CV 1/3] END max_depth=3, max_features=log2, max_leaf_nodes=30, min_samples_leaf=0.001, min_weight_fraction_leaf=0.1, splitter=best;, score=-10571.097 total time=   0.0s\n",
      "[CV 2/3] END max_depth=3, max_features=log2, max_leaf_nodes=30, min_samples_leaf=0.001, min_weight_fraction_leaf=0.1, splitter=best;, score=-16562.893 total time=   0.0s\n",
      "[CV 3/3] END max_depth=3, max_features=log2, max_leaf_nodes=30, min_samples_leaf=0.001, min_weight_fraction_leaf=0.1, splitter=best;, score=-10189.283 total time=   0.0s\n",
      "[CV 1/3] END max_depth=3, max_features=log2, max_leaf_nodes=30, min_samples_leaf=0.001, min_weight_fraction_leaf=0.1, splitter=random;, score=-23387.429 total time=   0.0s\n",
      "[CV 2/3] END max_depth=3, max_features=log2, max_leaf_nodes=30, min_samples_leaf=0.001, min_weight_fraction_leaf=0.1, splitter=random;, score=-11927.307 total time=   0.0s\n",
      "[CV 3/3] END max_depth=3, max_features=log2, max_leaf_nodes=30, min_samples_leaf=0.001, min_weight_fraction_leaf=0.1, splitter=random;, score=-6606.278 total time=   0.0s\n",
      "[CV 1/3] END max_depth=3, max_features=log2, max_leaf_nodes=40, min_samples_leaf=0.001, min_weight_fraction_leaf=0.1, splitter=best;, score=-13818.356 total time=   0.0s\n",
      "[CV 2/3] END max_depth=3, max_features=log2, max_leaf_nodes=40, min_samples_leaf=0.001, min_weight_fraction_leaf=0.1, splitter=best;, score=-11681.513 total time=   0.0s\n",
      "[CV 3/3] END max_depth=3, max_features=log2, max_leaf_nodes=40, min_samples_leaf=0.001, min_weight_fraction_leaf=0.1, splitter=best;, score=-14144.924 total time=   0.0s\n",
      "[CV 1/3] END max_depth=3, max_features=log2, max_leaf_nodes=40, min_samples_leaf=0.001, min_weight_fraction_leaf=0.1, splitter=random;, score=-19859.806 total time=   0.0s\n",
      "[CV 2/3] END max_depth=3, max_features=log2, max_leaf_nodes=40, min_samples_leaf=0.001, min_weight_fraction_leaf=0.1, splitter=random;, score=-12436.331 total time=   0.0s\n",
      "[CV 3/3] END max_depth=3, max_features=log2, max_leaf_nodes=40, min_samples_leaf=0.001, min_weight_fraction_leaf=0.1, splitter=random;, score=-18423.953 total time=   0.0s\n",
      "[CV 1/3] END max_depth=3, max_features=log2, max_leaf_nodes=50, min_samples_leaf=0.001, min_weight_fraction_leaf=0.1, splitter=best;, score=-13114.578 total time=   0.0s\n",
      "[CV 2/3] END max_depth=3, max_features=log2, max_leaf_nodes=50, min_samples_leaf=0.001, min_weight_fraction_leaf=0.1, splitter=best;, score=-11696.777 total time=   0.0s\n",
      "[CV 3/3] END max_depth=3, max_features=log2, max_leaf_nodes=50, min_samples_leaf=0.001, min_weight_fraction_leaf=0.1, splitter=best;, score=-7896.190 total time=   0.0s\n",
      "[CV 1/3] END max_depth=3, max_features=log2, max_leaf_nodes=50, min_samples_leaf=0.001, min_weight_fraction_leaf=0.1, splitter=random;, score=-8727.833 total time=   0.0s\n",
      "[CV 2/3] END max_depth=3, max_features=log2, max_leaf_nodes=50, min_samples_leaf=0.001, min_weight_fraction_leaf=0.1, splitter=random;, score=-19817.279 total time=   0.0s\n",
      "[CV 3/3] END max_depth=3, max_features=log2, max_leaf_nodes=50, min_samples_leaf=0.001, min_weight_fraction_leaf=0.1, splitter=random;, score=-18312.397 total time=   0.0s\n",
      "[CV 1/3] END max_depth=3, max_features=log2, max_leaf_nodes=60, min_samples_leaf=0.001, min_weight_fraction_leaf=0.1, splitter=best;, score=-15951.201 total time=   0.0s\n",
      "[CV 2/3] END max_depth=3, max_features=log2, max_leaf_nodes=60, min_samples_leaf=0.001, min_weight_fraction_leaf=0.1, splitter=best;, score=-10516.774 total time=   0.0s\n",
      "[CV 3/3] END max_depth=3, max_features=log2, max_leaf_nodes=60, min_samples_leaf=0.001, min_weight_fraction_leaf=0.1, splitter=best;, score=-16671.637 total time=   0.0s\n",
      "[CV 1/3] END max_depth=3, max_features=log2, max_leaf_nodes=60, min_samples_leaf=0.001, min_weight_fraction_leaf=0.1, splitter=random;, score=-17720.373 total time=   0.0s\n",
      "[CV 2/3] END max_depth=3, max_features=log2, max_leaf_nodes=60, min_samples_leaf=0.001, min_weight_fraction_leaf=0.1, splitter=random;, score=-17173.045 total time=   0.0s\n",
      "[CV 3/3] END max_depth=3, max_features=log2, max_leaf_nodes=60, min_samples_leaf=0.001, min_weight_fraction_leaf=0.1, splitter=random;, score=-19476.086 total time=   0.0s\n",
      "[CV 1/3] END max_depth=3, max_features=sqrt, max_leaf_nodes=10, min_samples_leaf=0.001, min_weight_fraction_leaf=0.1, splitter=best;, score=-7427.051 total time=   0.0s\n",
      "[CV 2/3] END max_depth=3, max_features=sqrt, max_leaf_nodes=10, min_samples_leaf=0.001, min_weight_fraction_leaf=0.1, splitter=best;, score=-3790.928 total time=   0.0s\n",
      "[CV 3/3] END max_depth=3, max_features=sqrt, max_leaf_nodes=10, min_samples_leaf=0.001, min_weight_fraction_leaf=0.1, splitter=best;, score=-6507.088 total time=   0.0s\n",
      "[CV 1/3] END max_depth=3, max_features=sqrt, max_leaf_nodes=10, min_samples_leaf=0.001, min_weight_fraction_leaf=0.1, splitter=random;, score=-15394.483 total time=   0.0s\n",
      "[CV 2/3] END max_depth=3, max_features=sqrt, max_leaf_nodes=10, min_samples_leaf=0.001, min_weight_fraction_leaf=0.1, splitter=random;, score=-13145.304 total time=   0.0s\n",
      "[CV 3/3] END max_depth=3, max_features=sqrt, max_leaf_nodes=10, min_samples_leaf=0.001, min_weight_fraction_leaf=0.1, splitter=random;, score=-14633.779 total time=   0.0s\n",
      "[CV 1/3] END max_depth=3, max_features=sqrt, max_leaf_nodes=20, min_samples_leaf=0.001, min_weight_fraction_leaf=0.1, splitter=best;, score=-6423.000 total time=   0.0s\n",
      "[CV 2/3] END max_depth=3, max_features=sqrt, max_leaf_nodes=20, min_samples_leaf=0.001, min_weight_fraction_leaf=0.1, splitter=best;, score=-5496.590 total time=   0.0s\n",
      "[CV 3/3] END max_depth=3, max_features=sqrt, max_leaf_nodes=20, min_samples_leaf=0.001, min_weight_fraction_leaf=0.1, splitter=best;, score=-7156.320 total time=   0.0s\n",
      "[CV 1/3] END max_depth=3, max_features=sqrt, max_leaf_nodes=20, min_samples_leaf=0.001, min_weight_fraction_leaf=0.1, splitter=random;, score=-13952.252 total time=   0.0s\n",
      "[CV 2/3] END max_depth=3, max_features=sqrt, max_leaf_nodes=20, min_samples_leaf=0.001, min_weight_fraction_leaf=0.1, splitter=random;, score=-13610.251 total time=   0.0s\n",
      "[CV 3/3] END max_depth=3, max_features=sqrt, max_leaf_nodes=20, min_samples_leaf=0.001, min_weight_fraction_leaf=0.1, splitter=random;, score=-16097.741 total time=   0.0s\n",
      "[CV 1/3] END max_depth=3, max_features=sqrt, max_leaf_nodes=30, min_samples_leaf=0.001, min_weight_fraction_leaf=0.1, splitter=best;, score=-10560.725 total time=   0.0s\n",
      "[CV 2/3] END max_depth=3, max_features=sqrt, max_leaf_nodes=30, min_samples_leaf=0.001, min_weight_fraction_leaf=0.1, splitter=best;, score=-6793.042 total time=   0.0s\n",
      "[CV 3/3] END max_depth=3, max_features=sqrt, max_leaf_nodes=30, min_samples_leaf=0.001, min_weight_fraction_leaf=0.1, splitter=best;, score=-5062.431 total time=   0.0s\n",
      "[CV 1/3] END max_depth=3, max_features=sqrt, max_leaf_nodes=30, min_samples_leaf=0.001, min_weight_fraction_leaf=0.1, splitter=random;, score=-8442.947 total time=   0.0s\n",
      "[CV 2/3] END max_depth=3, max_features=sqrt, max_leaf_nodes=30, min_samples_leaf=0.001, min_weight_fraction_leaf=0.1, splitter=random;, score=-7151.241 total time=   0.0s\n",
      "[CV 3/3] END max_depth=3, max_features=sqrt, max_leaf_nodes=30, min_samples_leaf=0.001, min_weight_fraction_leaf=0.1, splitter=random;, score=-17067.456 total time=   0.0s\n",
      "[CV 1/3] END max_depth=3, max_features=sqrt, max_leaf_nodes=40, min_samples_leaf=0.001, min_weight_fraction_leaf=0.1, splitter=best;, score=-11837.342 total time=   0.0s\n",
      "[CV 2/3] END max_depth=3, max_features=sqrt, max_leaf_nodes=40, min_samples_leaf=0.001, min_weight_fraction_leaf=0.1, splitter=best;, score=-10752.997 total time=   0.0s\n",
      "[CV 3/3] END max_depth=3, max_features=sqrt, max_leaf_nodes=40, min_samples_leaf=0.001, min_weight_fraction_leaf=0.1, splitter=best;, score=-4097.008 total time=   0.0s\n",
      "[CV 1/3] END max_depth=3, max_features=sqrt, max_leaf_nodes=40, min_samples_leaf=0.001, min_weight_fraction_leaf=0.1, splitter=random;, score=-20870.822 total time=   0.0s\n",
      "[CV 2/3] END max_depth=3, max_features=sqrt, max_leaf_nodes=40, min_samples_leaf=0.001, min_weight_fraction_leaf=0.1, splitter=random;, score=-7330.770 total time=   0.0s\n",
      "[CV 3/3] END max_depth=3, max_features=sqrt, max_leaf_nodes=40, min_samples_leaf=0.001, min_weight_fraction_leaf=0.1, splitter=random;, score=-20440.033 total time=   0.0s\n",
      "[CV 1/3] END max_depth=3, max_features=sqrt, max_leaf_nodes=50, min_samples_leaf=0.001, min_weight_fraction_leaf=0.1, splitter=best;, score=-6533.956 total time=   0.0s\n",
      "[CV 2/3] END max_depth=3, max_features=sqrt, max_leaf_nodes=50, min_samples_leaf=0.001, min_weight_fraction_leaf=0.1, splitter=best;, score=-16734.438 total time=   0.0s\n",
      "[CV 3/3] END max_depth=3, max_features=sqrt, max_leaf_nodes=50, min_samples_leaf=0.001, min_weight_fraction_leaf=0.1, splitter=best;, score=-10500.846 total time=   0.0s\n",
      "[CV 1/3] END max_depth=3, max_features=sqrt, max_leaf_nodes=50, min_samples_leaf=0.001, min_weight_fraction_leaf=0.1, splitter=random;, score=-18293.434 total time=   0.0s\n",
      "[CV 2/3] END max_depth=3, max_features=sqrt, max_leaf_nodes=50, min_samples_leaf=0.001, min_weight_fraction_leaf=0.1, splitter=random;, score=-19335.330 total time=   0.0s\n",
      "[CV 3/3] END max_depth=3, max_features=sqrt, max_leaf_nodes=50, min_samples_leaf=0.001, min_weight_fraction_leaf=0.1, splitter=random;, score=-22339.148 total time=   0.0s\n",
      "[CV 1/3] END max_depth=3, max_features=sqrt, max_leaf_nodes=60, min_samples_leaf=0.001, min_weight_fraction_leaf=0.1, splitter=best;, score=-10727.230 total time=   0.0s\n",
      "[CV 2/3] END max_depth=3, max_features=sqrt, max_leaf_nodes=60, min_samples_leaf=0.001, min_weight_fraction_leaf=0.1, splitter=best;, score=-5541.462 total time=   0.0s\n",
      "[CV 3/3] END max_depth=3, max_features=sqrt, max_leaf_nodes=60, min_samples_leaf=0.001, min_weight_fraction_leaf=0.1, splitter=best;, score=-12863.593 total time=   0.0s\n",
      "[CV 1/3] END max_depth=3, max_features=sqrt, max_leaf_nodes=60, min_samples_leaf=0.001, min_weight_fraction_leaf=0.1, splitter=random;, score=-16381.697 total time=   0.0s\n",
      "[CV 2/3] END max_depth=3, max_features=sqrt, max_leaf_nodes=60, min_samples_leaf=0.001, min_weight_fraction_leaf=0.1, splitter=random;, score=-6362.463 total time=   0.0s\n",
      "[CV 3/3] END max_depth=3, max_features=sqrt, max_leaf_nodes=60, min_samples_leaf=0.001, min_weight_fraction_leaf=0.1, splitter=random;, score=-23543.854 total time=   0.0s\n",
      "[CV 1/3] END max_depth=5, max_features=auto, max_leaf_nodes=10, min_samples_leaf=0.001, min_weight_fraction_leaf=0.1, splitter=best;, score=-3472.693 total time=   0.0s\n",
      "[CV 2/3] END max_depth=5, max_features=auto, max_leaf_nodes=10, min_samples_leaf=0.001, min_weight_fraction_leaf=0.1, splitter=best;, score=-3550.671 total time=   0.0s\n",
      "[CV 3/3] END max_depth=5, max_features=auto, max_leaf_nodes=10, min_samples_leaf=0.001, min_weight_fraction_leaf=0.1, splitter=best;, score=-3522.901 total time=   0.0s\n"
     ]
    },
    {
     "name": "stderr",
     "output_type": "stream",
     "text": [
      "/opt/anaconda3/lib/python3.8/site-packages/sklearn/tree/_classes.py:306: FutureWarning: `max_features='auto'` has been deprecated in 1.1 and will be removed in 1.3. To keep the past behaviour, explicitly set `max_features=1.0'`.\n",
      "  warnings.warn(\n",
      "/opt/anaconda3/lib/python3.8/site-packages/sklearn/tree/_classes.py:306: FutureWarning: `max_features='auto'` has been deprecated in 1.1 and will be removed in 1.3. To keep the past behaviour, explicitly set `max_features=1.0'`.\n",
      "  warnings.warn(\n",
      "/opt/anaconda3/lib/python3.8/site-packages/sklearn/tree/_classes.py:306: FutureWarning: `max_features='auto'` has been deprecated in 1.1 and will be removed in 1.3. To keep the past behaviour, explicitly set `max_features=1.0'`.\n",
      "  warnings.warn(\n",
      "/opt/anaconda3/lib/python3.8/site-packages/sklearn/tree/_classes.py:306: FutureWarning: `max_features='auto'` has been deprecated in 1.1 and will be removed in 1.3. To keep the past behaviour, explicitly set `max_features=1.0'`.\n",
      "  warnings.warn(\n",
      "/opt/anaconda3/lib/python3.8/site-packages/sklearn/tree/_classes.py:306: FutureWarning: `max_features='auto'` has been deprecated in 1.1 and will be removed in 1.3. To keep the past behaviour, explicitly set `max_features=1.0'`.\n",
      "  warnings.warn(\n",
      "/opt/anaconda3/lib/python3.8/site-packages/sklearn/tree/_classes.py:306: FutureWarning: `max_features='auto'` has been deprecated in 1.1 and will be removed in 1.3. To keep the past behaviour, explicitly set `max_features=1.0'`.\n",
      "  warnings.warn(\n",
      "/opt/anaconda3/lib/python3.8/site-packages/sklearn/tree/_classes.py:306: FutureWarning: `max_features='auto'` has been deprecated in 1.1 and will be removed in 1.3. To keep the past behaviour, explicitly set `max_features=1.0'`.\n",
      "  warnings.warn(\n",
      "/opt/anaconda3/lib/python3.8/site-packages/sklearn/tree/_classes.py:306: FutureWarning: `max_features='auto'` has been deprecated in 1.1 and will be removed in 1.3. To keep the past behaviour, explicitly set `max_features=1.0'`.\n",
      "  warnings.warn(\n"
     ]
    },
    {
     "name": "stdout",
     "output_type": "stream",
     "text": [
      "[CV 1/3] END max_depth=5, max_features=auto, max_leaf_nodes=10, min_samples_leaf=0.001, min_weight_fraction_leaf=0.1, splitter=random;, score=-7540.072 total time=   0.0s\n",
      "[CV 2/3] END max_depth=5, max_features=auto, max_leaf_nodes=10, min_samples_leaf=0.001, min_weight_fraction_leaf=0.1, splitter=random;, score=-3854.629 total time=   0.0s\n",
      "[CV 3/3] END max_depth=5, max_features=auto, max_leaf_nodes=10, min_samples_leaf=0.001, min_weight_fraction_leaf=0.1, splitter=random;, score=-3719.039 total time=   0.0s\n",
      "[CV 1/3] END max_depth=5, max_features=auto, max_leaf_nodes=20, min_samples_leaf=0.001, min_weight_fraction_leaf=0.1, splitter=best;, score=-3472.693 total time=   0.0s\n",
      "[CV 2/3] END max_depth=5, max_features=auto, max_leaf_nodes=20, min_samples_leaf=0.001, min_weight_fraction_leaf=0.1, splitter=best;, score=-3550.671 total time=   0.0s\n",
      "[CV 3/3] END max_depth=5, max_features=auto, max_leaf_nodes=20, min_samples_leaf=0.001, min_weight_fraction_leaf=0.1, splitter=best;, score=-3522.901 total time=   0.0s\n",
      "[CV 1/3] END max_depth=5, max_features=auto, max_leaf_nodes=20, min_samples_leaf=0.001, min_weight_fraction_leaf=0.1, splitter=random;, score=-4502.402 total time=   0.0s\n",
      "[CV 2/3] END max_depth=5, max_features=auto, max_leaf_nodes=20, min_samples_leaf=0.001, min_weight_fraction_leaf=0.1, splitter=random;, score=-12558.885 total time=   0.0s\n",
      "[CV 3/3] END max_depth=5, max_features=auto, max_leaf_nodes=20, min_samples_leaf=0.001, min_weight_fraction_leaf=0.1, splitter=random;, score=-6838.115 total time=   0.0s\n",
      "[CV 1/3] END max_depth=5, max_features=auto, max_leaf_nodes=30, min_samples_leaf=0.001, min_weight_fraction_leaf=0.1, splitter=best;, score=-3472.693 total time=   0.0s\n"
     ]
    },
    {
     "name": "stderr",
     "output_type": "stream",
     "text": [
      "/opt/anaconda3/lib/python3.8/site-packages/sklearn/tree/_classes.py:306: FutureWarning: `max_features='auto'` has been deprecated in 1.1 and will be removed in 1.3. To keep the past behaviour, explicitly set `max_features=1.0'`.\n",
      "  warnings.warn(\n",
      "/opt/anaconda3/lib/python3.8/site-packages/sklearn/tree/_classes.py:306: FutureWarning: `max_features='auto'` has been deprecated in 1.1 and will be removed in 1.3. To keep the past behaviour, explicitly set `max_features=1.0'`.\n",
      "  warnings.warn(\n",
      "/opt/anaconda3/lib/python3.8/site-packages/sklearn/tree/_classes.py:306: FutureWarning: `max_features='auto'` has been deprecated in 1.1 and will be removed in 1.3. To keep the past behaviour, explicitly set `max_features=1.0'`.\n",
      "  warnings.warn(\n",
      "/opt/anaconda3/lib/python3.8/site-packages/sklearn/tree/_classes.py:306: FutureWarning: `max_features='auto'` has been deprecated in 1.1 and will be removed in 1.3. To keep the past behaviour, explicitly set `max_features=1.0'`.\n",
      "  warnings.warn(\n",
      "/opt/anaconda3/lib/python3.8/site-packages/sklearn/tree/_classes.py:306: FutureWarning: `max_features='auto'` has been deprecated in 1.1 and will be removed in 1.3. To keep the past behaviour, explicitly set `max_features=1.0'`.\n",
      "  warnings.warn(\n",
      "/opt/anaconda3/lib/python3.8/site-packages/sklearn/tree/_classes.py:306: FutureWarning: `max_features='auto'` has been deprecated in 1.1 and will be removed in 1.3. To keep the past behaviour, explicitly set `max_features=1.0'`.\n",
      "  warnings.warn(\n",
      "/opt/anaconda3/lib/python3.8/site-packages/sklearn/tree/_classes.py:306: FutureWarning: `max_features='auto'` has been deprecated in 1.1 and will be removed in 1.3. To keep the past behaviour, explicitly set `max_features=1.0'`.\n",
      "  warnings.warn(\n",
      "/opt/anaconda3/lib/python3.8/site-packages/sklearn/tree/_classes.py:306: FutureWarning: `max_features='auto'` has been deprecated in 1.1 and will be removed in 1.3. To keep the past behaviour, explicitly set `max_features=1.0'`.\n",
      "  warnings.warn(\n",
      "/opt/anaconda3/lib/python3.8/site-packages/sklearn/tree/_classes.py:306: FutureWarning: `max_features='auto'` has been deprecated in 1.1 and will be removed in 1.3. To keep the past behaviour, explicitly set `max_features=1.0'`.\n",
      "  warnings.warn(\n",
      "/opt/anaconda3/lib/python3.8/site-packages/sklearn/tree/_classes.py:306: FutureWarning: `max_features='auto'` has been deprecated in 1.1 and will be removed in 1.3. To keep the past behaviour, explicitly set `max_features=1.0'`.\n",
      "  warnings.warn(\n",
      "/opt/anaconda3/lib/python3.8/site-packages/sklearn/tree/_classes.py:306: FutureWarning: `max_features='auto'` has been deprecated in 1.1 and will be removed in 1.3. To keep the past behaviour, explicitly set `max_features=1.0'`.\n",
      "  warnings.warn(\n"
     ]
    },
    {
     "name": "stdout",
     "output_type": "stream",
     "text": [
      "[CV 2/3] END max_depth=5, max_features=auto, max_leaf_nodes=30, min_samples_leaf=0.001, min_weight_fraction_leaf=0.1, splitter=best;, score=-3550.671 total time=   0.0s\n",
      "[CV 3/3] END max_depth=5, max_features=auto, max_leaf_nodes=30, min_samples_leaf=0.001, min_weight_fraction_leaf=0.1, splitter=best;, score=-3522.901 total time=   0.0s\n",
      "[CV 1/3] END max_depth=5, max_features=auto, max_leaf_nodes=30, min_samples_leaf=0.001, min_weight_fraction_leaf=0.1, splitter=random;, score=-14337.005 total time=   0.0s\n",
      "[CV 2/3] END max_depth=5, max_features=auto, max_leaf_nodes=30, min_samples_leaf=0.001, min_weight_fraction_leaf=0.1, splitter=random;, score=-3837.231 total time=   0.0s\n",
      "[CV 3/3] END max_depth=5, max_features=auto, max_leaf_nodes=30, min_samples_leaf=0.001, min_weight_fraction_leaf=0.1, splitter=random;, score=-9463.610 total time=   0.0s\n",
      "[CV 1/3] END max_depth=5, max_features=auto, max_leaf_nodes=40, min_samples_leaf=0.001, min_weight_fraction_leaf=0.1, splitter=best;, score=-3472.693 total time=   0.0s\n",
      "[CV 2/3] END max_depth=5, max_features=auto, max_leaf_nodes=40, min_samples_leaf=0.001, min_weight_fraction_leaf=0.1, splitter=best;, score=-3550.671 total time=   0.0s\n",
      "[CV 3/3] END max_depth=5, max_features=auto, max_leaf_nodes=40, min_samples_leaf=0.001, min_weight_fraction_leaf=0.1, splitter=best;, score=-3522.901 total time=   0.0s\n",
      "[CV 1/3] END max_depth=5, max_features=auto, max_leaf_nodes=40, min_samples_leaf=0.001, min_weight_fraction_leaf=0.1, splitter=random;, score=-14942.977 total time=   0.0s\n",
      "[CV 2/3] END max_depth=5, max_features=auto, max_leaf_nodes=40, min_samples_leaf=0.001, min_weight_fraction_leaf=0.1, splitter=random;, score=-5712.847 total time=   0.0s\n",
      "[CV 3/3] END max_depth=5, max_features=auto, max_leaf_nodes=40, min_samples_leaf=0.001, min_weight_fraction_leaf=0.1, splitter=random;, score=-4033.514 total time=   0.0s\n"
     ]
    },
    {
     "name": "stderr",
     "output_type": "stream",
     "text": [
      "/opt/anaconda3/lib/python3.8/site-packages/sklearn/tree/_classes.py:306: FutureWarning: `max_features='auto'` has been deprecated in 1.1 and will be removed in 1.3. To keep the past behaviour, explicitly set `max_features=1.0'`.\n",
      "  warnings.warn(\n",
      "/opt/anaconda3/lib/python3.8/site-packages/sklearn/tree/_classes.py:306: FutureWarning: `max_features='auto'` has been deprecated in 1.1 and will be removed in 1.3. To keep the past behaviour, explicitly set `max_features=1.0'`.\n",
      "  warnings.warn(\n",
      "/opt/anaconda3/lib/python3.8/site-packages/sklearn/tree/_classes.py:306: FutureWarning: `max_features='auto'` has been deprecated in 1.1 and will be removed in 1.3. To keep the past behaviour, explicitly set `max_features=1.0'`.\n",
      "  warnings.warn(\n",
      "/opt/anaconda3/lib/python3.8/site-packages/sklearn/tree/_classes.py:306: FutureWarning: `max_features='auto'` has been deprecated in 1.1 and will be removed in 1.3. To keep the past behaviour, explicitly set `max_features=1.0'`.\n",
      "  warnings.warn(\n",
      "/opt/anaconda3/lib/python3.8/site-packages/sklearn/tree/_classes.py:306: FutureWarning: `max_features='auto'` has been deprecated in 1.1 and will be removed in 1.3. To keep the past behaviour, explicitly set `max_features=1.0'`.\n",
      "  warnings.warn(\n",
      "/opt/anaconda3/lib/python3.8/site-packages/sklearn/tree/_classes.py:306: FutureWarning: `max_features='auto'` has been deprecated in 1.1 and will be removed in 1.3. To keep the past behaviour, explicitly set `max_features=1.0'`.\n",
      "  warnings.warn(\n",
      "/opt/anaconda3/lib/python3.8/site-packages/sklearn/tree/_classes.py:306: FutureWarning: `max_features='auto'` has been deprecated in 1.1 and will be removed in 1.3. To keep the past behaviour, explicitly set `max_features=1.0'`.\n",
      "  warnings.warn(\n",
      "/opt/anaconda3/lib/python3.8/site-packages/sklearn/tree/_classes.py:306: FutureWarning: `max_features='auto'` has been deprecated in 1.1 and will be removed in 1.3. To keep the past behaviour, explicitly set `max_features=1.0'`.\n",
      "  warnings.warn(\n"
     ]
    },
    {
     "name": "stdout",
     "output_type": "stream",
     "text": [
      "[CV 1/3] END max_depth=5, max_features=auto, max_leaf_nodes=50, min_samples_leaf=0.001, min_weight_fraction_leaf=0.1, splitter=best;, score=-3472.693 total time=   0.0s\n",
      "[CV 2/3] END max_depth=5, max_features=auto, max_leaf_nodes=50, min_samples_leaf=0.001, min_weight_fraction_leaf=0.1, splitter=best;, score=-3550.671 total time=   0.0s\n",
      "[CV 3/3] END max_depth=5, max_features=auto, max_leaf_nodes=50, min_samples_leaf=0.001, min_weight_fraction_leaf=0.1, splitter=best;, score=-3522.901 total time=   0.0s\n",
      "[CV 1/3] END max_depth=5, max_features=auto, max_leaf_nodes=50, min_samples_leaf=0.001, min_weight_fraction_leaf=0.1, splitter=random;, score=-8361.114 total time=   0.0s\n",
      "[CV 2/3] END max_depth=5, max_features=auto, max_leaf_nodes=50, min_samples_leaf=0.001, min_weight_fraction_leaf=0.1, splitter=random;, score=-3993.964 total time=   0.0s\n",
      "[CV 3/3] END max_depth=5, max_features=auto, max_leaf_nodes=50, min_samples_leaf=0.001, min_weight_fraction_leaf=0.1, splitter=random;, score=-3747.368 total time=   0.0s\n",
      "[CV 1/3] END max_depth=5, max_features=auto, max_leaf_nodes=60, min_samples_leaf=0.001, min_weight_fraction_leaf=0.1, splitter=best;, score=-3472.693 total time=   0.0s\n",
      "[CV 2/3] END max_depth=5, max_features=auto, max_leaf_nodes=60, min_samples_leaf=0.001, min_weight_fraction_leaf=0.1, splitter=best;, score=-3550.671 total time=   0.0s\n"
     ]
    },
    {
     "name": "stderr",
     "output_type": "stream",
     "text": [
      "/opt/anaconda3/lib/python3.8/site-packages/sklearn/tree/_classes.py:306: FutureWarning: `max_features='auto'` has been deprecated in 1.1 and will be removed in 1.3. To keep the past behaviour, explicitly set `max_features=1.0'`.\n",
      "  warnings.warn(\n",
      "/opt/anaconda3/lib/python3.8/site-packages/sklearn/tree/_classes.py:306: FutureWarning: `max_features='auto'` has been deprecated in 1.1 and will be removed in 1.3. To keep the past behaviour, explicitly set `max_features=1.0'`.\n",
      "  warnings.warn(\n",
      "/opt/anaconda3/lib/python3.8/site-packages/sklearn/tree/_classes.py:306: FutureWarning: `max_features='auto'` has been deprecated in 1.1 and will be removed in 1.3. To keep the past behaviour, explicitly set `max_features=1.0'`.\n",
      "  warnings.warn(\n",
      "/opt/anaconda3/lib/python3.8/site-packages/sklearn/tree/_classes.py:306: FutureWarning: `max_features='auto'` has been deprecated in 1.1 and will be removed in 1.3. To keep the past behaviour, explicitly set `max_features=1.0'`.\n",
      "  warnings.warn(\n",
      "/opt/anaconda3/lib/python3.8/site-packages/sklearn/tree/_classes.py:306: FutureWarning: `max_features='auto'` has been deprecated in 1.1 and will be removed in 1.3. To keep the past behaviour, explicitly set `max_features=1.0'`.\n",
      "  warnings.warn(\n",
      "/opt/anaconda3/lib/python3.8/site-packages/sklearn/tree/_classes.py:306: FutureWarning: `max_features='auto'` has been deprecated in 1.1 and will be removed in 1.3. To keep the past behaviour, explicitly set `max_features=1.0'`.\n",
      "  warnings.warn(\n",
      "/opt/anaconda3/lib/python3.8/site-packages/sklearn/tree/_classes.py:306: FutureWarning: `max_features='auto'` has been deprecated in 1.1 and will be removed in 1.3. To keep the past behaviour, explicitly set `max_features=1.0'`.\n",
      "  warnings.warn(\n",
      "/opt/anaconda3/lib/python3.8/site-packages/sklearn/tree/_classes.py:306: FutureWarning: `max_features='auto'` has been deprecated in 1.1 and will be removed in 1.3. To keep the past behaviour, explicitly set `max_features=1.0'`.\n",
      "  warnings.warn(\n",
      "/opt/anaconda3/lib/python3.8/site-packages/sklearn/tree/_classes.py:306: FutureWarning: `max_features='auto'` has been deprecated in 1.1 and will be removed in 1.3. To keep the past behaviour, explicitly set `max_features=1.0'`.\n",
      "  warnings.warn(\n"
     ]
    },
    {
     "name": "stdout",
     "output_type": "stream",
     "text": [
      "[CV 3/3] END max_depth=5, max_features=auto, max_leaf_nodes=60, min_samples_leaf=0.001, min_weight_fraction_leaf=0.1, splitter=best;, score=-3522.901 total time=   0.0s\n",
      "[CV 1/3] END max_depth=5, max_features=auto, max_leaf_nodes=60, min_samples_leaf=0.001, min_weight_fraction_leaf=0.1, splitter=random;, score=-6853.732 total time=   0.0s\n",
      "[CV 2/3] END max_depth=5, max_features=auto, max_leaf_nodes=60, min_samples_leaf=0.001, min_weight_fraction_leaf=0.1, splitter=random;, score=-3820.080 total time=   0.0s\n",
      "[CV 3/3] END max_depth=5, max_features=auto, max_leaf_nodes=60, min_samples_leaf=0.001, min_weight_fraction_leaf=0.1, splitter=random;, score=-9769.418 total time=   0.0s\n",
      "[CV 1/3] END max_depth=5, max_features=log2, max_leaf_nodes=10, min_samples_leaf=0.001, min_weight_fraction_leaf=0.1, splitter=best;, score=-14711.993 total time=   0.0s\n",
      "[CV 2/3] END max_depth=5, max_features=log2, max_leaf_nodes=10, min_samples_leaf=0.001, min_weight_fraction_leaf=0.1, splitter=best;, score=-10250.032 total time=   0.0s\n",
      "[CV 3/3] END max_depth=5, max_features=log2, max_leaf_nodes=10, min_samples_leaf=0.001, min_weight_fraction_leaf=0.1, splitter=best;, score=-13338.943 total time=   0.0s\n",
      "[CV 1/3] END max_depth=5, max_features=log2, max_leaf_nodes=10, min_samples_leaf=0.001, min_weight_fraction_leaf=0.1, splitter=random;, score=-17249.602 total time=   0.0s\n",
      "[CV 2/3] END max_depth=5, max_features=log2, max_leaf_nodes=10, min_samples_leaf=0.001, min_weight_fraction_leaf=0.1, splitter=random;, score=-14562.009 total time=   0.0s\n",
      "[CV 3/3] END max_depth=5, max_features=log2, max_leaf_nodes=10, min_samples_leaf=0.001, min_weight_fraction_leaf=0.1, splitter=random;, score=-16946.460 total time=   0.0s\n",
      "[CV 1/3] END max_depth=5, max_features=log2, max_leaf_nodes=20, min_samples_leaf=0.001, min_weight_fraction_leaf=0.1, splitter=best;, score=-10529.681 total time=   0.0s\n",
      "[CV 2/3] END max_depth=5, max_features=log2, max_leaf_nodes=20, min_samples_leaf=0.001, min_weight_fraction_leaf=0.1, splitter=best;, score=-15682.339 total time=   0.0s\n",
      "[CV 3/3] END max_depth=5, max_features=log2, max_leaf_nodes=20, min_samples_leaf=0.001, min_weight_fraction_leaf=0.1, splitter=best;, score=-6958.436 total time=   0.0s\n",
      "[CV 1/3] END max_depth=5, max_features=log2, max_leaf_nodes=20, min_samples_leaf=0.001, min_weight_fraction_leaf=0.1, splitter=random;, score=-19130.944 total time=   0.0s\n",
      "[CV 2/3] END max_depth=5, max_features=log2, max_leaf_nodes=20, min_samples_leaf=0.001, min_weight_fraction_leaf=0.1, splitter=random;, score=-15687.997 total time=   0.0s\n",
      "[CV 3/3] END max_depth=5, max_features=log2, max_leaf_nodes=20, min_samples_leaf=0.001, min_weight_fraction_leaf=0.1, splitter=random;, score=-6576.980 total time=   0.0s\n",
      "[CV 1/3] END max_depth=5, max_features=log2, max_leaf_nodes=30, min_samples_leaf=0.001, min_weight_fraction_leaf=0.1, splitter=best;, score=-13128.583 total time=   0.0s\n",
      "[CV 2/3] END max_depth=5, max_features=log2, max_leaf_nodes=30, min_samples_leaf=0.001, min_weight_fraction_leaf=0.1, splitter=best;, score=-5070.956 total time=   0.0s\n",
      "[CV 3/3] END max_depth=5, max_features=log2, max_leaf_nodes=30, min_samples_leaf=0.001, min_weight_fraction_leaf=0.1, splitter=best;, score=-7690.681 total time=   0.0s\n",
      "[CV 1/3] END max_depth=5, max_features=log2, max_leaf_nodes=30, min_samples_leaf=0.001, min_weight_fraction_leaf=0.1, splitter=random;, score=-10281.067 total time=   0.0s\n",
      "[CV 2/3] END max_depth=5, max_features=log2, max_leaf_nodes=30, min_samples_leaf=0.001, min_weight_fraction_leaf=0.1, splitter=random;, score=-11102.341 total time=   0.0s\n",
      "[CV 3/3] END max_depth=5, max_features=log2, max_leaf_nodes=30, min_samples_leaf=0.001, min_weight_fraction_leaf=0.1, splitter=random;, score=-13841.209 total time=   0.0s\n",
      "[CV 1/3] END max_depth=5, max_features=log2, max_leaf_nodes=40, min_samples_leaf=0.001, min_weight_fraction_leaf=0.1, splitter=best;, score=-11736.559 total time=   0.0s\n",
      "[CV 2/3] END max_depth=5, max_features=log2, max_leaf_nodes=40, min_samples_leaf=0.001, min_weight_fraction_leaf=0.1, splitter=best;, score=-13893.621 total time=   0.0s\n",
      "[CV 3/3] END max_depth=5, max_features=log2, max_leaf_nodes=40, min_samples_leaf=0.001, min_weight_fraction_leaf=0.1, splitter=best;, score=-6366.033 total time=   0.0s\n",
      "[CV 1/3] END max_depth=5, max_features=log2, max_leaf_nodes=40, min_samples_leaf=0.001, min_weight_fraction_leaf=0.1, splitter=random;, score=-11222.660 total time=   0.0s\n",
      "[CV 2/3] END max_depth=5, max_features=log2, max_leaf_nodes=40, min_samples_leaf=0.001, min_weight_fraction_leaf=0.1, splitter=random;, score=-8588.218 total time=   0.0s\n",
      "[CV 3/3] END max_depth=5, max_features=log2, max_leaf_nodes=40, min_samples_leaf=0.001, min_weight_fraction_leaf=0.1, splitter=random;, score=-13571.062 total time=   0.0s\n",
      "[CV 1/3] END max_depth=5, max_features=log2, max_leaf_nodes=50, min_samples_leaf=0.001, min_weight_fraction_leaf=0.1, splitter=best;, score=-11513.834 total time=   0.0s\n",
      "[CV 2/3] END max_depth=5, max_features=log2, max_leaf_nodes=50, min_samples_leaf=0.001, min_weight_fraction_leaf=0.1, splitter=best;, score=-17146.425 total time=   0.0s\n",
      "[CV 3/3] END max_depth=5, max_features=log2, max_leaf_nodes=50, min_samples_leaf=0.001, min_weight_fraction_leaf=0.1, splitter=best;, score=-6182.387 total time=   0.0s\n",
      "[CV 1/3] END max_depth=5, max_features=log2, max_leaf_nodes=50, min_samples_leaf=0.001, min_weight_fraction_leaf=0.1, splitter=random;, score=-21912.399 total time=   0.0s\n",
      "[CV 2/3] END max_depth=5, max_features=log2, max_leaf_nodes=50, min_samples_leaf=0.001, min_weight_fraction_leaf=0.1, splitter=random;, score=-19474.980 total time=   0.0s\n",
      "[CV 3/3] END max_depth=5, max_features=log2, max_leaf_nodes=50, min_samples_leaf=0.001, min_weight_fraction_leaf=0.1, splitter=random;, score=-15654.068 total time=   0.0s\n",
      "[CV 1/3] END max_depth=5, max_features=log2, max_leaf_nodes=60, min_samples_leaf=0.001, min_weight_fraction_leaf=0.1, splitter=best;, score=-6910.685 total time=   0.0s\n",
      "[CV 2/3] END max_depth=5, max_features=log2, max_leaf_nodes=60, min_samples_leaf=0.001, min_weight_fraction_leaf=0.1, splitter=best;, score=-10089.953 total time=   0.0s\n",
      "[CV 3/3] END max_depth=5, max_features=log2, max_leaf_nodes=60, min_samples_leaf=0.001, min_weight_fraction_leaf=0.1, splitter=best;, score=-6300.786 total time=   0.0s\n",
      "[CV 1/3] END max_depth=5, max_features=log2, max_leaf_nodes=60, min_samples_leaf=0.001, min_weight_fraction_leaf=0.1, splitter=random;, score=-15926.361 total time=   0.0s\n",
      "[CV 2/3] END max_depth=5, max_features=log2, max_leaf_nodes=60, min_samples_leaf=0.001, min_weight_fraction_leaf=0.1, splitter=random;, score=-17098.581 total time=   0.0s\n",
      "[CV 3/3] END max_depth=5, max_features=log2, max_leaf_nodes=60, min_samples_leaf=0.001, min_weight_fraction_leaf=0.1, splitter=random;, score=-9949.508 total time=   0.0s\n",
      "[CV 1/3] END max_depth=5, max_features=sqrt, max_leaf_nodes=10, min_samples_leaf=0.001, min_weight_fraction_leaf=0.1, splitter=best;, score=-4070.354 total time=   0.0s\n",
      "[CV 2/3] END max_depth=5, max_features=sqrt, max_leaf_nodes=10, min_samples_leaf=0.001, min_weight_fraction_leaf=0.1, splitter=best;, score=-11524.401 total time=   0.0s\n",
      "[CV 3/3] END max_depth=5, max_features=sqrt, max_leaf_nodes=10, min_samples_leaf=0.001, min_weight_fraction_leaf=0.1, splitter=best;, score=-11544.801 total time=   0.0s\n",
      "[CV 1/3] END max_depth=5, max_features=sqrt, max_leaf_nodes=10, min_samples_leaf=0.001, min_weight_fraction_leaf=0.1, splitter=random;, score=-12851.076 total time=   0.0s\n",
      "[CV 2/3] END max_depth=5, max_features=sqrt, max_leaf_nodes=10, min_samples_leaf=0.001, min_weight_fraction_leaf=0.1, splitter=random;, score=-13145.720 total time=   0.0s\n",
      "[CV 3/3] END max_depth=5, max_features=sqrt, max_leaf_nodes=10, min_samples_leaf=0.001, min_weight_fraction_leaf=0.1, splitter=random;, score=-20058.625 total time=   0.0s\n",
      "[CV 1/3] END max_depth=5, max_features=sqrt, max_leaf_nodes=20, min_samples_leaf=0.001, min_weight_fraction_leaf=0.1, splitter=best;, score=-5214.774 total time=   0.0s\n",
      "[CV 2/3] END max_depth=5, max_features=sqrt, max_leaf_nodes=20, min_samples_leaf=0.001, min_weight_fraction_leaf=0.1, splitter=best;, score=-11288.427 total time=   0.0s\n",
      "[CV 3/3] END max_depth=5, max_features=sqrt, max_leaf_nodes=20, min_samples_leaf=0.001, min_weight_fraction_leaf=0.1, splitter=best;, score=-9456.396 total time=   0.0s\n",
      "[CV 1/3] END max_depth=5, max_features=sqrt, max_leaf_nodes=20, min_samples_leaf=0.001, min_weight_fraction_leaf=0.1, splitter=random;, score=-14027.393 total time=   0.0s\n",
      "[CV 2/3] END max_depth=5, max_features=sqrt, max_leaf_nodes=20, min_samples_leaf=0.001, min_weight_fraction_leaf=0.1, splitter=random;, score=-7329.858 total time=   0.0s\n",
      "[CV 3/3] END max_depth=5, max_features=sqrt, max_leaf_nodes=20, min_samples_leaf=0.001, min_weight_fraction_leaf=0.1, splitter=random;, score=-14544.800 total time=   0.0s\n",
      "[CV 1/3] END max_depth=5, max_features=sqrt, max_leaf_nodes=30, min_samples_leaf=0.001, min_weight_fraction_leaf=0.1, splitter=best;, score=-12768.062 total time=   0.0s\n",
      "[CV 2/3] END max_depth=5, max_features=sqrt, max_leaf_nodes=30, min_samples_leaf=0.001, min_weight_fraction_leaf=0.1, splitter=best;, score=-7054.997 total time=   0.0s\n",
      "[CV 3/3] END max_depth=5, max_features=sqrt, max_leaf_nodes=30, min_samples_leaf=0.001, min_weight_fraction_leaf=0.1, splitter=best;, score=-5002.994 total time=   0.0s\n",
      "[CV 1/3] END max_depth=5, max_features=sqrt, max_leaf_nodes=30, min_samples_leaf=0.001, min_weight_fraction_leaf=0.1, splitter=random;, score=-23387.429 total time=   0.0s\n",
      "[CV 2/3] END max_depth=5, max_features=sqrt, max_leaf_nodes=30, min_samples_leaf=0.001, min_weight_fraction_leaf=0.1, splitter=random;, score=-19306.627 total time=   0.0s\n",
      "[CV 3/3] END max_depth=5, max_features=sqrt, max_leaf_nodes=30, min_samples_leaf=0.001, min_weight_fraction_leaf=0.1, splitter=random;, score=-15131.890 total time=   0.0s\n",
      "[CV 1/3] END max_depth=5, max_features=sqrt, max_leaf_nodes=40, min_samples_leaf=0.001, min_weight_fraction_leaf=0.1, splitter=best;, score=-12900.981 total time=   0.0s\n",
      "[CV 2/3] END max_depth=5, max_features=sqrt, max_leaf_nodes=40, min_samples_leaf=0.001, min_weight_fraction_leaf=0.1, splitter=best;, score=-15594.478 total time=   0.0s\n",
      "[CV 3/3] END max_depth=5, max_features=sqrt, max_leaf_nodes=40, min_samples_leaf=0.001, min_weight_fraction_leaf=0.1, splitter=best;, score=-8444.000 total time=   0.0s\n",
      "[CV 1/3] END max_depth=5, max_features=sqrt, max_leaf_nodes=40, min_samples_leaf=0.001, min_weight_fraction_leaf=0.1, splitter=random;, score=-16642.540 total time=   0.0s\n",
      "[CV 2/3] END max_depth=5, max_features=sqrt, max_leaf_nodes=40, min_samples_leaf=0.001, min_weight_fraction_leaf=0.1, splitter=random;, score=-7076.284 total time=   0.0s\n",
      "[CV 3/3] END max_depth=5, max_features=sqrt, max_leaf_nodes=40, min_samples_leaf=0.001, min_weight_fraction_leaf=0.1, splitter=random;, score=-8032.025 total time=   0.0s\n",
      "[CV 1/3] END max_depth=5, max_features=sqrt, max_leaf_nodes=50, min_samples_leaf=0.001, min_weight_fraction_leaf=0.1, splitter=best;, score=-7438.580 total time=   0.0s\n",
      "[CV 2/3] END max_depth=5, max_features=sqrt, max_leaf_nodes=50, min_samples_leaf=0.001, min_weight_fraction_leaf=0.1, splitter=best;, score=-11601.466 total time=   0.0s\n",
      "[CV 3/3] END max_depth=5, max_features=sqrt, max_leaf_nodes=50, min_samples_leaf=0.001, min_weight_fraction_leaf=0.1, splitter=best;, score=-11521.992 total time=   0.0s\n",
      "[CV 1/3] END max_depth=5, max_features=sqrt, max_leaf_nodes=50, min_samples_leaf=0.001, min_weight_fraction_leaf=0.1, splitter=random;, score=-10855.283 total time=   0.0s\n",
      "[CV 2/3] END max_depth=5, max_features=sqrt, max_leaf_nodes=50, min_samples_leaf=0.001, min_weight_fraction_leaf=0.1, splitter=random;, score=-5767.304 total time=   0.0s\n",
      "[CV 3/3] END max_depth=5, max_features=sqrt, max_leaf_nodes=50, min_samples_leaf=0.001, min_weight_fraction_leaf=0.1, splitter=random;, score=-6827.128 total time=   0.0s\n",
      "[CV 1/3] END max_depth=5, max_features=sqrt, max_leaf_nodes=60, min_samples_leaf=0.001, min_weight_fraction_leaf=0.1, splitter=best;, score=-7351.464 total time=   0.0s\n",
      "[CV 2/3] END max_depth=5, max_features=sqrt, max_leaf_nodes=60, min_samples_leaf=0.001, min_weight_fraction_leaf=0.1, splitter=best;, score=-12525.683 total time=   0.0s\n",
      "[CV 3/3] END max_depth=5, max_features=sqrt, max_leaf_nodes=60, min_samples_leaf=0.001, min_weight_fraction_leaf=0.1, splitter=best;, score=-6723.267 total time=   0.0s\n",
      "[CV 1/3] END max_depth=5, max_features=sqrt, max_leaf_nodes=60, min_samples_leaf=0.001, min_weight_fraction_leaf=0.1, splitter=random;, score=-17723.992 total time=   0.0s\n",
      "[CV 2/3] END max_depth=5, max_features=sqrt, max_leaf_nodes=60, min_samples_leaf=0.001, min_weight_fraction_leaf=0.1, splitter=random;, score=-8632.581 total time=   0.0s\n",
      "[CV 3/3] END max_depth=5, max_features=sqrt, max_leaf_nodes=60, min_samples_leaf=0.001, min_weight_fraction_leaf=0.1, splitter=random;, score=-19253.515 total time=   0.0s\n",
      "[CV 1/3] END max_depth=7, max_features=auto, max_leaf_nodes=10, min_samples_leaf=0.001, min_weight_fraction_leaf=0.1, splitter=best;, score=-3472.693 total time=   0.0s\n",
      "[CV 2/3] END max_depth=7, max_features=auto, max_leaf_nodes=10, min_samples_leaf=0.001, min_weight_fraction_leaf=0.1, splitter=best;, score=-3550.671 total time=   0.0s\n"
     ]
    },
    {
     "name": "stderr",
     "output_type": "stream",
     "text": [
      "/opt/anaconda3/lib/python3.8/site-packages/sklearn/tree/_classes.py:306: FutureWarning: `max_features='auto'` has been deprecated in 1.1 and will be removed in 1.3. To keep the past behaviour, explicitly set `max_features=1.0'`.\n",
      "  warnings.warn(\n",
      "/opt/anaconda3/lib/python3.8/site-packages/sklearn/tree/_classes.py:306: FutureWarning: `max_features='auto'` has been deprecated in 1.1 and will be removed in 1.3. To keep the past behaviour, explicitly set `max_features=1.0'`.\n",
      "  warnings.warn(\n",
      "/opt/anaconda3/lib/python3.8/site-packages/sklearn/tree/_classes.py:306: FutureWarning: `max_features='auto'` has been deprecated in 1.1 and will be removed in 1.3. To keep the past behaviour, explicitly set `max_features=1.0'`.\n",
      "  warnings.warn(\n",
      "/opt/anaconda3/lib/python3.8/site-packages/sklearn/tree/_classes.py:306: FutureWarning: `max_features='auto'` has been deprecated in 1.1 and will be removed in 1.3. To keep the past behaviour, explicitly set `max_features=1.0'`.\n",
      "  warnings.warn(\n",
      "/opt/anaconda3/lib/python3.8/site-packages/sklearn/tree/_classes.py:306: FutureWarning: `max_features='auto'` has been deprecated in 1.1 and will be removed in 1.3. To keep the past behaviour, explicitly set `max_features=1.0'`.\n",
      "  warnings.warn(\n",
      "/opt/anaconda3/lib/python3.8/site-packages/sklearn/tree/_classes.py:306: FutureWarning: `max_features='auto'` has been deprecated in 1.1 and will be removed in 1.3. To keep the past behaviour, explicitly set `max_features=1.0'`.\n",
      "  warnings.warn(\n",
      "/opt/anaconda3/lib/python3.8/site-packages/sklearn/tree/_classes.py:306: FutureWarning: `max_features='auto'` has been deprecated in 1.1 and will be removed in 1.3. To keep the past behaviour, explicitly set `max_features=1.0'`.\n",
      "  warnings.warn(\n",
      "/opt/anaconda3/lib/python3.8/site-packages/sklearn/tree/_classes.py:306: FutureWarning: `max_features='auto'` has been deprecated in 1.1 and will be removed in 1.3. To keep the past behaviour, explicitly set `max_features=1.0'`.\n",
      "  warnings.warn(\n"
     ]
    },
    {
     "name": "stdout",
     "output_type": "stream",
     "text": [
      "[CV 3/3] END max_depth=7, max_features=auto, max_leaf_nodes=10, min_samples_leaf=0.001, min_weight_fraction_leaf=0.1, splitter=best;, score=-3522.901 total time=   0.0s\n",
      "[CV 1/3] END max_depth=7, max_features=auto, max_leaf_nodes=10, min_samples_leaf=0.001, min_weight_fraction_leaf=0.1, splitter=random;, score=-11165.557 total time=   0.0s\n",
      "[CV 2/3] END max_depth=7, max_features=auto, max_leaf_nodes=10, min_samples_leaf=0.001, min_weight_fraction_leaf=0.1, splitter=random;, score=-3750.850 total time=   0.0s\n",
      "[CV 3/3] END max_depth=7, max_features=auto, max_leaf_nodes=10, min_samples_leaf=0.001, min_weight_fraction_leaf=0.1, splitter=random;, score=-13160.425 total time=   0.0s\n",
      "[CV 1/3] END max_depth=7, max_features=auto, max_leaf_nodes=20, min_samples_leaf=0.001, min_weight_fraction_leaf=0.1, splitter=best;, score=-3472.693 total time=   0.0s\n",
      "[CV 2/3] END max_depth=7, max_features=auto, max_leaf_nodes=20, min_samples_leaf=0.001, min_weight_fraction_leaf=0.1, splitter=best;, score=-3550.671 total time=   0.0s\n",
      "[CV 3/3] END max_depth=7, max_features=auto, max_leaf_nodes=20, min_samples_leaf=0.001, min_weight_fraction_leaf=0.1, splitter=best;, score=-3522.901 total time=   0.0s\n",
      "[CV 1/3] END max_depth=7, max_features=auto, max_leaf_nodes=20, min_samples_leaf=0.001, min_weight_fraction_leaf=0.1, splitter=random;, score=-3397.581 total time=   0.0s\n",
      "[CV 2/3] END max_depth=7, max_features=auto, max_leaf_nodes=20, min_samples_leaf=0.001, min_weight_fraction_leaf=0.1, splitter=random;, score=-7643.708 total time=   0.0s\n",
      "[CV 3/3] END max_depth=7, max_features=auto, max_leaf_nodes=20, min_samples_leaf=0.001, min_weight_fraction_leaf=0.1, splitter=random;, score=-5540.967 total time=   0.0s\n"
     ]
    },
    {
     "name": "stderr",
     "output_type": "stream",
     "text": [
      "/opt/anaconda3/lib/python3.8/site-packages/sklearn/tree/_classes.py:306: FutureWarning: `max_features='auto'` has been deprecated in 1.1 and will be removed in 1.3. To keep the past behaviour, explicitly set `max_features=1.0'`.\n",
      "  warnings.warn(\n",
      "/opt/anaconda3/lib/python3.8/site-packages/sklearn/tree/_classes.py:306: FutureWarning: `max_features='auto'` has been deprecated in 1.1 and will be removed in 1.3. To keep the past behaviour, explicitly set `max_features=1.0'`.\n",
      "  warnings.warn(\n",
      "/opt/anaconda3/lib/python3.8/site-packages/sklearn/tree/_classes.py:306: FutureWarning: `max_features='auto'` has been deprecated in 1.1 and will be removed in 1.3. To keep the past behaviour, explicitly set `max_features=1.0'`.\n",
      "  warnings.warn(\n",
      "/opt/anaconda3/lib/python3.8/site-packages/sklearn/tree/_classes.py:306: FutureWarning: `max_features='auto'` has been deprecated in 1.1 and will be removed in 1.3. To keep the past behaviour, explicitly set `max_features=1.0'`.\n",
      "  warnings.warn(\n",
      "/opt/anaconda3/lib/python3.8/site-packages/sklearn/tree/_classes.py:306: FutureWarning: `max_features='auto'` has been deprecated in 1.1 and will be removed in 1.3. To keep the past behaviour, explicitly set `max_features=1.0'`.\n",
      "  warnings.warn(\n",
      "/opt/anaconda3/lib/python3.8/site-packages/sklearn/tree/_classes.py:306: FutureWarning: `max_features='auto'` has been deprecated in 1.1 and will be removed in 1.3. To keep the past behaviour, explicitly set `max_features=1.0'`.\n",
      "  warnings.warn(\n",
      "/opt/anaconda3/lib/python3.8/site-packages/sklearn/tree/_classes.py:306: FutureWarning: `max_features='auto'` has been deprecated in 1.1 and will be removed in 1.3. To keep the past behaviour, explicitly set `max_features=1.0'`.\n",
      "  warnings.warn(\n",
      "/opt/anaconda3/lib/python3.8/site-packages/sklearn/tree/_classes.py:306: FutureWarning: `max_features='auto'` has been deprecated in 1.1 and will be removed in 1.3. To keep the past behaviour, explicitly set `max_features=1.0'`.\n",
      "  warnings.warn(\n",
      "/opt/anaconda3/lib/python3.8/site-packages/sklearn/tree/_classes.py:306: FutureWarning: `max_features='auto'` has been deprecated in 1.1 and will be removed in 1.3. To keep the past behaviour, explicitly set `max_features=1.0'`.\n",
      "  warnings.warn(\n",
      "/opt/anaconda3/lib/python3.8/site-packages/sklearn/tree/_classes.py:306: FutureWarning: `max_features='auto'` has been deprecated in 1.1 and will be removed in 1.3. To keep the past behaviour, explicitly set `max_features=1.0'`.\n",
      "  warnings.warn(\n"
     ]
    },
    {
     "name": "stdout",
     "output_type": "stream",
     "text": [
      "[CV 1/3] END max_depth=7, max_features=auto, max_leaf_nodes=30, min_samples_leaf=0.001, min_weight_fraction_leaf=0.1, splitter=best;, score=-3472.693 total time=   0.0s\n",
      "[CV 2/3] END max_depth=7, max_features=auto, max_leaf_nodes=30, min_samples_leaf=0.001, min_weight_fraction_leaf=0.1, splitter=best;, score=-3550.671 total time=   0.0s\n",
      "[CV 3/3] END max_depth=7, max_features=auto, max_leaf_nodes=30, min_samples_leaf=0.001, min_weight_fraction_leaf=0.1, splitter=best;, score=-3522.901 total time=   0.0s\n",
      "[CV 1/3] END max_depth=7, max_features=auto, max_leaf_nodes=30, min_samples_leaf=0.001, min_weight_fraction_leaf=0.1, splitter=random;, score=-14490.417 total time=   0.0s\n",
      "[CV 2/3] END max_depth=7, max_features=auto, max_leaf_nodes=30, min_samples_leaf=0.001, min_weight_fraction_leaf=0.1, splitter=random;, score=-5936.300 total time=   0.0s\n",
      "[CV 3/3] END max_depth=7, max_features=auto, max_leaf_nodes=30, min_samples_leaf=0.001, min_weight_fraction_leaf=0.1, splitter=random;, score=-6000.061 total time=   0.0s\n",
      "[CV 1/3] END max_depth=7, max_features=auto, max_leaf_nodes=40, min_samples_leaf=0.001, min_weight_fraction_leaf=0.1, splitter=best;, score=-3472.693 total time=   0.0s\n",
      "[CV 2/3] END max_depth=7, max_features=auto, max_leaf_nodes=40, min_samples_leaf=0.001, min_weight_fraction_leaf=0.1, splitter=best;, score=-3550.671 total time=   0.0s\n"
     ]
    },
    {
     "name": "stderr",
     "output_type": "stream",
     "text": [
      "/opt/anaconda3/lib/python3.8/site-packages/sklearn/tree/_classes.py:306: FutureWarning: `max_features='auto'` has been deprecated in 1.1 and will be removed in 1.3. To keep the past behaviour, explicitly set `max_features=1.0'`.\n",
      "  warnings.warn(\n",
      "/opt/anaconda3/lib/python3.8/site-packages/sklearn/tree/_classes.py:306: FutureWarning: `max_features='auto'` has been deprecated in 1.1 and will be removed in 1.3. To keep the past behaviour, explicitly set `max_features=1.0'`.\n",
      "  warnings.warn(\n",
      "/opt/anaconda3/lib/python3.8/site-packages/sklearn/tree/_classes.py:306: FutureWarning: `max_features='auto'` has been deprecated in 1.1 and will be removed in 1.3. To keep the past behaviour, explicitly set `max_features=1.0'`.\n",
      "  warnings.warn(\n",
      "/opt/anaconda3/lib/python3.8/site-packages/sklearn/tree/_classes.py:306: FutureWarning: `max_features='auto'` has been deprecated in 1.1 and will be removed in 1.3. To keep the past behaviour, explicitly set `max_features=1.0'`.\n",
      "  warnings.warn(\n",
      "/opt/anaconda3/lib/python3.8/site-packages/sklearn/tree/_classes.py:306: FutureWarning: `max_features='auto'` has been deprecated in 1.1 and will be removed in 1.3. To keep the past behaviour, explicitly set `max_features=1.0'`.\n",
      "  warnings.warn(\n",
      "/opt/anaconda3/lib/python3.8/site-packages/sklearn/tree/_classes.py:306: FutureWarning: `max_features='auto'` has been deprecated in 1.1 and will be removed in 1.3. To keep the past behaviour, explicitly set `max_features=1.0'`.\n",
      "  warnings.warn(\n",
      "/opt/anaconda3/lib/python3.8/site-packages/sklearn/tree/_classes.py:306: FutureWarning: `max_features='auto'` has been deprecated in 1.1 and will be removed in 1.3. To keep the past behaviour, explicitly set `max_features=1.0'`.\n",
      "  warnings.warn(\n",
      "/opt/anaconda3/lib/python3.8/site-packages/sklearn/tree/_classes.py:306: FutureWarning: `max_features='auto'` has been deprecated in 1.1 and will be removed in 1.3. To keep the past behaviour, explicitly set `max_features=1.0'`.\n",
      "  warnings.warn(\n"
     ]
    },
    {
     "name": "stdout",
     "output_type": "stream",
     "text": [
      "[CV 3/3] END max_depth=7, max_features=auto, max_leaf_nodes=40, min_samples_leaf=0.001, min_weight_fraction_leaf=0.1, splitter=best;, score=-3522.901 total time=   0.0s\n",
      "[CV 1/3] END max_depth=7, max_features=auto, max_leaf_nodes=40, min_samples_leaf=0.001, min_weight_fraction_leaf=0.1, splitter=random;, score=-7282.155 total time=   0.0s\n",
      "[CV 2/3] END max_depth=7, max_features=auto, max_leaf_nodes=40, min_samples_leaf=0.001, min_weight_fraction_leaf=0.1, splitter=random;, score=-6705.787 total time=   0.0s\n",
      "[CV 3/3] END max_depth=7, max_features=auto, max_leaf_nodes=40, min_samples_leaf=0.001, min_weight_fraction_leaf=0.1, splitter=random;, score=-11312.609 total time=   0.0s\n",
      "[CV 1/3] END max_depth=7, max_features=auto, max_leaf_nodes=50, min_samples_leaf=0.001, min_weight_fraction_leaf=0.1, splitter=best;, score=-3472.693 total time=   0.0s\n",
      "[CV 2/3] END max_depth=7, max_features=auto, max_leaf_nodes=50, min_samples_leaf=0.001, min_weight_fraction_leaf=0.1, splitter=best;, score=-3550.671 total time=   0.0s\n",
      "[CV 3/3] END max_depth=7, max_features=auto, max_leaf_nodes=50, min_samples_leaf=0.001, min_weight_fraction_leaf=0.1, splitter=best;, score=-3522.901 total time=   0.0s\n",
      "[CV 1/3] END max_depth=7, max_features=auto, max_leaf_nodes=50, min_samples_leaf=0.001, min_weight_fraction_leaf=0.1, splitter=random;, score=-7227.875 total time=   0.0s\n",
      "[CV 2/3] END max_depth=7, max_features=auto, max_leaf_nodes=50, min_samples_leaf=0.001, min_weight_fraction_leaf=0.1, splitter=random;, score=-7728.519 total time=   0.0s\n",
      "[CV 3/3] END max_depth=7, max_features=auto, max_leaf_nodes=50, min_samples_leaf=0.001, min_weight_fraction_leaf=0.1, splitter=random;, score=-3464.838 total time=   0.0s\n"
     ]
    },
    {
     "name": "stderr",
     "output_type": "stream",
     "text": [
      "/opt/anaconda3/lib/python3.8/site-packages/sklearn/tree/_classes.py:306: FutureWarning: `max_features='auto'` has been deprecated in 1.1 and will be removed in 1.3. To keep the past behaviour, explicitly set `max_features=1.0'`.\n",
      "  warnings.warn(\n",
      "/opt/anaconda3/lib/python3.8/site-packages/sklearn/tree/_classes.py:306: FutureWarning: `max_features='auto'` has been deprecated in 1.1 and will be removed in 1.3. To keep the past behaviour, explicitly set `max_features=1.0'`.\n",
      "  warnings.warn(\n",
      "/opt/anaconda3/lib/python3.8/site-packages/sklearn/tree/_classes.py:306: FutureWarning: `max_features='auto'` has been deprecated in 1.1 and will be removed in 1.3. To keep the past behaviour, explicitly set `max_features=1.0'`.\n",
      "  warnings.warn(\n",
      "/opt/anaconda3/lib/python3.8/site-packages/sklearn/tree/_classes.py:306: FutureWarning: `max_features='auto'` has been deprecated in 1.1 and will be removed in 1.3. To keep the past behaviour, explicitly set `max_features=1.0'`.\n",
      "  warnings.warn(\n",
      "/opt/anaconda3/lib/python3.8/site-packages/sklearn/tree/_classes.py:306: FutureWarning: `max_features='auto'` has been deprecated in 1.1 and will be removed in 1.3. To keep the past behaviour, explicitly set `max_features=1.0'`.\n",
      "  warnings.warn(\n",
      "/opt/anaconda3/lib/python3.8/site-packages/sklearn/tree/_classes.py:306: FutureWarning: `max_features='auto'` has been deprecated in 1.1 and will be removed in 1.3. To keep the past behaviour, explicitly set `max_features=1.0'`.\n",
      "  warnings.warn(\n",
      "/opt/anaconda3/lib/python3.8/site-packages/sklearn/tree/_classes.py:306: FutureWarning: `max_features='auto'` has been deprecated in 1.1 and will be removed in 1.3. To keep the past behaviour, explicitly set `max_features=1.0'`.\n",
      "  warnings.warn(\n",
      "/opt/anaconda3/lib/python3.8/site-packages/sklearn/tree/_classes.py:306: FutureWarning: `max_features='auto'` has been deprecated in 1.1 and will be removed in 1.3. To keep the past behaviour, explicitly set `max_features=1.0'`.\n",
      "  warnings.warn(\n",
      "/opt/anaconda3/lib/python3.8/site-packages/sklearn/tree/_classes.py:306: FutureWarning: `max_features='auto'` has been deprecated in 1.1 and will be removed in 1.3. To keep the past behaviour, explicitly set `max_features=1.0'`.\n",
      "  warnings.warn(\n",
      "/opt/anaconda3/lib/python3.8/site-packages/sklearn/tree/_classes.py:306: FutureWarning: `max_features='auto'` has been deprecated in 1.1 and will be removed in 1.3. To keep the past behaviour, explicitly set `max_features=1.0'`.\n",
      "  warnings.warn(\n"
     ]
    },
    {
     "name": "stdout",
     "output_type": "stream",
     "text": [
      "[CV 1/3] END max_depth=7, max_features=auto, max_leaf_nodes=60, min_samples_leaf=0.001, min_weight_fraction_leaf=0.1, splitter=best;, score=-3472.693 total time=   0.0s\n",
      "[CV 2/3] END max_depth=7, max_features=auto, max_leaf_nodes=60, min_samples_leaf=0.001, min_weight_fraction_leaf=0.1, splitter=best;, score=-3550.671 total time=   0.0s\n",
      "[CV 3/3] END max_depth=7, max_features=auto, max_leaf_nodes=60, min_samples_leaf=0.001, min_weight_fraction_leaf=0.1, splitter=best;, score=-3522.901 total time=   0.0s\n",
      "[CV 1/3] END max_depth=7, max_features=auto, max_leaf_nodes=60, min_samples_leaf=0.001, min_weight_fraction_leaf=0.1, splitter=random;, score=-3432.016 total time=   0.0s\n",
      "[CV 2/3] END max_depth=7, max_features=auto, max_leaf_nodes=60, min_samples_leaf=0.001, min_weight_fraction_leaf=0.1, splitter=random;, score=-9734.236 total time=   0.0s\n",
      "[CV 3/3] END max_depth=7, max_features=auto, max_leaf_nodes=60, min_samples_leaf=0.001, min_weight_fraction_leaf=0.1, splitter=random;, score=-12173.172 total time=   0.0s\n",
      "[CV 1/3] END max_depth=7, max_features=log2, max_leaf_nodes=10, min_samples_leaf=0.001, min_weight_fraction_leaf=0.1, splitter=best;, score=-8417.581 total time=   0.0s\n",
      "[CV 2/3] END max_depth=7, max_features=log2, max_leaf_nodes=10, min_samples_leaf=0.001, min_weight_fraction_leaf=0.1, splitter=best;, score=-9368.856 total time=   0.0s\n",
      "[CV 3/3] END max_depth=7, max_features=log2, max_leaf_nodes=10, min_samples_leaf=0.001, min_weight_fraction_leaf=0.1, splitter=best;, score=-15934.262 total time=   0.0s\n",
      "[CV 1/3] END max_depth=7, max_features=log2, max_leaf_nodes=10, min_samples_leaf=0.001, min_weight_fraction_leaf=0.1, splitter=random;, score=-17516.429 total time=   0.0s\n",
      "[CV 2/3] END max_depth=7, max_features=log2, max_leaf_nodes=10, min_samples_leaf=0.001, min_weight_fraction_leaf=0.1, splitter=random;, score=-8446.231 total time=   0.0s\n",
      "[CV 3/3] END max_depth=7, max_features=log2, max_leaf_nodes=10, min_samples_leaf=0.001, min_weight_fraction_leaf=0.1, splitter=random;, score=-17795.520 total time=   0.0s\n",
      "[CV 1/3] END max_depth=7, max_features=log2, max_leaf_nodes=20, min_samples_leaf=0.001, min_weight_fraction_leaf=0.1, splitter=best;, score=-4223.828 total time=   0.0s\n",
      "[CV 2/3] END max_depth=7, max_features=log2, max_leaf_nodes=20, min_samples_leaf=0.001, min_weight_fraction_leaf=0.1, splitter=best;, score=-10275.938 total time=   0.0s\n",
      "[CV 3/3] END max_depth=7, max_features=log2, max_leaf_nodes=20, min_samples_leaf=0.001, min_weight_fraction_leaf=0.1, splitter=best;, score=-4292.781 total time=   0.0s\n",
      "[CV 1/3] END max_depth=7, max_features=log2, max_leaf_nodes=20, min_samples_leaf=0.001, min_weight_fraction_leaf=0.1, splitter=random;, score=-17643.943 total time=   0.0s\n",
      "[CV 2/3] END max_depth=7, max_features=log2, max_leaf_nodes=20, min_samples_leaf=0.001, min_weight_fraction_leaf=0.1, splitter=random;, score=-22707.665 total time=   0.0s\n",
      "[CV 3/3] END max_depth=7, max_features=log2, max_leaf_nodes=20, min_samples_leaf=0.001, min_weight_fraction_leaf=0.1, splitter=random;, score=-16959.238 total time=   0.0s\n",
      "[CV 1/3] END max_depth=7, max_features=log2, max_leaf_nodes=30, min_samples_leaf=0.001, min_weight_fraction_leaf=0.1, splitter=best;, score=-5945.729 total time=   0.0s\n",
      "[CV 2/3] END max_depth=7, max_features=log2, max_leaf_nodes=30, min_samples_leaf=0.001, min_weight_fraction_leaf=0.1, splitter=best;, score=-14563.695 total time=   0.0s\n",
      "[CV 3/3] END max_depth=7, max_features=log2, max_leaf_nodes=30, min_samples_leaf=0.001, min_weight_fraction_leaf=0.1, splitter=best;, score=-14634.791 total time=   0.0s\n",
      "[CV 1/3] END max_depth=7, max_features=log2, max_leaf_nodes=30, min_samples_leaf=0.001, min_weight_fraction_leaf=0.1, splitter=random;, score=-23387.429 total time=   0.0s\n",
      "[CV 2/3] END max_depth=7, max_features=log2, max_leaf_nodes=30, min_samples_leaf=0.001, min_weight_fraction_leaf=0.1, splitter=random;, score=-16582.296 total time=   0.0s\n",
      "[CV 3/3] END max_depth=7, max_features=log2, max_leaf_nodes=30, min_samples_leaf=0.001, min_weight_fraction_leaf=0.1, splitter=random;, score=-17243.774 total time=   0.0s\n",
      "[CV 1/3] END max_depth=7, max_features=log2, max_leaf_nodes=40, min_samples_leaf=0.001, min_weight_fraction_leaf=0.1, splitter=best;, score=-7292.049 total time=   0.0s\n",
      "[CV 2/3] END max_depth=7, max_features=log2, max_leaf_nodes=40, min_samples_leaf=0.001, min_weight_fraction_leaf=0.1, splitter=best;, score=-6278.004 total time=   0.0s\n",
      "[CV 3/3] END max_depth=7, max_features=log2, max_leaf_nodes=40, min_samples_leaf=0.001, min_weight_fraction_leaf=0.1, splitter=best;, score=-13002.956 total time=   0.0s\n",
      "[CV 1/3] END max_depth=7, max_features=log2, max_leaf_nodes=40, min_samples_leaf=0.001, min_weight_fraction_leaf=0.1, splitter=random;, score=-12851.895 total time=   0.0s\n",
      "[CV 2/3] END max_depth=7, max_features=log2, max_leaf_nodes=40, min_samples_leaf=0.001, min_weight_fraction_leaf=0.1, splitter=random;, score=-18596.911 total time=   0.0s\n",
      "[CV 3/3] END max_depth=7, max_features=log2, max_leaf_nodes=40, min_samples_leaf=0.001, min_weight_fraction_leaf=0.1, splitter=random;, score=-14364.298 total time=   0.0s\n",
      "[CV 1/3] END max_depth=7, max_features=log2, max_leaf_nodes=50, min_samples_leaf=0.001, min_weight_fraction_leaf=0.1, splitter=best;, score=-8879.614 total time=   0.0s\n",
      "[CV 2/3] END max_depth=7, max_features=log2, max_leaf_nodes=50, min_samples_leaf=0.001, min_weight_fraction_leaf=0.1, splitter=best;, score=-11771.844 total time=   0.0s\n",
      "[CV 3/3] END max_depth=7, max_features=log2, max_leaf_nodes=50, min_samples_leaf=0.001, min_weight_fraction_leaf=0.1, splitter=best;, score=-7836.086 total time=   0.0s\n",
      "[CV 1/3] END max_depth=7, max_features=log2, max_leaf_nodes=50, min_samples_leaf=0.001, min_weight_fraction_leaf=0.1, splitter=random;, score=-15306.855 total time=   0.0s\n",
      "[CV 2/3] END max_depth=7, max_features=log2, max_leaf_nodes=50, min_samples_leaf=0.001, min_weight_fraction_leaf=0.1, splitter=random;, score=-21722.579 total time=   0.0s\n",
      "[CV 3/3] END max_depth=7, max_features=log2, max_leaf_nodes=50, min_samples_leaf=0.001, min_weight_fraction_leaf=0.1, splitter=random;, score=-23543.854 total time=   0.0s\n",
      "[CV 1/3] END max_depth=7, max_features=log2, max_leaf_nodes=60, min_samples_leaf=0.001, min_weight_fraction_leaf=0.1, splitter=best;, score=-11565.553 total time=   0.0s\n",
      "[CV 2/3] END max_depth=7, max_features=log2, max_leaf_nodes=60, min_samples_leaf=0.001, min_weight_fraction_leaf=0.1, splitter=best;, score=-12281.660 total time=   0.0s\n",
      "[CV 3/3] END max_depth=7, max_features=log2, max_leaf_nodes=60, min_samples_leaf=0.001, min_weight_fraction_leaf=0.1, splitter=best;, score=-16589.016 total time=   0.0s\n",
      "[CV 1/3] END max_depth=7, max_features=log2, max_leaf_nodes=60, min_samples_leaf=0.001, min_weight_fraction_leaf=0.1, splitter=random;, score=-10327.723 total time=   0.0s\n",
      "[CV 2/3] END max_depth=7, max_features=log2, max_leaf_nodes=60, min_samples_leaf=0.001, min_weight_fraction_leaf=0.1, splitter=random;, score=-10932.977 total time=   0.0s\n",
      "[CV 3/3] END max_depth=7, max_features=log2, max_leaf_nodes=60, min_samples_leaf=0.001, min_weight_fraction_leaf=0.1, splitter=random;, score=-13543.060 total time=   0.0s\n",
      "[CV 1/3] END max_depth=7, max_features=sqrt, max_leaf_nodes=10, min_samples_leaf=0.001, min_weight_fraction_leaf=0.1, splitter=best;, score=-10983.957 total time=   0.0s\n",
      "[CV 2/3] END max_depth=7, max_features=sqrt, max_leaf_nodes=10, min_samples_leaf=0.001, min_weight_fraction_leaf=0.1, splitter=best;, score=-9269.098 total time=   0.0s\n",
      "[CV 3/3] END max_depth=7, max_features=sqrt, max_leaf_nodes=10, min_samples_leaf=0.001, min_weight_fraction_leaf=0.1, splitter=best;, score=-10488.036 total time=   0.0s\n",
      "[CV 1/3] END max_depth=7, max_features=sqrt, max_leaf_nodes=10, min_samples_leaf=0.001, min_weight_fraction_leaf=0.1, splitter=random;, score=-16478.195 total time=   0.0s\n",
      "[CV 2/3] END max_depth=7, max_features=sqrt, max_leaf_nodes=10, min_samples_leaf=0.001, min_weight_fraction_leaf=0.1, splitter=random;, score=-15509.914 total time=   0.0s\n",
      "[CV 3/3] END max_depth=7, max_features=sqrt, max_leaf_nodes=10, min_samples_leaf=0.001, min_weight_fraction_leaf=0.1, splitter=random;, score=-18165.191 total time=   0.0s\n",
      "[CV 1/3] END max_depth=7, max_features=sqrt, max_leaf_nodes=20, min_samples_leaf=0.001, min_weight_fraction_leaf=0.1, splitter=best;, score=-15385.445 total time=   0.0s\n",
      "[CV 2/3] END max_depth=7, max_features=sqrt, max_leaf_nodes=20, min_samples_leaf=0.001, min_weight_fraction_leaf=0.1, splitter=best;, score=-11589.398 total time=   0.0s\n",
      "[CV 3/3] END max_depth=7, max_features=sqrt, max_leaf_nodes=20, min_samples_leaf=0.001, min_weight_fraction_leaf=0.1, splitter=best;, score=-6570.344 total time=   0.0s\n",
      "[CV 1/3] END max_depth=7, max_features=sqrt, max_leaf_nodes=20, min_samples_leaf=0.001, min_weight_fraction_leaf=0.1, splitter=random;, score=-12503.129 total time=   0.0s\n",
      "[CV 2/3] END max_depth=7, max_features=sqrt, max_leaf_nodes=20, min_samples_leaf=0.001, min_weight_fraction_leaf=0.1, splitter=random;, score=-14086.983 total time=   0.0s\n",
      "[CV 3/3] END max_depth=7, max_features=sqrt, max_leaf_nodes=20, min_samples_leaf=0.001, min_weight_fraction_leaf=0.1, splitter=random;, score=-10818.081 total time=   0.0s\n",
      "[CV 1/3] END max_depth=7, max_features=sqrt, max_leaf_nodes=30, min_samples_leaf=0.001, min_weight_fraction_leaf=0.1, splitter=best;, score=-6276.036 total time=   0.0s\n",
      "[CV 2/3] END max_depth=7, max_features=sqrt, max_leaf_nodes=30, min_samples_leaf=0.001, min_weight_fraction_leaf=0.1, splitter=best;, score=-7198.944 total time=   0.0s\n",
      "[CV 3/3] END max_depth=7, max_features=sqrt, max_leaf_nodes=30, min_samples_leaf=0.001, min_weight_fraction_leaf=0.1, splitter=best;, score=-7684.192 total time=   0.0s\n",
      "[CV 1/3] END max_depth=7, max_features=sqrt, max_leaf_nodes=30, min_samples_leaf=0.001, min_weight_fraction_leaf=0.1, splitter=random;, score=-10883.660 total time=   0.0s\n",
      "[CV 2/3] END max_depth=7, max_features=sqrt, max_leaf_nodes=30, min_samples_leaf=0.001, min_weight_fraction_leaf=0.1, splitter=random;, score=-8839.684 total time=   0.0s\n",
      "[CV 3/3] END max_depth=7, max_features=sqrt, max_leaf_nodes=30, min_samples_leaf=0.001, min_weight_fraction_leaf=0.1, splitter=random;, score=-14324.330 total time=   0.0s\n",
      "[CV 1/3] END max_depth=7, max_features=sqrt, max_leaf_nodes=40, min_samples_leaf=0.001, min_weight_fraction_leaf=0.1, splitter=best;, score=-6041.465 total time=   0.0s\n",
      "[CV 2/3] END max_depth=7, max_features=sqrt, max_leaf_nodes=40, min_samples_leaf=0.001, min_weight_fraction_leaf=0.1, splitter=best;, score=-12141.829 total time=   0.0s\n",
      "[CV 3/3] END max_depth=7, max_features=sqrt, max_leaf_nodes=40, min_samples_leaf=0.001, min_weight_fraction_leaf=0.1, splitter=best;, score=-11728.349 total time=   0.0s\n",
      "[CV 1/3] END max_depth=7, max_features=sqrt, max_leaf_nodes=40, min_samples_leaf=0.001, min_weight_fraction_leaf=0.1, splitter=random;, score=-15572.519 total time=   0.0s\n",
      "[CV 2/3] END max_depth=7, max_features=sqrt, max_leaf_nodes=40, min_samples_leaf=0.001, min_weight_fraction_leaf=0.1, splitter=random;, score=-9390.441 total time=   0.0s\n",
      "[CV 3/3] END max_depth=7, max_features=sqrt, max_leaf_nodes=40, min_samples_leaf=0.001, min_weight_fraction_leaf=0.1, splitter=random;, score=-16483.712 total time=   0.0s\n",
      "[CV 1/3] END max_depth=7, max_features=sqrt, max_leaf_nodes=50, min_samples_leaf=0.001, min_weight_fraction_leaf=0.1, splitter=best;, score=-9747.254 total time=   0.0s\n",
      "[CV 2/3] END max_depth=7, max_features=sqrt, max_leaf_nodes=50, min_samples_leaf=0.001, min_weight_fraction_leaf=0.1, splitter=best;, score=-14409.275 total time=   0.0s\n",
      "[CV 3/3] END max_depth=7, max_features=sqrt, max_leaf_nodes=50, min_samples_leaf=0.001, min_weight_fraction_leaf=0.1, splitter=best;, score=-9736.424 total time=   0.0s\n",
      "[CV 1/3] END max_depth=7, max_features=sqrt, max_leaf_nodes=50, min_samples_leaf=0.001, min_weight_fraction_leaf=0.1, splitter=random;, score=-8727.833 total time=   0.0s\n",
      "[CV 2/3] END max_depth=7, max_features=sqrt, max_leaf_nodes=50, min_samples_leaf=0.001, min_weight_fraction_leaf=0.1, splitter=random;, score=-20914.218 total time=   0.0s\n",
      "[CV 3/3] END max_depth=7, max_features=sqrt, max_leaf_nodes=50, min_samples_leaf=0.001, min_weight_fraction_leaf=0.1, splitter=random;, score=-17352.946 total time=   0.0s\n",
      "[CV 1/3] END max_depth=7, max_features=sqrt, max_leaf_nodes=60, min_samples_leaf=0.001, min_weight_fraction_leaf=0.1, splitter=best;, score=-3705.844 total time=   0.0s\n",
      "[CV 2/3] END max_depth=7, max_features=sqrt, max_leaf_nodes=60, min_samples_leaf=0.001, min_weight_fraction_leaf=0.1, splitter=best;, score=-6399.381 total time=   0.0s\n",
      "[CV 3/3] END max_depth=7, max_features=sqrt, max_leaf_nodes=60, min_samples_leaf=0.001, min_weight_fraction_leaf=0.1, splitter=best;, score=-13324.978 total time=   0.0s\n",
      "[CV 1/3] END max_depth=7, max_features=sqrt, max_leaf_nodes=60, min_samples_leaf=0.001, min_weight_fraction_leaf=0.1, splitter=random;, score=-23372.781 total time=   0.0s\n",
      "[CV 2/3] END max_depth=7, max_features=sqrt, max_leaf_nodes=60, min_samples_leaf=0.001, min_weight_fraction_leaf=0.1, splitter=random;, score=-20320.059 total time=   0.0s\n",
      "[CV 3/3] END max_depth=7, max_features=sqrt, max_leaf_nodes=60, min_samples_leaf=0.001, min_weight_fraction_leaf=0.1, splitter=random;, score=-23543.854 total time=   0.0s\n",
      "[CV 1/3] END max_depth=9, max_features=auto, max_leaf_nodes=10, min_samples_leaf=0.001, min_weight_fraction_leaf=0.1, splitter=best;, score=-3472.693 total time=   0.0s\n"
     ]
    },
    {
     "name": "stderr",
     "output_type": "stream",
     "text": [
      "/opt/anaconda3/lib/python3.8/site-packages/sklearn/tree/_classes.py:306: FutureWarning: `max_features='auto'` has been deprecated in 1.1 and will be removed in 1.3. To keep the past behaviour, explicitly set `max_features=1.0'`.\n",
      "  warnings.warn(\n",
      "/opt/anaconda3/lib/python3.8/site-packages/sklearn/tree/_classes.py:306: FutureWarning: `max_features='auto'` has been deprecated in 1.1 and will be removed in 1.3. To keep the past behaviour, explicitly set `max_features=1.0'`.\n",
      "  warnings.warn(\n",
      "/opt/anaconda3/lib/python3.8/site-packages/sklearn/tree/_classes.py:306: FutureWarning: `max_features='auto'` has been deprecated in 1.1 and will be removed in 1.3. To keep the past behaviour, explicitly set `max_features=1.0'`.\n",
      "  warnings.warn(\n",
      "/opt/anaconda3/lib/python3.8/site-packages/sklearn/tree/_classes.py:306: FutureWarning: `max_features='auto'` has been deprecated in 1.1 and will be removed in 1.3. To keep the past behaviour, explicitly set `max_features=1.0'`.\n",
      "  warnings.warn(\n",
      "/opt/anaconda3/lib/python3.8/site-packages/sklearn/tree/_classes.py:306: FutureWarning: `max_features='auto'` has been deprecated in 1.1 and will be removed in 1.3. To keep the past behaviour, explicitly set `max_features=1.0'`.\n",
      "  warnings.warn(\n",
      "/opt/anaconda3/lib/python3.8/site-packages/sklearn/tree/_classes.py:306: FutureWarning: `max_features='auto'` has been deprecated in 1.1 and will be removed in 1.3. To keep the past behaviour, explicitly set `max_features=1.0'`.\n",
      "  warnings.warn(\n",
      "/opt/anaconda3/lib/python3.8/site-packages/sklearn/tree/_classes.py:306: FutureWarning: `max_features='auto'` has been deprecated in 1.1 and will be removed in 1.3. To keep the past behaviour, explicitly set `max_features=1.0'`.\n",
      "  warnings.warn(\n",
      "/opt/anaconda3/lib/python3.8/site-packages/sklearn/tree/_classes.py:306: FutureWarning: `max_features='auto'` has been deprecated in 1.1 and will be removed in 1.3. To keep the past behaviour, explicitly set `max_features=1.0'`.\n",
      "  warnings.warn(\n"
     ]
    },
    {
     "name": "stdout",
     "output_type": "stream",
     "text": [
      "[CV 2/3] END max_depth=9, max_features=auto, max_leaf_nodes=10, min_samples_leaf=0.001, min_weight_fraction_leaf=0.1, splitter=best;, score=-3550.671 total time=   0.0s\n",
      "[CV 3/3] END max_depth=9, max_features=auto, max_leaf_nodes=10, min_samples_leaf=0.001, min_weight_fraction_leaf=0.1, splitter=best;, score=-3522.901 total time=   0.0s\n",
      "[CV 1/3] END max_depth=9, max_features=auto, max_leaf_nodes=10, min_samples_leaf=0.001, min_weight_fraction_leaf=0.1, splitter=random;, score=-4962.920 total time=   0.0s\n",
      "[CV 2/3] END max_depth=9, max_features=auto, max_leaf_nodes=10, min_samples_leaf=0.001, min_weight_fraction_leaf=0.1, splitter=random;, score=-4972.888 total time=   0.0s\n",
      "[CV 3/3] END max_depth=9, max_features=auto, max_leaf_nodes=10, min_samples_leaf=0.001, min_weight_fraction_leaf=0.1, splitter=random;, score=-9634.715 total time=   0.0s\n",
      "[CV 1/3] END max_depth=9, max_features=auto, max_leaf_nodes=20, min_samples_leaf=0.001, min_weight_fraction_leaf=0.1, splitter=best;, score=-3472.693 total time=   0.0s\n",
      "[CV 2/3] END max_depth=9, max_features=auto, max_leaf_nodes=20, min_samples_leaf=0.001, min_weight_fraction_leaf=0.1, splitter=best;, score=-3550.671 total time=   0.0s\n",
      "[CV 3/3] END max_depth=9, max_features=auto, max_leaf_nodes=20, min_samples_leaf=0.001, min_weight_fraction_leaf=0.1, splitter=best;, score=-3522.901 total time=   0.0s\n",
      "[CV 1/3] END max_depth=9, max_features=auto, max_leaf_nodes=20, min_samples_leaf=0.001, min_weight_fraction_leaf=0.1, splitter=random;, score=-5702.745 total time=   0.0s\n"
     ]
    },
    {
     "name": "stderr",
     "output_type": "stream",
     "text": [
      "/opt/anaconda3/lib/python3.8/site-packages/sklearn/tree/_classes.py:306: FutureWarning: `max_features='auto'` has been deprecated in 1.1 and will be removed in 1.3. To keep the past behaviour, explicitly set `max_features=1.0'`.\n",
      "  warnings.warn(\n",
      "/opt/anaconda3/lib/python3.8/site-packages/sklearn/tree/_classes.py:306: FutureWarning: `max_features='auto'` has been deprecated in 1.1 and will be removed in 1.3. To keep the past behaviour, explicitly set `max_features=1.0'`.\n",
      "  warnings.warn(\n",
      "/opt/anaconda3/lib/python3.8/site-packages/sklearn/tree/_classes.py:306: FutureWarning: `max_features='auto'` has been deprecated in 1.1 and will be removed in 1.3. To keep the past behaviour, explicitly set `max_features=1.0'`.\n",
      "  warnings.warn(\n",
      "/opt/anaconda3/lib/python3.8/site-packages/sklearn/tree/_classes.py:306: FutureWarning: `max_features='auto'` has been deprecated in 1.1 and will be removed in 1.3. To keep the past behaviour, explicitly set `max_features=1.0'`.\n",
      "  warnings.warn(\n",
      "/opt/anaconda3/lib/python3.8/site-packages/sklearn/tree/_classes.py:306: FutureWarning: `max_features='auto'` has been deprecated in 1.1 and will be removed in 1.3. To keep the past behaviour, explicitly set `max_features=1.0'`.\n",
      "  warnings.warn(\n",
      "/opt/anaconda3/lib/python3.8/site-packages/sklearn/tree/_classes.py:306: FutureWarning: `max_features='auto'` has been deprecated in 1.1 and will be removed in 1.3. To keep the past behaviour, explicitly set `max_features=1.0'`.\n",
      "  warnings.warn(\n",
      "/opt/anaconda3/lib/python3.8/site-packages/sklearn/tree/_classes.py:306: FutureWarning: `max_features='auto'` has been deprecated in 1.1 and will be removed in 1.3. To keep the past behaviour, explicitly set `max_features=1.0'`.\n",
      "  warnings.warn(\n",
      "/opt/anaconda3/lib/python3.8/site-packages/sklearn/tree/_classes.py:306: FutureWarning: `max_features='auto'` has been deprecated in 1.1 and will be removed in 1.3. To keep the past behaviour, explicitly set `max_features=1.0'`.\n",
      "  warnings.warn(\n",
      "/opt/anaconda3/lib/python3.8/site-packages/sklearn/tree/_classes.py:306: FutureWarning: `max_features='auto'` has been deprecated in 1.1 and will be removed in 1.3. To keep the past behaviour, explicitly set `max_features=1.0'`.\n",
      "  warnings.warn(\n",
      "/opt/anaconda3/lib/python3.8/site-packages/sklearn/tree/_classes.py:306: FutureWarning: `max_features='auto'` has been deprecated in 1.1 and will be removed in 1.3. To keep the past behaviour, explicitly set `max_features=1.0'`.\n",
      "  warnings.warn(\n"
     ]
    },
    {
     "name": "stdout",
     "output_type": "stream",
     "text": [
      "[CV 2/3] END max_depth=9, max_features=auto, max_leaf_nodes=20, min_samples_leaf=0.001, min_weight_fraction_leaf=0.1, splitter=random;, score=-3838.907 total time=   0.0s\n",
      "[CV 3/3] END max_depth=9, max_features=auto, max_leaf_nodes=20, min_samples_leaf=0.001, min_weight_fraction_leaf=0.1, splitter=random;, score=-6086.536 total time=   0.0s\n",
      "[CV 1/3] END max_depth=9, max_features=auto, max_leaf_nodes=30, min_samples_leaf=0.001, min_weight_fraction_leaf=0.1, splitter=best;, score=-3472.693 total time=   0.0s\n",
      "[CV 2/3] END max_depth=9, max_features=auto, max_leaf_nodes=30, min_samples_leaf=0.001, min_weight_fraction_leaf=0.1, splitter=best;, score=-3550.671 total time=   0.0s\n",
      "[CV 3/3] END max_depth=9, max_features=auto, max_leaf_nodes=30, min_samples_leaf=0.001, min_weight_fraction_leaf=0.1, splitter=best;, score=-3522.901 total time=   0.0s\n",
      "[CV 1/3] END max_depth=9, max_features=auto, max_leaf_nodes=30, min_samples_leaf=0.001, min_weight_fraction_leaf=0.1, splitter=random;, score=-12613.323 total time=   0.0s\n",
      "[CV 2/3] END max_depth=9, max_features=auto, max_leaf_nodes=30, min_samples_leaf=0.001, min_weight_fraction_leaf=0.1, splitter=random;, score=-9252.708 total time=   0.0s\n",
      "[CV 3/3] END max_depth=9, max_features=auto, max_leaf_nodes=30, min_samples_leaf=0.001, min_weight_fraction_leaf=0.1, splitter=random;, score=-4870.265 total time=   0.0s\n",
      "[CV 1/3] END max_depth=9, max_features=auto, max_leaf_nodes=40, min_samples_leaf=0.001, min_weight_fraction_leaf=0.1, splitter=best;, score=-3472.693 total time=   0.0s\n"
     ]
    },
    {
     "name": "stderr",
     "output_type": "stream",
     "text": [
      "/opt/anaconda3/lib/python3.8/site-packages/sklearn/tree/_classes.py:306: FutureWarning: `max_features='auto'` has been deprecated in 1.1 and will be removed in 1.3. To keep the past behaviour, explicitly set `max_features=1.0'`.\n",
      "  warnings.warn(\n",
      "/opt/anaconda3/lib/python3.8/site-packages/sklearn/tree/_classes.py:306: FutureWarning: `max_features='auto'` has been deprecated in 1.1 and will be removed in 1.3. To keep the past behaviour, explicitly set `max_features=1.0'`.\n",
      "  warnings.warn(\n",
      "/opt/anaconda3/lib/python3.8/site-packages/sklearn/tree/_classes.py:306: FutureWarning: `max_features='auto'` has been deprecated in 1.1 and will be removed in 1.3. To keep the past behaviour, explicitly set `max_features=1.0'`.\n",
      "  warnings.warn(\n",
      "/opt/anaconda3/lib/python3.8/site-packages/sklearn/tree/_classes.py:306: FutureWarning: `max_features='auto'` has been deprecated in 1.1 and will be removed in 1.3. To keep the past behaviour, explicitly set `max_features=1.0'`.\n",
      "  warnings.warn(\n",
      "/opt/anaconda3/lib/python3.8/site-packages/sklearn/tree/_classes.py:306: FutureWarning: `max_features='auto'` has been deprecated in 1.1 and will be removed in 1.3. To keep the past behaviour, explicitly set `max_features=1.0'`.\n",
      "  warnings.warn(\n",
      "/opt/anaconda3/lib/python3.8/site-packages/sklearn/tree/_classes.py:306: FutureWarning: `max_features='auto'` has been deprecated in 1.1 and will be removed in 1.3. To keep the past behaviour, explicitly set `max_features=1.0'`.\n",
      "  warnings.warn(\n",
      "/opt/anaconda3/lib/python3.8/site-packages/sklearn/tree/_classes.py:306: FutureWarning: `max_features='auto'` has been deprecated in 1.1 and will be removed in 1.3. To keep the past behaviour, explicitly set `max_features=1.0'`.\n",
      "  warnings.warn(\n",
      "/opt/anaconda3/lib/python3.8/site-packages/sklearn/tree/_classes.py:306: FutureWarning: `max_features='auto'` has been deprecated in 1.1 and will be removed in 1.3. To keep the past behaviour, explicitly set `max_features=1.0'`.\n",
      "  warnings.warn(\n"
     ]
    },
    {
     "name": "stdout",
     "output_type": "stream",
     "text": [
      "[CV 2/3] END max_depth=9, max_features=auto, max_leaf_nodes=40, min_samples_leaf=0.001, min_weight_fraction_leaf=0.1, splitter=best;, score=-3550.671 total time=   0.0s\n",
      "[CV 3/3] END max_depth=9, max_features=auto, max_leaf_nodes=40, min_samples_leaf=0.001, min_weight_fraction_leaf=0.1, splitter=best;, score=-3522.901 total time=   0.0s\n",
      "[CV 1/3] END max_depth=9, max_features=auto, max_leaf_nodes=40, min_samples_leaf=0.001, min_weight_fraction_leaf=0.1, splitter=random;, score=-6293.888 total time=   0.0s\n",
      "[CV 2/3] END max_depth=9, max_features=auto, max_leaf_nodes=40, min_samples_leaf=0.001, min_weight_fraction_leaf=0.1, splitter=random;, score=-6350.969 total time=   0.0s\n",
      "[CV 3/3] END max_depth=9, max_features=auto, max_leaf_nodes=40, min_samples_leaf=0.001, min_weight_fraction_leaf=0.1, splitter=random;, score=-5164.245 total time=   0.0s\n",
      "[CV 1/3] END max_depth=9, max_features=auto, max_leaf_nodes=50, min_samples_leaf=0.001, min_weight_fraction_leaf=0.1, splitter=best;, score=-3472.693 total time=   0.0s\n",
      "[CV 2/3] END max_depth=9, max_features=auto, max_leaf_nodes=50, min_samples_leaf=0.001, min_weight_fraction_leaf=0.1, splitter=best;, score=-3550.671 total time=   0.0s\n",
      "[CV 3/3] END max_depth=9, max_features=auto, max_leaf_nodes=50, min_samples_leaf=0.001, min_weight_fraction_leaf=0.1, splitter=best;, score=-3522.901 total time=   0.0s\n",
      "[CV 1/3] END max_depth=9, max_features=auto, max_leaf_nodes=50, min_samples_leaf=0.001, min_weight_fraction_leaf=0.1, splitter=random;, score=-5077.738 total time=   0.0s\n"
     ]
    },
    {
     "name": "stderr",
     "output_type": "stream",
     "text": [
      "/opt/anaconda3/lib/python3.8/site-packages/sklearn/tree/_classes.py:306: FutureWarning: `max_features='auto'` has been deprecated in 1.1 and will be removed in 1.3. To keep the past behaviour, explicitly set `max_features=1.0'`.\n",
      "  warnings.warn(\n",
      "/opt/anaconda3/lib/python3.8/site-packages/sklearn/tree/_classes.py:306: FutureWarning: `max_features='auto'` has been deprecated in 1.1 and will be removed in 1.3. To keep the past behaviour, explicitly set `max_features=1.0'`.\n",
      "  warnings.warn(\n",
      "/opt/anaconda3/lib/python3.8/site-packages/sklearn/tree/_classes.py:306: FutureWarning: `max_features='auto'` has been deprecated in 1.1 and will be removed in 1.3. To keep the past behaviour, explicitly set `max_features=1.0'`.\n",
      "  warnings.warn(\n",
      "/opt/anaconda3/lib/python3.8/site-packages/sklearn/tree/_classes.py:306: FutureWarning: `max_features='auto'` has been deprecated in 1.1 and will be removed in 1.3. To keep the past behaviour, explicitly set `max_features=1.0'`.\n",
      "  warnings.warn(\n",
      "/opt/anaconda3/lib/python3.8/site-packages/sklearn/tree/_classes.py:306: FutureWarning: `max_features='auto'` has been deprecated in 1.1 and will be removed in 1.3. To keep the past behaviour, explicitly set `max_features=1.0'`.\n",
      "  warnings.warn(\n",
      "/opt/anaconda3/lib/python3.8/site-packages/sklearn/tree/_classes.py:306: FutureWarning: `max_features='auto'` has been deprecated in 1.1 and will be removed in 1.3. To keep the past behaviour, explicitly set `max_features=1.0'`.\n",
      "  warnings.warn(\n",
      "/opt/anaconda3/lib/python3.8/site-packages/sklearn/tree/_classes.py:306: FutureWarning: `max_features='auto'` has been deprecated in 1.1 and will be removed in 1.3. To keep the past behaviour, explicitly set `max_features=1.0'`.\n",
      "  warnings.warn(\n",
      "/opt/anaconda3/lib/python3.8/site-packages/sklearn/tree/_classes.py:306: FutureWarning: `max_features='auto'` has been deprecated in 1.1 and will be removed in 1.3. To keep the past behaviour, explicitly set `max_features=1.0'`.\n",
      "  warnings.warn(\n",
      "/opt/anaconda3/lib/python3.8/site-packages/sklearn/tree/_classes.py:306: FutureWarning: `max_features='auto'` has been deprecated in 1.1 and will be removed in 1.3. To keep the past behaviour, explicitly set `max_features=1.0'`.\n",
      "  warnings.warn(\n"
     ]
    },
    {
     "name": "stdout",
     "output_type": "stream",
     "text": [
      "[CV 2/3] END max_depth=9, max_features=auto, max_leaf_nodes=50, min_samples_leaf=0.001, min_weight_fraction_leaf=0.1, splitter=random;, score=-10895.241 total time=   0.0s\n",
      "[CV 3/3] END max_depth=9, max_features=auto, max_leaf_nodes=50, min_samples_leaf=0.001, min_weight_fraction_leaf=0.1, splitter=random;, score=-3903.291 total time=   0.0s\n",
      "[CV 1/3] END max_depth=9, max_features=auto, max_leaf_nodes=60, min_samples_leaf=0.001, min_weight_fraction_leaf=0.1, splitter=best;, score=-3472.693 total time=   0.0s\n",
      "[CV 2/3] END max_depth=9, max_features=auto, max_leaf_nodes=60, min_samples_leaf=0.001, min_weight_fraction_leaf=0.1, splitter=best;, score=-3550.671 total time=   0.0s\n",
      "[CV 3/3] END max_depth=9, max_features=auto, max_leaf_nodes=60, min_samples_leaf=0.001, min_weight_fraction_leaf=0.1, splitter=best;, score=-3522.901 total time=   0.0s\n",
      "[CV 1/3] END max_depth=9, max_features=auto, max_leaf_nodes=60, min_samples_leaf=0.001, min_weight_fraction_leaf=0.1, splitter=random;, score=-4269.556 total time=   0.0s\n",
      "[CV 2/3] END max_depth=9, max_features=auto, max_leaf_nodes=60, min_samples_leaf=0.001, min_weight_fraction_leaf=0.1, splitter=random;, score=-3718.559 total time=   0.0s\n",
      "[CV 3/3] END max_depth=9, max_features=auto, max_leaf_nodes=60, min_samples_leaf=0.001, min_weight_fraction_leaf=0.1, splitter=random;, score=-10234.618 total time=   0.0s\n",
      "[CV 1/3] END max_depth=9, max_features=log2, max_leaf_nodes=10, min_samples_leaf=0.001, min_weight_fraction_leaf=0.1, splitter=best;, score=-4368.855 total time=   0.0s\n",
      "[CV 2/3] END max_depth=9, max_features=log2, max_leaf_nodes=10, min_samples_leaf=0.001, min_weight_fraction_leaf=0.1, splitter=best;, score=-16696.960 total time=   0.0s\n"
     ]
    },
    {
     "name": "stderr",
     "output_type": "stream",
     "text": [
      "/opt/anaconda3/lib/python3.8/site-packages/sklearn/tree/_classes.py:306: FutureWarning: `max_features='auto'` has been deprecated in 1.1 and will be removed in 1.3. To keep the past behaviour, explicitly set `max_features=1.0'`.\n",
      "  warnings.warn(\n"
     ]
    },
    {
     "name": "stdout",
     "output_type": "stream",
     "text": [
      "[CV 3/3] END max_depth=9, max_features=log2, max_leaf_nodes=10, min_samples_leaf=0.001, min_weight_fraction_leaf=0.1, splitter=best;, score=-6566.861 total time=   0.0s\n",
      "[CV 1/3] END max_depth=9, max_features=log2, max_leaf_nodes=10, min_samples_leaf=0.001, min_weight_fraction_leaf=0.1, splitter=random;, score=-13445.985 total time=   0.0s\n",
      "[CV 2/3] END max_depth=9, max_features=log2, max_leaf_nodes=10, min_samples_leaf=0.001, min_weight_fraction_leaf=0.1, splitter=random;, score=-13051.089 total time=   0.0s\n",
      "[CV 3/3] END max_depth=9, max_features=log2, max_leaf_nodes=10, min_samples_leaf=0.001, min_weight_fraction_leaf=0.1, splitter=random;, score=-16262.955 total time=   0.0s\n",
      "[CV 1/3] END max_depth=9, max_features=log2, max_leaf_nodes=20, min_samples_leaf=0.001, min_weight_fraction_leaf=0.1, splitter=best;, score=-6582.456 total time=   0.0s\n",
      "[CV 2/3] END max_depth=9, max_features=log2, max_leaf_nodes=20, min_samples_leaf=0.001, min_weight_fraction_leaf=0.1, splitter=best;, score=-13330.420 total time=   0.0s\n",
      "[CV 3/3] END max_depth=9, max_features=log2, max_leaf_nodes=20, min_samples_leaf=0.001, min_weight_fraction_leaf=0.1, splitter=best;, score=-6823.767 total time=   0.0s\n",
      "[CV 1/3] END max_depth=9, max_features=log2, max_leaf_nodes=20, min_samples_leaf=0.001, min_weight_fraction_leaf=0.1, splitter=random;, score=-10776.406 total time=   0.0s\n",
      "[CV 2/3] END max_depth=9, max_features=log2, max_leaf_nodes=20, min_samples_leaf=0.001, min_weight_fraction_leaf=0.1, splitter=random;, score=-16958.197 total time=   0.0s\n",
      "[CV 3/3] END max_depth=9, max_features=log2, max_leaf_nodes=20, min_samples_leaf=0.001, min_weight_fraction_leaf=0.1, splitter=random;, score=-18830.837 total time=   0.0s\n",
      "[CV 1/3] END max_depth=9, max_features=log2, max_leaf_nodes=30, min_samples_leaf=0.001, min_weight_fraction_leaf=0.1, splitter=best;, score=-4471.427 total time=   0.0s\n",
      "[CV 2/3] END max_depth=9, max_features=log2, max_leaf_nodes=30, min_samples_leaf=0.001, min_weight_fraction_leaf=0.1, splitter=best;, score=-13268.216 total time=   0.0s\n",
      "[CV 3/3] END max_depth=9, max_features=log2, max_leaf_nodes=30, min_samples_leaf=0.001, min_weight_fraction_leaf=0.1, splitter=best;, score=-4715.751 total time=   0.0s\n",
      "[CV 1/3] END max_depth=9, max_features=log2, max_leaf_nodes=30, min_samples_leaf=0.001, min_weight_fraction_leaf=0.1, splitter=random;, score=-23387.429 total time=   0.0s\n",
      "[CV 2/3] END max_depth=9, max_features=log2, max_leaf_nodes=30, min_samples_leaf=0.001, min_weight_fraction_leaf=0.1, splitter=random;, score=-22707.665 total time=   0.0s\n",
      "[CV 3/3] END max_depth=9, max_features=log2, max_leaf_nodes=30, min_samples_leaf=0.001, min_weight_fraction_leaf=0.1, splitter=random;, score=-8580.330 total time=   0.0s\n",
      "[CV 1/3] END max_depth=9, max_features=log2, max_leaf_nodes=40, min_samples_leaf=0.001, min_weight_fraction_leaf=0.1, splitter=best;, score=-10782.460 total time=   0.0s\n",
      "[CV 2/3] END max_depth=9, max_features=log2, max_leaf_nodes=40, min_samples_leaf=0.001, min_weight_fraction_leaf=0.1, splitter=best;, score=-7726.055 total time=   0.0s\n",
      "[CV 3/3] END max_depth=9, max_features=log2, max_leaf_nodes=40, min_samples_leaf=0.001, min_weight_fraction_leaf=0.1, splitter=best;, score=-4082.353 total time=   0.0s\n",
      "[CV 1/3] END max_depth=9, max_features=log2, max_leaf_nodes=40, min_samples_leaf=0.001, min_weight_fraction_leaf=0.1, splitter=random;, score=-11251.589 total time=   0.0s\n",
      "[CV 2/3] END max_depth=9, max_features=log2, max_leaf_nodes=40, min_samples_leaf=0.001, min_weight_fraction_leaf=0.1, splitter=random;, score=-15054.290 total time=   0.0s\n",
      "[CV 3/3] END max_depth=9, max_features=log2, max_leaf_nodes=40, min_samples_leaf=0.001, min_weight_fraction_leaf=0.1, splitter=random;, score=-15788.953 total time=   0.0s\n",
      "[CV 1/3] END max_depth=9, max_features=log2, max_leaf_nodes=50, min_samples_leaf=0.001, min_weight_fraction_leaf=0.1, splitter=best;, score=-6533.746 total time=   0.0s\n",
      "[CV 2/3] END max_depth=9, max_features=log2, max_leaf_nodes=50, min_samples_leaf=0.001, min_weight_fraction_leaf=0.1, splitter=best;, score=-10600.728 total time=   0.0s\n",
      "[CV 3/3] END max_depth=9, max_features=log2, max_leaf_nodes=50, min_samples_leaf=0.001, min_weight_fraction_leaf=0.1, splitter=best;, score=-10935.858 total time=   0.0s\n",
      "[CV 1/3] END max_depth=9, max_features=log2, max_leaf_nodes=50, min_samples_leaf=0.001, min_weight_fraction_leaf=0.1, splitter=random;, score=-23387.429 total time=   0.0s\n",
      "[CV 2/3] END max_depth=9, max_features=log2, max_leaf_nodes=50, min_samples_leaf=0.001, min_weight_fraction_leaf=0.1, splitter=random;, score=-11851.287 total time=   0.0s\n",
      "[CV 3/3] END max_depth=9, max_features=log2, max_leaf_nodes=50, min_samples_leaf=0.001, min_weight_fraction_leaf=0.1, splitter=random;, score=-16961.458 total time=   0.0s\n",
      "[CV 1/3] END max_depth=9, max_features=log2, max_leaf_nodes=60, min_samples_leaf=0.001, min_weight_fraction_leaf=0.1, splitter=best;, score=-9919.346 total time=   0.0s\n",
      "[CV 2/3] END max_depth=9, max_features=log2, max_leaf_nodes=60, min_samples_leaf=0.001, min_weight_fraction_leaf=0.1, splitter=best;, score=-13543.858 total time=   0.0s\n",
      "[CV 3/3] END max_depth=9, max_features=log2, max_leaf_nodes=60, min_samples_leaf=0.001, min_weight_fraction_leaf=0.1, splitter=best;, score=-11164.895 total time=   0.0s\n",
      "[CV 1/3] END max_depth=9, max_features=log2, max_leaf_nodes=60, min_samples_leaf=0.001, min_weight_fraction_leaf=0.1, splitter=random;, score=-19486.977 total time=   0.0s\n",
      "[CV 2/3] END max_depth=9, max_features=log2, max_leaf_nodes=60, min_samples_leaf=0.001, min_weight_fraction_leaf=0.1, splitter=random;, score=-17782.044 total time=   0.0s\n",
      "[CV 3/3] END max_depth=9, max_features=log2, max_leaf_nodes=60, min_samples_leaf=0.001, min_weight_fraction_leaf=0.1, splitter=random;, score=-16060.901 total time=   0.0s\n",
      "[CV 1/3] END max_depth=9, max_features=sqrt, max_leaf_nodes=10, min_samples_leaf=0.001, min_weight_fraction_leaf=0.1, splitter=best;, score=-6166.115 total time=   0.0s\n",
      "[CV 2/3] END max_depth=9, max_features=sqrt, max_leaf_nodes=10, min_samples_leaf=0.001, min_weight_fraction_leaf=0.1, splitter=best;, score=-7802.174 total time=   0.0s\n",
      "[CV 3/3] END max_depth=9, max_features=sqrt, max_leaf_nodes=10, min_samples_leaf=0.001, min_weight_fraction_leaf=0.1, splitter=best;, score=-12311.943 total time=   0.0s\n",
      "[CV 1/3] END max_depth=9, max_features=sqrt, max_leaf_nodes=10, min_samples_leaf=0.001, min_weight_fraction_leaf=0.1, splitter=random;, score=-15908.849 total time=   0.0s\n",
      "[CV 2/3] END max_depth=9, max_features=sqrt, max_leaf_nodes=10, min_samples_leaf=0.001, min_weight_fraction_leaf=0.1, splitter=random;, score=-19876.266 total time=   0.0s\n",
      "[CV 3/3] END max_depth=9, max_features=sqrt, max_leaf_nodes=10, min_samples_leaf=0.001, min_weight_fraction_leaf=0.1, splitter=random;, score=-15816.589 total time=   0.0s\n",
      "[CV 1/3] END max_depth=9, max_features=sqrt, max_leaf_nodes=20, min_samples_leaf=0.001, min_weight_fraction_leaf=0.1, splitter=best;, score=-12292.613 total time=   0.0s\n",
      "[CV 2/3] END max_depth=9, max_features=sqrt, max_leaf_nodes=20, min_samples_leaf=0.001, min_weight_fraction_leaf=0.1, splitter=best;, score=-6896.216 total time=   0.0s\n",
      "[CV 3/3] END max_depth=9, max_features=sqrt, max_leaf_nodes=20, min_samples_leaf=0.001, min_weight_fraction_leaf=0.1, splitter=best;, score=-10426.086 total time=   0.0s\n",
      "[CV 1/3] END max_depth=9, max_features=sqrt, max_leaf_nodes=20, min_samples_leaf=0.001, min_weight_fraction_leaf=0.1, splitter=random;, score=-23133.574 total time=   0.0s\n",
      "[CV 2/3] END max_depth=9, max_features=sqrt, max_leaf_nodes=20, min_samples_leaf=0.001, min_weight_fraction_leaf=0.1, splitter=random;, score=-16853.057 total time=   0.0s\n",
      "[CV 3/3] END max_depth=9, max_features=sqrt, max_leaf_nodes=20, min_samples_leaf=0.001, min_weight_fraction_leaf=0.1, splitter=random;, score=-23543.854 total time=   0.0s\n",
      "[CV 1/3] END max_depth=9, max_features=sqrt, max_leaf_nodes=30, min_samples_leaf=0.001, min_weight_fraction_leaf=0.1, splitter=best;, score=-3493.227 total time=   0.0s\n",
      "[CV 2/3] END max_depth=9, max_features=sqrt, max_leaf_nodes=30, min_samples_leaf=0.001, min_weight_fraction_leaf=0.1, splitter=best;, score=-13293.839 total time=   0.0s\n",
      "[CV 3/3] END max_depth=9, max_features=sqrt, max_leaf_nodes=30, min_samples_leaf=0.001, min_weight_fraction_leaf=0.1, splitter=best;, score=-12923.133 total time=   0.0s\n",
      "[CV 1/3] END max_depth=9, max_features=sqrt, max_leaf_nodes=30, min_samples_leaf=0.001, min_weight_fraction_leaf=0.1, splitter=random;, score=-11027.567 total time=   0.0s\n",
      "[CV 2/3] END max_depth=9, max_features=sqrt, max_leaf_nodes=30, min_samples_leaf=0.001, min_weight_fraction_leaf=0.1, splitter=random;, score=-13105.086 total time=   0.0s\n",
      "[CV 3/3] END max_depth=9, max_features=sqrt, max_leaf_nodes=30, min_samples_leaf=0.001, min_weight_fraction_leaf=0.1, splitter=random;, score=-14161.685 total time=   0.0s\n",
      "[CV 1/3] END max_depth=9, max_features=sqrt, max_leaf_nodes=40, min_samples_leaf=0.001, min_weight_fraction_leaf=0.1, splitter=best;, score=-3486.248 total time=   0.0s\n",
      "[CV 2/3] END max_depth=9, max_features=sqrt, max_leaf_nodes=40, min_samples_leaf=0.001, min_weight_fraction_leaf=0.1, splitter=best;, score=-13628.944 total time=   0.0s\n",
      "[CV 3/3] END max_depth=9, max_features=sqrt, max_leaf_nodes=40, min_samples_leaf=0.001, min_weight_fraction_leaf=0.1, splitter=best;, score=-13779.324 total time=   0.0s\n",
      "[CV 1/3] END max_depth=9, max_features=sqrt, max_leaf_nodes=40, min_samples_leaf=0.001, min_weight_fraction_leaf=0.1, splitter=random;, score=-15716.906 total time=   0.0s\n",
      "[CV 2/3] END max_depth=9, max_features=sqrt, max_leaf_nodes=40, min_samples_leaf=0.001, min_weight_fraction_leaf=0.1, splitter=random;, score=-9872.082 total time=   0.0s\n",
      "[CV 3/3] END max_depth=9, max_features=sqrt, max_leaf_nodes=40, min_samples_leaf=0.001, min_weight_fraction_leaf=0.1, splitter=random;, score=-7872.284 total time=   0.0s\n",
      "[CV 1/3] END max_depth=9, max_features=sqrt, max_leaf_nodes=50, min_samples_leaf=0.001, min_weight_fraction_leaf=0.1, splitter=best;, score=-9442.092 total time=   0.0s\n",
      "[CV 2/3] END max_depth=9, max_features=sqrt, max_leaf_nodes=50, min_samples_leaf=0.001, min_weight_fraction_leaf=0.1, splitter=best;, score=-13163.779 total time=   0.0s\n",
      "[CV 3/3] END max_depth=9, max_features=sqrt, max_leaf_nodes=50, min_samples_leaf=0.001, min_weight_fraction_leaf=0.1, splitter=best;, score=-10078.853 total time=   0.0s\n",
      "[CV 1/3] END max_depth=9, max_features=sqrt, max_leaf_nodes=50, min_samples_leaf=0.001, min_weight_fraction_leaf=0.1, splitter=random;, score=-6631.252 total time=   0.0s\n",
      "[CV 2/3] END max_depth=9, max_features=sqrt, max_leaf_nodes=50, min_samples_leaf=0.001, min_weight_fraction_leaf=0.1, splitter=random;, score=-7605.535 total time=   0.0s\n",
      "[CV 3/3] END max_depth=9, max_features=sqrt, max_leaf_nodes=50, min_samples_leaf=0.001, min_weight_fraction_leaf=0.1, splitter=random;, score=-19815.912 total time=   0.0s\n",
      "[CV 1/3] END max_depth=9, max_features=sqrt, max_leaf_nodes=60, min_samples_leaf=0.001, min_weight_fraction_leaf=0.1, splitter=best;, score=-8526.417 total time=   0.0s\n",
      "[CV 2/3] END max_depth=9, max_features=sqrt, max_leaf_nodes=60, min_samples_leaf=0.001, min_weight_fraction_leaf=0.1, splitter=best;, score=-3786.886 total time=   0.0s\n",
      "[CV 3/3] END max_depth=9, max_features=sqrt, max_leaf_nodes=60, min_samples_leaf=0.001, min_weight_fraction_leaf=0.1, splitter=best;, score=-6350.800 total time=   0.0s\n",
      "[CV 1/3] END max_depth=9, max_features=sqrt, max_leaf_nodes=60, min_samples_leaf=0.001, min_weight_fraction_leaf=0.1, splitter=random;, score=-16702.329 total time=   0.0s\n",
      "[CV 2/3] END max_depth=9, max_features=sqrt, max_leaf_nodes=60, min_samples_leaf=0.001, min_weight_fraction_leaf=0.1, splitter=random;, score=-16195.042 total time=   0.0s\n",
      "[CV 3/3] END max_depth=9, max_features=sqrt, max_leaf_nodes=60, min_samples_leaf=0.001, min_weight_fraction_leaf=0.1, splitter=random;, score=-14032.900 total time=   0.0s\n",
      "[CV 1/3] END max_depth=11, max_features=auto, max_leaf_nodes=10, min_samples_leaf=0.001, min_weight_fraction_leaf=0.1, splitter=best;, score=-3472.693 total time=   0.0s\n"
     ]
    },
    {
     "name": "stderr",
     "output_type": "stream",
     "text": [
      "/opt/anaconda3/lib/python3.8/site-packages/sklearn/tree/_classes.py:306: FutureWarning: `max_features='auto'` has been deprecated in 1.1 and will be removed in 1.3. To keep the past behaviour, explicitly set `max_features=1.0'`.\n",
      "  warnings.warn(\n",
      "/opt/anaconda3/lib/python3.8/site-packages/sklearn/tree/_classes.py:306: FutureWarning: `max_features='auto'` has been deprecated in 1.1 and will be removed in 1.3. To keep the past behaviour, explicitly set `max_features=1.0'`.\n",
      "  warnings.warn(\n",
      "/opt/anaconda3/lib/python3.8/site-packages/sklearn/tree/_classes.py:306: FutureWarning: `max_features='auto'` has been deprecated in 1.1 and will be removed in 1.3. To keep the past behaviour, explicitly set `max_features=1.0'`.\n",
      "  warnings.warn(\n",
      "/opt/anaconda3/lib/python3.8/site-packages/sklearn/tree/_classes.py:306: FutureWarning: `max_features='auto'` has been deprecated in 1.1 and will be removed in 1.3. To keep the past behaviour, explicitly set `max_features=1.0'`.\n",
      "  warnings.warn(\n",
      "/opt/anaconda3/lib/python3.8/site-packages/sklearn/tree/_classes.py:306: FutureWarning: `max_features='auto'` has been deprecated in 1.1 and will be removed in 1.3. To keep the past behaviour, explicitly set `max_features=1.0'`.\n",
      "  warnings.warn(\n",
      "/opt/anaconda3/lib/python3.8/site-packages/sklearn/tree/_classes.py:306: FutureWarning: `max_features='auto'` has been deprecated in 1.1 and will be removed in 1.3. To keep the past behaviour, explicitly set `max_features=1.0'`.\n",
      "  warnings.warn(\n",
      "/opt/anaconda3/lib/python3.8/site-packages/sklearn/tree/_classes.py:306: FutureWarning: `max_features='auto'` has been deprecated in 1.1 and will be removed in 1.3. To keep the past behaviour, explicitly set `max_features=1.0'`.\n",
      "  warnings.warn(\n",
      "/opt/anaconda3/lib/python3.8/site-packages/sklearn/tree/_classes.py:306: FutureWarning: `max_features='auto'` has been deprecated in 1.1 and will be removed in 1.3. To keep the past behaviour, explicitly set `max_features=1.0'`.\n",
      "  warnings.warn(\n"
     ]
    },
    {
     "name": "stdout",
     "output_type": "stream",
     "text": [
      "[CV 2/3] END max_depth=11, max_features=auto, max_leaf_nodes=10, min_samples_leaf=0.001, min_weight_fraction_leaf=0.1, splitter=best;, score=-3550.671 total time=   0.0s\n",
      "[CV 3/3] END max_depth=11, max_features=auto, max_leaf_nodes=10, min_samples_leaf=0.001, min_weight_fraction_leaf=0.1, splitter=best;, score=-3522.901 total time=   0.0s\n",
      "[CV 1/3] END max_depth=11, max_features=auto, max_leaf_nodes=10, min_samples_leaf=0.001, min_weight_fraction_leaf=0.1, splitter=random;, score=-5115.106 total time=   0.0s\n",
      "[CV 2/3] END max_depth=11, max_features=auto, max_leaf_nodes=10, min_samples_leaf=0.001, min_weight_fraction_leaf=0.1, splitter=random;, score=-7708.005 total time=   0.0s\n",
      "[CV 3/3] END max_depth=11, max_features=auto, max_leaf_nodes=10, min_samples_leaf=0.001, min_weight_fraction_leaf=0.1, splitter=random;, score=-10096.961 total time=   0.0s\n",
      "[CV 1/3] END max_depth=11, max_features=auto, max_leaf_nodes=20, min_samples_leaf=0.001, min_weight_fraction_leaf=0.1, splitter=best;, score=-3472.693 total time=   0.0s\n",
      "[CV 2/3] END max_depth=11, max_features=auto, max_leaf_nodes=20, min_samples_leaf=0.001, min_weight_fraction_leaf=0.1, splitter=best;, score=-3550.671 total time=   0.0s\n",
      "[CV 3/3] END max_depth=11, max_features=auto, max_leaf_nodes=20, min_samples_leaf=0.001, min_weight_fraction_leaf=0.1, splitter=best;, score=-3522.901 total time=   0.0s\n",
      "[CV 1/3] END max_depth=11, max_features=auto, max_leaf_nodes=20, min_samples_leaf=0.001, min_weight_fraction_leaf=0.1, splitter=random;, score=-3688.400 total time=   0.0s\n"
     ]
    },
    {
     "name": "stderr",
     "output_type": "stream",
     "text": [
      "/opt/anaconda3/lib/python3.8/site-packages/sklearn/tree/_classes.py:306: FutureWarning: `max_features='auto'` has been deprecated in 1.1 and will be removed in 1.3. To keep the past behaviour, explicitly set `max_features=1.0'`.\n",
      "  warnings.warn(\n",
      "/opt/anaconda3/lib/python3.8/site-packages/sklearn/tree/_classes.py:306: FutureWarning: `max_features='auto'` has been deprecated in 1.1 and will be removed in 1.3. To keep the past behaviour, explicitly set `max_features=1.0'`.\n",
      "  warnings.warn(\n",
      "/opt/anaconda3/lib/python3.8/site-packages/sklearn/tree/_classes.py:306: FutureWarning: `max_features='auto'` has been deprecated in 1.1 and will be removed in 1.3. To keep the past behaviour, explicitly set `max_features=1.0'`.\n",
      "  warnings.warn(\n",
      "/opt/anaconda3/lib/python3.8/site-packages/sklearn/tree/_classes.py:306: FutureWarning: `max_features='auto'` has been deprecated in 1.1 and will be removed in 1.3. To keep the past behaviour, explicitly set `max_features=1.0'`.\n",
      "  warnings.warn(\n",
      "/opt/anaconda3/lib/python3.8/site-packages/sklearn/tree/_classes.py:306: FutureWarning: `max_features='auto'` has been deprecated in 1.1 and will be removed in 1.3. To keep the past behaviour, explicitly set `max_features=1.0'`.\n",
      "  warnings.warn(\n",
      "/opt/anaconda3/lib/python3.8/site-packages/sklearn/tree/_classes.py:306: FutureWarning: `max_features='auto'` has been deprecated in 1.1 and will be removed in 1.3. To keep the past behaviour, explicitly set `max_features=1.0'`.\n",
      "  warnings.warn(\n",
      "/opt/anaconda3/lib/python3.8/site-packages/sklearn/tree/_classes.py:306: FutureWarning: `max_features='auto'` has been deprecated in 1.1 and will be removed in 1.3. To keep the past behaviour, explicitly set `max_features=1.0'`.\n",
      "  warnings.warn(\n",
      "/opt/anaconda3/lib/python3.8/site-packages/sklearn/tree/_classes.py:306: FutureWarning: `max_features='auto'` has been deprecated in 1.1 and will be removed in 1.3. To keep the past behaviour, explicitly set `max_features=1.0'`.\n",
      "  warnings.warn(\n",
      "/opt/anaconda3/lib/python3.8/site-packages/sklearn/tree/_classes.py:306: FutureWarning: `max_features='auto'` has been deprecated in 1.1 and will be removed in 1.3. To keep the past behaviour, explicitly set `max_features=1.0'`.\n",
      "  warnings.warn(\n"
     ]
    },
    {
     "name": "stdout",
     "output_type": "stream",
     "text": [
      "[CV 2/3] END max_depth=11, max_features=auto, max_leaf_nodes=20, min_samples_leaf=0.001, min_weight_fraction_leaf=0.1, splitter=random;, score=-5674.898 total time=   0.0s\n",
      "[CV 3/3] END max_depth=11, max_features=auto, max_leaf_nodes=20, min_samples_leaf=0.001, min_weight_fraction_leaf=0.1, splitter=random;, score=-14604.047 total time=   0.0s\n",
      "[CV 1/3] END max_depth=11, max_features=auto, max_leaf_nodes=30, min_samples_leaf=0.001, min_weight_fraction_leaf=0.1, splitter=best;, score=-3472.693 total time=   0.0s\n",
      "[CV 2/3] END max_depth=11, max_features=auto, max_leaf_nodes=30, min_samples_leaf=0.001, min_weight_fraction_leaf=0.1, splitter=best;, score=-3550.671 total time=   0.0s\n",
      "[CV 3/3] END max_depth=11, max_features=auto, max_leaf_nodes=30, min_samples_leaf=0.001, min_weight_fraction_leaf=0.1, splitter=best;, score=-3522.901 total time=   0.0s\n",
      "[CV 1/3] END max_depth=11, max_features=auto, max_leaf_nodes=30, min_samples_leaf=0.001, min_weight_fraction_leaf=0.1, splitter=random;, score=-13445.351 total time=   0.0s\n",
      "[CV 2/3] END max_depth=11, max_features=auto, max_leaf_nodes=30, min_samples_leaf=0.001, min_weight_fraction_leaf=0.1, splitter=random;, score=-4475.708 total time=   0.0s\n",
      "[CV 3/3] END max_depth=11, max_features=auto, max_leaf_nodes=30, min_samples_leaf=0.001, min_weight_fraction_leaf=0.1, splitter=random;, score=-4104.385 total time=   0.0s\n",
      "[CV 1/3] END max_depth=11, max_features=auto, max_leaf_nodes=40, min_samples_leaf=0.001, min_weight_fraction_leaf=0.1, splitter=best;, score=-3472.693 total time=   0.0s\n"
     ]
    },
    {
     "name": "stderr",
     "output_type": "stream",
     "text": [
      "/opt/anaconda3/lib/python3.8/site-packages/sklearn/tree/_classes.py:306: FutureWarning: `max_features='auto'` has been deprecated in 1.1 and will be removed in 1.3. To keep the past behaviour, explicitly set `max_features=1.0'`.\n",
      "  warnings.warn(\n",
      "/opt/anaconda3/lib/python3.8/site-packages/sklearn/tree/_classes.py:306: FutureWarning: `max_features='auto'` has been deprecated in 1.1 and will be removed in 1.3. To keep the past behaviour, explicitly set `max_features=1.0'`.\n",
      "  warnings.warn(\n",
      "/opt/anaconda3/lib/python3.8/site-packages/sklearn/tree/_classes.py:306: FutureWarning: `max_features='auto'` has been deprecated in 1.1 and will be removed in 1.3. To keep the past behaviour, explicitly set `max_features=1.0'`.\n",
      "  warnings.warn(\n",
      "/opt/anaconda3/lib/python3.8/site-packages/sklearn/tree/_classes.py:306: FutureWarning: `max_features='auto'` has been deprecated in 1.1 and will be removed in 1.3. To keep the past behaviour, explicitly set `max_features=1.0'`.\n",
      "  warnings.warn(\n",
      "/opt/anaconda3/lib/python3.8/site-packages/sklearn/tree/_classes.py:306: FutureWarning: `max_features='auto'` has been deprecated in 1.1 and will be removed in 1.3. To keep the past behaviour, explicitly set `max_features=1.0'`.\n",
      "  warnings.warn(\n",
      "/opt/anaconda3/lib/python3.8/site-packages/sklearn/tree/_classes.py:306: FutureWarning: `max_features='auto'` has been deprecated in 1.1 and will be removed in 1.3. To keep the past behaviour, explicitly set `max_features=1.0'`.\n",
      "  warnings.warn(\n",
      "/opt/anaconda3/lib/python3.8/site-packages/sklearn/tree/_classes.py:306: FutureWarning: `max_features='auto'` has been deprecated in 1.1 and will be removed in 1.3. To keep the past behaviour, explicitly set `max_features=1.0'`.\n",
      "  warnings.warn(\n",
      "/opt/anaconda3/lib/python3.8/site-packages/sklearn/tree/_classes.py:306: FutureWarning: `max_features='auto'` has been deprecated in 1.1 and will be removed in 1.3. To keep the past behaviour, explicitly set `max_features=1.0'`.\n",
      "  warnings.warn(\n",
      "/opt/anaconda3/lib/python3.8/site-packages/sklearn/tree/_classes.py:306: FutureWarning: `max_features='auto'` has been deprecated in 1.1 and will be removed in 1.3. To keep the past behaviour, explicitly set `max_features=1.0'`.\n",
      "  warnings.warn(\n"
     ]
    },
    {
     "name": "stdout",
     "output_type": "stream",
     "text": [
      "[CV 2/3] END max_depth=11, max_features=auto, max_leaf_nodes=40, min_samples_leaf=0.001, min_weight_fraction_leaf=0.1, splitter=best;, score=-3550.671 total time=   0.0s\n",
      "[CV 3/3] END max_depth=11, max_features=auto, max_leaf_nodes=40, min_samples_leaf=0.001, min_weight_fraction_leaf=0.1, splitter=best;, score=-3522.901 total time=   0.0s\n",
      "[CV 1/3] END max_depth=11, max_features=auto, max_leaf_nodes=40, min_samples_leaf=0.001, min_weight_fraction_leaf=0.1, splitter=random;, score=-13726.998 total time=   0.0s\n",
      "[CV 2/3] END max_depth=11, max_features=auto, max_leaf_nodes=40, min_samples_leaf=0.001, min_weight_fraction_leaf=0.1, splitter=random;, score=-6342.263 total time=   0.0s\n",
      "[CV 3/3] END max_depth=11, max_features=auto, max_leaf_nodes=40, min_samples_leaf=0.001, min_weight_fraction_leaf=0.1, splitter=random;, score=-11924.681 total time=   0.0s\n",
      "[CV 1/3] END max_depth=11, max_features=auto, max_leaf_nodes=50, min_samples_leaf=0.001, min_weight_fraction_leaf=0.1, splitter=best;, score=-3472.693 total time=   0.0s\n",
      "[CV 2/3] END max_depth=11, max_features=auto, max_leaf_nodes=50, min_samples_leaf=0.001, min_weight_fraction_leaf=0.1, splitter=best;, score=-3550.671 total time=   0.0s\n",
      "[CV 3/3] END max_depth=11, max_features=auto, max_leaf_nodes=50, min_samples_leaf=0.001, min_weight_fraction_leaf=0.1, splitter=best;, score=-3522.901 total time=   0.0s\n",
      "[CV 1/3] END max_depth=11, max_features=auto, max_leaf_nodes=50, min_samples_leaf=0.001, min_weight_fraction_leaf=0.1, splitter=random;, score=-8192.559 total time=   0.0s\n",
      "[CV 2/3] END max_depth=11, max_features=auto, max_leaf_nodes=50, min_samples_leaf=0.001, min_weight_fraction_leaf=0.1, splitter=random;, score=-3464.799 total time=   0.0s\n"
     ]
    },
    {
     "name": "stderr",
     "output_type": "stream",
     "text": [
      "/opt/anaconda3/lib/python3.8/site-packages/sklearn/tree/_classes.py:306: FutureWarning: `max_features='auto'` has been deprecated in 1.1 and will be removed in 1.3. To keep the past behaviour, explicitly set `max_features=1.0'`.\n",
      "  warnings.warn(\n",
      "/opt/anaconda3/lib/python3.8/site-packages/sklearn/tree/_classes.py:306: FutureWarning: `max_features='auto'` has been deprecated in 1.1 and will be removed in 1.3. To keep the past behaviour, explicitly set `max_features=1.0'`.\n",
      "  warnings.warn(\n",
      "/opt/anaconda3/lib/python3.8/site-packages/sklearn/tree/_classes.py:306: FutureWarning: `max_features='auto'` has been deprecated in 1.1 and will be removed in 1.3. To keep the past behaviour, explicitly set `max_features=1.0'`.\n",
      "  warnings.warn(\n",
      "/opt/anaconda3/lib/python3.8/site-packages/sklearn/tree/_classes.py:306: FutureWarning: `max_features='auto'` has been deprecated in 1.1 and will be removed in 1.3. To keep the past behaviour, explicitly set `max_features=1.0'`.\n",
      "  warnings.warn(\n",
      "/opt/anaconda3/lib/python3.8/site-packages/sklearn/tree/_classes.py:306: FutureWarning: `max_features='auto'` has been deprecated in 1.1 and will be removed in 1.3. To keep the past behaviour, explicitly set `max_features=1.0'`.\n",
      "  warnings.warn(\n",
      "/opt/anaconda3/lib/python3.8/site-packages/sklearn/tree/_classes.py:306: FutureWarning: `max_features='auto'` has been deprecated in 1.1 and will be removed in 1.3. To keep the past behaviour, explicitly set `max_features=1.0'`.\n",
      "  warnings.warn(\n",
      "/opt/anaconda3/lib/python3.8/site-packages/sklearn/tree/_classes.py:306: FutureWarning: `max_features='auto'` has been deprecated in 1.1 and will be removed in 1.3. To keep the past behaviour, explicitly set `max_features=1.0'`.\n",
      "  warnings.warn(\n",
      "/opt/anaconda3/lib/python3.8/site-packages/sklearn/tree/_classes.py:306: FutureWarning: `max_features='auto'` has been deprecated in 1.1 and will be removed in 1.3. To keep the past behaviour, explicitly set `max_features=1.0'`.\n",
      "  warnings.warn(\n",
      "/opt/anaconda3/lib/python3.8/site-packages/sklearn/tree/_classes.py:306: FutureWarning: `max_features='auto'` has been deprecated in 1.1 and will be removed in 1.3. To keep the past behaviour, explicitly set `max_features=1.0'`.\n",
      "  warnings.warn(\n"
     ]
    },
    {
     "name": "stdout",
     "output_type": "stream",
     "text": [
      "[CV 3/3] END max_depth=11, max_features=auto, max_leaf_nodes=50, min_samples_leaf=0.001, min_weight_fraction_leaf=0.1, splitter=random;, score=-9093.259 total time=   0.0s\n",
      "[CV 1/3] END max_depth=11, max_features=auto, max_leaf_nodes=60, min_samples_leaf=0.001, min_weight_fraction_leaf=0.1, splitter=best;, score=-3472.693 total time=   0.0s\n",
      "[CV 2/3] END max_depth=11, max_features=auto, max_leaf_nodes=60, min_samples_leaf=0.001, min_weight_fraction_leaf=0.1, splitter=best;, score=-3550.671 total time=   0.0s\n",
      "[CV 3/3] END max_depth=11, max_features=auto, max_leaf_nodes=60, min_samples_leaf=0.001, min_weight_fraction_leaf=0.1, splitter=best;, score=-3522.901 total time=   0.0s\n",
      "[CV 1/3] END max_depth=11, max_features=auto, max_leaf_nodes=60, min_samples_leaf=0.001, min_weight_fraction_leaf=0.1, splitter=random;, score=-7001.252 total time=   0.0s\n",
      "[CV 2/3] END max_depth=11, max_features=auto, max_leaf_nodes=60, min_samples_leaf=0.001, min_weight_fraction_leaf=0.1, splitter=random;, score=-12203.899 total time=   0.0s\n",
      "[CV 3/3] END max_depth=11, max_features=auto, max_leaf_nodes=60, min_samples_leaf=0.001, min_weight_fraction_leaf=0.1, splitter=random;, score=-3586.827 total time=   0.0s\n",
      "[CV 1/3] END max_depth=11, max_features=log2, max_leaf_nodes=10, min_samples_leaf=0.001, min_weight_fraction_leaf=0.1, splitter=best;, score=-9164.755 total time=   0.0s\n",
      "[CV 2/3] END max_depth=11, max_features=log2, max_leaf_nodes=10, min_samples_leaf=0.001, min_weight_fraction_leaf=0.1, splitter=best;, score=-7389.508 total time=   0.0s\n",
      "[CV 3/3] END max_depth=11, max_features=log2, max_leaf_nodes=10, min_samples_leaf=0.001, min_weight_fraction_leaf=0.1, splitter=best;, score=-10651.117 total time=   0.0s\n"
     ]
    },
    {
     "name": "stderr",
     "output_type": "stream",
     "text": [
      "/opt/anaconda3/lib/python3.8/site-packages/sklearn/tree/_classes.py:306: FutureWarning: `max_features='auto'` has been deprecated in 1.1 and will be removed in 1.3. To keep the past behaviour, explicitly set `max_features=1.0'`.\n",
      "  warnings.warn(\n"
     ]
    },
    {
     "name": "stdout",
     "output_type": "stream",
     "text": [
      "[CV 1/3] END max_depth=11, max_features=log2, max_leaf_nodes=10, min_samples_leaf=0.001, min_weight_fraction_leaf=0.1, splitter=random;, score=-15971.417 total time=   0.0s\n",
      "[CV 2/3] END max_depth=11, max_features=log2, max_leaf_nodes=10, min_samples_leaf=0.001, min_weight_fraction_leaf=0.1, splitter=random;, score=-13553.214 total time=   0.0s\n",
      "[CV 3/3] END max_depth=11, max_features=log2, max_leaf_nodes=10, min_samples_leaf=0.001, min_weight_fraction_leaf=0.1, splitter=random;, score=-8272.064 total time=   0.0s\n",
      "[CV 1/3] END max_depth=11, max_features=log2, max_leaf_nodes=20, min_samples_leaf=0.001, min_weight_fraction_leaf=0.1, splitter=best;, score=-6411.309 total time=   0.0s\n",
      "[CV 2/3] END max_depth=11, max_features=log2, max_leaf_nodes=20, min_samples_leaf=0.001, min_weight_fraction_leaf=0.1, splitter=best;, score=-6369.536 total time=   0.0s\n",
      "[CV 3/3] END max_depth=11, max_features=log2, max_leaf_nodes=20, min_samples_leaf=0.001, min_weight_fraction_leaf=0.1, splitter=best;, score=-7910.027 total time=   0.0s\n",
      "[CV 1/3] END max_depth=11, max_features=log2, max_leaf_nodes=20, min_samples_leaf=0.001, min_weight_fraction_leaf=0.1, splitter=random;, score=-18688.702 total time=   0.0s\n",
      "[CV 2/3] END max_depth=11, max_features=log2, max_leaf_nodes=20, min_samples_leaf=0.001, min_weight_fraction_leaf=0.1, splitter=random;, score=-13102.000 total time=   0.0s\n",
      "[CV 3/3] END max_depth=11, max_features=log2, max_leaf_nodes=20, min_samples_leaf=0.001, min_weight_fraction_leaf=0.1, splitter=random;, score=-20781.748 total time=   0.0s\n",
      "[CV 1/3] END max_depth=11, max_features=log2, max_leaf_nodes=30, min_samples_leaf=0.001, min_weight_fraction_leaf=0.1, splitter=best;, score=-12144.479 total time=   0.0s\n",
      "[CV 2/3] END max_depth=11, max_features=log2, max_leaf_nodes=30, min_samples_leaf=0.001, min_weight_fraction_leaf=0.1, splitter=best;, score=-11031.133 total time=   0.0s\n",
      "[CV 3/3] END max_depth=11, max_features=log2, max_leaf_nodes=30, min_samples_leaf=0.001, min_weight_fraction_leaf=0.1, splitter=best;, score=-12001.590 total time=   0.0s\n",
      "[CV 1/3] END max_depth=11, max_features=log2, max_leaf_nodes=30, min_samples_leaf=0.001, min_weight_fraction_leaf=0.1, splitter=random;, score=-20504.673 total time=   0.0s\n",
      "[CV 2/3] END max_depth=11, max_features=log2, max_leaf_nodes=30, min_samples_leaf=0.001, min_weight_fraction_leaf=0.1, splitter=random;, score=-13057.899 total time=   0.0s\n",
      "[CV 3/3] END max_depth=11, max_features=log2, max_leaf_nodes=30, min_samples_leaf=0.001, min_weight_fraction_leaf=0.1, splitter=random;, score=-14635.050 total time=   0.0s\n",
      "[CV 1/3] END max_depth=11, max_features=log2, max_leaf_nodes=40, min_samples_leaf=0.001, min_weight_fraction_leaf=0.1, splitter=best;, score=-7373.290 total time=   0.0s\n",
      "[CV 2/3] END max_depth=11, max_features=log2, max_leaf_nodes=40, min_samples_leaf=0.001, min_weight_fraction_leaf=0.1, splitter=best;, score=-15348.601 total time=   0.0s\n",
      "[CV 3/3] END max_depth=11, max_features=log2, max_leaf_nodes=40, min_samples_leaf=0.001, min_weight_fraction_leaf=0.1, splitter=best;, score=-14157.284 total time=   0.0s\n",
      "[CV 1/3] END max_depth=11, max_features=log2, max_leaf_nodes=40, min_samples_leaf=0.001, min_weight_fraction_leaf=0.1, splitter=random;, score=-15903.347 total time=   0.0s\n",
      "[CV 2/3] END max_depth=11, max_features=log2, max_leaf_nodes=40, min_samples_leaf=0.001, min_weight_fraction_leaf=0.1, splitter=random;, score=-14621.011 total time=   0.0s\n",
      "[CV 3/3] END max_depth=11, max_features=log2, max_leaf_nodes=40, min_samples_leaf=0.001, min_weight_fraction_leaf=0.1, splitter=random;, score=-9298.827 total time=   0.0s\n",
      "[CV 1/3] END max_depth=11, max_features=log2, max_leaf_nodes=50, min_samples_leaf=0.001, min_weight_fraction_leaf=0.1, splitter=best;, score=-4509.195 total time=   0.0s\n",
      "[CV 2/3] END max_depth=11, max_features=log2, max_leaf_nodes=50, min_samples_leaf=0.001, min_weight_fraction_leaf=0.1, splitter=best;, score=-12622.944 total time=   0.0s\n",
      "[CV 3/3] END max_depth=11, max_features=log2, max_leaf_nodes=50, min_samples_leaf=0.001, min_weight_fraction_leaf=0.1, splitter=best;, score=-15815.669 total time=   0.0s\n",
      "[CV 1/3] END max_depth=11, max_features=log2, max_leaf_nodes=50, min_samples_leaf=0.001, min_weight_fraction_leaf=0.1, splitter=random;, score=-9512.050 total time=   0.0s\n",
      "[CV 2/3] END max_depth=11, max_features=log2, max_leaf_nodes=50, min_samples_leaf=0.001, min_weight_fraction_leaf=0.1, splitter=random;, score=-22226.407 total time=   0.0s\n",
      "[CV 3/3] END max_depth=11, max_features=log2, max_leaf_nodes=50, min_samples_leaf=0.001, min_weight_fraction_leaf=0.1, splitter=random;, score=-7200.401 total time=   0.0s\n",
      "[CV 1/3] END max_depth=11, max_features=log2, max_leaf_nodes=60, min_samples_leaf=0.001, min_weight_fraction_leaf=0.1, splitter=best;, score=-5108.996 total time=   0.0s\n",
      "[CV 2/3] END max_depth=11, max_features=log2, max_leaf_nodes=60, min_samples_leaf=0.001, min_weight_fraction_leaf=0.1, splitter=best;, score=-6610.399 total time=   0.0s\n",
      "[CV 3/3] END max_depth=11, max_features=log2, max_leaf_nodes=60, min_samples_leaf=0.001, min_weight_fraction_leaf=0.1, splitter=best;, score=-6862.953 total time=   0.0s\n",
      "[CV 1/3] END max_depth=11, max_features=log2, max_leaf_nodes=60, min_samples_leaf=0.001, min_weight_fraction_leaf=0.1, splitter=random;, score=-18439.395 total time=   0.0s\n",
      "[CV 2/3] END max_depth=11, max_features=log2, max_leaf_nodes=60, min_samples_leaf=0.001, min_weight_fraction_leaf=0.1, splitter=random;, score=-19537.297 total time=   0.0s\n",
      "[CV 3/3] END max_depth=11, max_features=log2, max_leaf_nodes=60, min_samples_leaf=0.001, min_weight_fraction_leaf=0.1, splitter=random;, score=-14635.050 total time=   0.0s\n",
      "[CV 1/3] END max_depth=11, max_features=sqrt, max_leaf_nodes=10, min_samples_leaf=0.001, min_weight_fraction_leaf=0.1, splitter=best;, score=-16067.829 total time=   0.0s\n",
      "[CV 2/3] END max_depth=11, max_features=sqrt, max_leaf_nodes=10, min_samples_leaf=0.001, min_weight_fraction_leaf=0.1, splitter=best;, score=-6747.618 total time=   0.0s\n",
      "[CV 3/3] END max_depth=11, max_features=sqrt, max_leaf_nodes=10, min_samples_leaf=0.001, min_weight_fraction_leaf=0.1, splitter=best;, score=-6739.635 total time=   0.0s\n",
      "[CV 1/3] END max_depth=11, max_features=sqrt, max_leaf_nodes=10, min_samples_leaf=0.001, min_weight_fraction_leaf=0.1, splitter=random;, score=-22496.470 total time=   0.0s\n",
      "[CV 2/3] END max_depth=11, max_features=sqrt, max_leaf_nodes=10, min_samples_leaf=0.001, min_weight_fraction_leaf=0.1, splitter=random;, score=-7628.753 total time=   0.0s\n",
      "[CV 3/3] END max_depth=11, max_features=sqrt, max_leaf_nodes=10, min_samples_leaf=0.001, min_weight_fraction_leaf=0.1, splitter=random;, score=-16035.405 total time=   0.0s\n",
      "[CV 1/3] END max_depth=11, max_features=sqrt, max_leaf_nodes=20, min_samples_leaf=0.001, min_weight_fraction_leaf=0.1, splitter=best;, score=-15029.479 total time=   0.0s\n",
      "[CV 2/3] END max_depth=11, max_features=sqrt, max_leaf_nodes=20, min_samples_leaf=0.001, min_weight_fraction_leaf=0.1, splitter=best;, score=-12616.280 total time=   0.0s\n",
      "[CV 3/3] END max_depth=11, max_features=sqrt, max_leaf_nodes=20, min_samples_leaf=0.001, min_weight_fraction_leaf=0.1, splitter=best;, score=-7649.686 total time=   0.0s\n",
      "[CV 1/3] END max_depth=11, max_features=sqrt, max_leaf_nodes=20, min_samples_leaf=0.001, min_weight_fraction_leaf=0.1, splitter=random;, score=-10163.401 total time=   0.0s\n",
      "[CV 2/3] END max_depth=11, max_features=sqrt, max_leaf_nodes=20, min_samples_leaf=0.001, min_weight_fraction_leaf=0.1, splitter=random;, score=-10630.886 total time=   0.0s\n",
      "[CV 3/3] END max_depth=11, max_features=sqrt, max_leaf_nodes=20, min_samples_leaf=0.001, min_weight_fraction_leaf=0.1, splitter=random;, score=-14209.262 total time=   0.0s\n",
      "[CV 1/3] END max_depth=11, max_features=sqrt, max_leaf_nodes=30, min_samples_leaf=0.001, min_weight_fraction_leaf=0.1, splitter=best;, score=-15393.885 total time=   0.0s\n",
      "[CV 2/3] END max_depth=11, max_features=sqrt, max_leaf_nodes=30, min_samples_leaf=0.001, min_weight_fraction_leaf=0.1, splitter=best;, score=-7684.213 total time=   0.0s\n",
      "[CV 3/3] END max_depth=11, max_features=sqrt, max_leaf_nodes=30, min_samples_leaf=0.001, min_weight_fraction_leaf=0.1, splitter=best;, score=-10714.242 total time=   0.0s\n",
      "[CV 1/3] END max_depth=11, max_features=sqrt, max_leaf_nodes=30, min_samples_leaf=0.001, min_weight_fraction_leaf=0.1, splitter=random;, score=-12214.262 total time=   0.0s\n",
      "[CV 2/3] END max_depth=11, max_features=sqrt, max_leaf_nodes=30, min_samples_leaf=0.001, min_weight_fraction_leaf=0.1, splitter=random;, score=-13646.144 total time=   0.0s\n",
      "[CV 3/3] END max_depth=11, max_features=sqrt, max_leaf_nodes=30, min_samples_leaf=0.001, min_weight_fraction_leaf=0.1, splitter=random;, score=-16237.789 total time=   0.0s\n",
      "[CV 1/3] END max_depth=11, max_features=sqrt, max_leaf_nodes=40, min_samples_leaf=0.001, min_weight_fraction_leaf=0.1, splitter=best;, score=-7407.726 total time=   0.0s\n",
      "[CV 2/3] END max_depth=11, max_features=sqrt, max_leaf_nodes=40, min_samples_leaf=0.001, min_weight_fraction_leaf=0.1, splitter=best;, score=-15593.451 total time=   0.0s\n",
      "[CV 3/3] END max_depth=11, max_features=sqrt, max_leaf_nodes=40, min_samples_leaf=0.001, min_weight_fraction_leaf=0.1, splitter=best;, score=-7674.374 total time=   0.0s\n",
      "[CV 1/3] END max_depth=11, max_features=sqrt, max_leaf_nodes=40, min_samples_leaf=0.001, min_weight_fraction_leaf=0.1, splitter=random;, score=-15426.887 total time=   0.0s\n",
      "[CV 2/3] END max_depth=11, max_features=sqrt, max_leaf_nodes=40, min_samples_leaf=0.001, min_weight_fraction_leaf=0.1, splitter=random;, score=-22707.665 total time=   0.0s\n",
      "[CV 3/3] END max_depth=11, max_features=sqrt, max_leaf_nodes=40, min_samples_leaf=0.001, min_weight_fraction_leaf=0.1, splitter=random;, score=-15577.821 total time=   0.0s\n",
      "[CV 1/3] END max_depth=11, max_features=sqrt, max_leaf_nodes=50, min_samples_leaf=0.001, min_weight_fraction_leaf=0.1, splitter=best;, score=-6421.083 total time=   0.0s\n",
      "[CV 2/3] END max_depth=11, max_features=sqrt, max_leaf_nodes=50, min_samples_leaf=0.001, min_weight_fraction_leaf=0.1, splitter=best;, score=-3789.753 total time=   0.0s\n",
      "[CV 3/3] END max_depth=11, max_features=sqrt, max_leaf_nodes=50, min_samples_leaf=0.001, min_weight_fraction_leaf=0.1, splitter=best;, score=-12358.431 total time=   0.0s\n",
      "[CV 1/3] END max_depth=11, max_features=sqrt, max_leaf_nodes=50, min_samples_leaf=0.001, min_weight_fraction_leaf=0.1, splitter=random;, score=-16458.971 total time=   0.0s\n",
      "[CV 2/3] END max_depth=11, max_features=sqrt, max_leaf_nodes=50, min_samples_leaf=0.001, min_weight_fraction_leaf=0.1, splitter=random;, score=-16356.337 total time=   0.0s\n",
      "[CV 3/3] END max_depth=11, max_features=sqrt, max_leaf_nodes=50, min_samples_leaf=0.001, min_weight_fraction_leaf=0.1, splitter=random;, score=-23543.854 total time=   0.0s\n",
      "[CV 1/3] END max_depth=11, max_features=sqrt, max_leaf_nodes=60, min_samples_leaf=0.001, min_weight_fraction_leaf=0.1, splitter=best;, score=-3484.380 total time=   0.0s\n",
      "[CV 2/3] END max_depth=11, max_features=sqrt, max_leaf_nodes=60, min_samples_leaf=0.001, min_weight_fraction_leaf=0.1, splitter=best;, score=-15660.685 total time=   0.0s\n",
      "[CV 3/3] END max_depth=11, max_features=sqrt, max_leaf_nodes=60, min_samples_leaf=0.001, min_weight_fraction_leaf=0.1, splitter=best;, score=-7563.155 total time=   0.0s\n",
      "[CV 1/3] END max_depth=11, max_features=sqrt, max_leaf_nodes=60, min_samples_leaf=0.001, min_weight_fraction_leaf=0.1, splitter=random;, score=-13791.403 total time=   0.0s\n",
      "[CV 2/3] END max_depth=11, max_features=sqrt, max_leaf_nodes=60, min_samples_leaf=0.001, min_weight_fraction_leaf=0.1, splitter=random;, score=-8154.520 total time=   0.0s\n",
      "[CV 3/3] END max_depth=11, max_features=sqrt, max_leaf_nodes=60, min_samples_leaf=0.001, min_weight_fraction_leaf=0.1, splitter=random;, score=-13255.292 total time=   0.0s\n",
      "[CV 1/3] END max_depth=12, max_features=auto, max_leaf_nodes=10, min_samples_leaf=0.001, min_weight_fraction_leaf=0.1, splitter=best;, score=-3472.693 total time=   0.0s\n",
      "[CV 2/3] END max_depth=12, max_features=auto, max_leaf_nodes=10, min_samples_leaf=0.001, min_weight_fraction_leaf=0.1, splitter=best;, score=-3550.671 total time=   0.0s\n",
      "[CV 3/3] END max_depth=12, max_features=auto, max_leaf_nodes=10, min_samples_leaf=0.001, min_weight_fraction_leaf=0.1, splitter=best;, score=-3522.901 total time=   0.0s\n",
      "[CV 1/3] END max_depth=12, max_features=auto, max_leaf_nodes=10, min_samples_leaf=0.001, min_weight_fraction_leaf=0.1, splitter=random;, score=-4281.031 total time=   0.0s\n",
      "[CV 2/3] END max_depth=12, max_features=auto, max_leaf_nodes=10, min_samples_leaf=0.001, min_weight_fraction_leaf=0.1, splitter=random;, score=-10253.550 total time=   0.0s\n",
      "[CV 3/3] END max_depth=12, max_features=auto, max_leaf_nodes=10, min_samples_leaf=0.001, min_weight_fraction_leaf=0.1, splitter=random;, score=-10320.343 total time=   0.0s\n"
     ]
    },
    {
     "name": "stderr",
     "output_type": "stream",
     "text": [
      "/opt/anaconda3/lib/python3.8/site-packages/sklearn/tree/_classes.py:306: FutureWarning: `max_features='auto'` has been deprecated in 1.1 and will be removed in 1.3. To keep the past behaviour, explicitly set `max_features=1.0'`.\n",
      "  warnings.warn(\n",
      "/opt/anaconda3/lib/python3.8/site-packages/sklearn/tree/_classes.py:306: FutureWarning: `max_features='auto'` has been deprecated in 1.1 and will be removed in 1.3. To keep the past behaviour, explicitly set `max_features=1.0'`.\n",
      "  warnings.warn(\n",
      "/opt/anaconda3/lib/python3.8/site-packages/sklearn/tree/_classes.py:306: FutureWarning: `max_features='auto'` has been deprecated in 1.1 and will be removed in 1.3. To keep the past behaviour, explicitly set `max_features=1.0'`.\n",
      "  warnings.warn(\n",
      "/opt/anaconda3/lib/python3.8/site-packages/sklearn/tree/_classes.py:306: FutureWarning: `max_features='auto'` has been deprecated in 1.1 and will be removed in 1.3. To keep the past behaviour, explicitly set `max_features=1.0'`.\n",
      "  warnings.warn(\n",
      "/opt/anaconda3/lib/python3.8/site-packages/sklearn/tree/_classes.py:306: FutureWarning: `max_features='auto'` has been deprecated in 1.1 and will be removed in 1.3. To keep the past behaviour, explicitly set `max_features=1.0'`.\n",
      "  warnings.warn(\n",
      "/opt/anaconda3/lib/python3.8/site-packages/sklearn/tree/_classes.py:306: FutureWarning: `max_features='auto'` has been deprecated in 1.1 and will be removed in 1.3. To keep the past behaviour, explicitly set `max_features=1.0'`.\n",
      "  warnings.warn(\n",
      "/opt/anaconda3/lib/python3.8/site-packages/sklearn/tree/_classes.py:306: FutureWarning: `max_features='auto'` has been deprecated in 1.1 and will be removed in 1.3. To keep the past behaviour, explicitly set `max_features=1.0'`.\n",
      "  warnings.warn(\n",
      "/opt/anaconda3/lib/python3.8/site-packages/sklearn/tree/_classes.py:306: FutureWarning: `max_features='auto'` has been deprecated in 1.1 and will be removed in 1.3. To keep the past behaviour, explicitly set `max_features=1.0'`.\n",
      "  warnings.warn(\n"
     ]
    },
    {
     "name": "stdout",
     "output_type": "stream",
     "text": [
      "[CV 1/3] END max_depth=12, max_features=auto, max_leaf_nodes=20, min_samples_leaf=0.001, min_weight_fraction_leaf=0.1, splitter=best;, score=-3472.693 total time=   0.0s\n",
      "[CV 2/3] END max_depth=12, max_features=auto, max_leaf_nodes=20, min_samples_leaf=0.001, min_weight_fraction_leaf=0.1, splitter=best;, score=-3550.671 total time=   0.0s\n",
      "[CV 3/3] END max_depth=12, max_features=auto, max_leaf_nodes=20, min_samples_leaf=0.001, min_weight_fraction_leaf=0.1, splitter=best;, score=-3522.901 total time=   0.0s\n",
      "[CV 1/3] END max_depth=12, max_features=auto, max_leaf_nodes=20, min_samples_leaf=0.001, min_weight_fraction_leaf=0.1, splitter=random;, score=-6424.526 total time=   0.0s\n",
      "[CV 2/3] END max_depth=12, max_features=auto, max_leaf_nodes=20, min_samples_leaf=0.001, min_weight_fraction_leaf=0.1, splitter=random;, score=-11584.322 total time=   0.0s\n",
      "[CV 3/3] END max_depth=12, max_features=auto, max_leaf_nodes=20, min_samples_leaf=0.001, min_weight_fraction_leaf=0.1, splitter=random;, score=-7219.010 total time=   0.0s\n",
      "[CV 1/3] END max_depth=12, max_features=auto, max_leaf_nodes=30, min_samples_leaf=0.001, min_weight_fraction_leaf=0.1, splitter=best;, score=-3472.693 total time=   0.0s\n",
      "[CV 2/3] END max_depth=12, max_features=auto, max_leaf_nodes=30, min_samples_leaf=0.001, min_weight_fraction_leaf=0.1, splitter=best;, score=-3550.671 total time=   0.0s\n"
     ]
    },
    {
     "name": "stderr",
     "output_type": "stream",
     "text": [
      "/opt/anaconda3/lib/python3.8/site-packages/sklearn/tree/_classes.py:306: FutureWarning: `max_features='auto'` has been deprecated in 1.1 and will be removed in 1.3. To keep the past behaviour, explicitly set `max_features=1.0'`.\n",
      "  warnings.warn(\n",
      "/opt/anaconda3/lib/python3.8/site-packages/sklearn/tree/_classes.py:306: FutureWarning: `max_features='auto'` has been deprecated in 1.1 and will be removed in 1.3. To keep the past behaviour, explicitly set `max_features=1.0'`.\n",
      "  warnings.warn(\n",
      "/opt/anaconda3/lib/python3.8/site-packages/sklearn/tree/_classes.py:306: FutureWarning: `max_features='auto'` has been deprecated in 1.1 and will be removed in 1.3. To keep the past behaviour, explicitly set `max_features=1.0'`.\n",
      "  warnings.warn(\n",
      "/opt/anaconda3/lib/python3.8/site-packages/sklearn/tree/_classes.py:306: FutureWarning: `max_features='auto'` has been deprecated in 1.1 and will be removed in 1.3. To keep the past behaviour, explicitly set `max_features=1.0'`.\n",
      "  warnings.warn(\n",
      "/opt/anaconda3/lib/python3.8/site-packages/sklearn/tree/_classes.py:306: FutureWarning: `max_features='auto'` has been deprecated in 1.1 and will be removed in 1.3. To keep the past behaviour, explicitly set `max_features=1.0'`.\n",
      "  warnings.warn(\n",
      "/opt/anaconda3/lib/python3.8/site-packages/sklearn/tree/_classes.py:306: FutureWarning: `max_features='auto'` has been deprecated in 1.1 and will be removed in 1.3. To keep the past behaviour, explicitly set `max_features=1.0'`.\n",
      "  warnings.warn(\n",
      "/opt/anaconda3/lib/python3.8/site-packages/sklearn/tree/_classes.py:306: FutureWarning: `max_features='auto'` has been deprecated in 1.1 and will be removed in 1.3. To keep the past behaviour, explicitly set `max_features=1.0'`.\n",
      "  warnings.warn(\n",
      "/opt/anaconda3/lib/python3.8/site-packages/sklearn/tree/_classes.py:306: FutureWarning: `max_features='auto'` has been deprecated in 1.1 and will be removed in 1.3. To keep the past behaviour, explicitly set `max_features=1.0'`.\n",
      "  warnings.warn(\n",
      "/opt/anaconda3/lib/python3.8/site-packages/sklearn/tree/_classes.py:306: FutureWarning: `max_features='auto'` has been deprecated in 1.1 and will be removed in 1.3. To keep the past behaviour, explicitly set `max_features=1.0'`.\n",
      "  warnings.warn(\n",
      "/opt/anaconda3/lib/python3.8/site-packages/sklearn/tree/_classes.py:306: FutureWarning: `max_features='auto'` has been deprecated in 1.1 and will be removed in 1.3. To keep the past behaviour, explicitly set `max_features=1.0'`.\n",
      "  warnings.warn(\n"
     ]
    },
    {
     "name": "stdout",
     "output_type": "stream",
     "text": [
      "[CV 3/3] END max_depth=12, max_features=auto, max_leaf_nodes=30, min_samples_leaf=0.001, min_weight_fraction_leaf=0.1, splitter=best;, score=-3522.901 total time=   0.0s\n",
      "[CV 1/3] END max_depth=12, max_features=auto, max_leaf_nodes=30, min_samples_leaf=0.001, min_weight_fraction_leaf=0.1, splitter=random;, score=-5115.487 total time=   0.0s\n",
      "[CV 2/3] END max_depth=12, max_features=auto, max_leaf_nodes=30, min_samples_leaf=0.001, min_weight_fraction_leaf=0.1, splitter=random;, score=-9897.927 total time=   0.0s\n",
      "[CV 3/3] END max_depth=12, max_features=auto, max_leaf_nodes=30, min_samples_leaf=0.001, min_weight_fraction_leaf=0.1, splitter=random;, score=-4474.823 total time=   0.0s\n",
      "[CV 1/3] END max_depth=12, max_features=auto, max_leaf_nodes=40, min_samples_leaf=0.001, min_weight_fraction_leaf=0.1, splitter=best;, score=-3472.693 total time=   0.0s\n",
      "[CV 2/3] END max_depth=12, max_features=auto, max_leaf_nodes=40, min_samples_leaf=0.001, min_weight_fraction_leaf=0.1, splitter=best;, score=-3550.671 total time=   0.0s\n",
      "[CV 3/3] END max_depth=12, max_features=auto, max_leaf_nodes=40, min_samples_leaf=0.001, min_weight_fraction_leaf=0.1, splitter=best;, score=-3522.901 total time=   0.0s\n",
      "[CV 1/3] END max_depth=12, max_features=auto, max_leaf_nodes=40, min_samples_leaf=0.001, min_weight_fraction_leaf=0.1, splitter=random;, score=-7338.744 total time=   0.0s\n",
      "[CV 2/3] END max_depth=12, max_features=auto, max_leaf_nodes=40, min_samples_leaf=0.001, min_weight_fraction_leaf=0.1, splitter=random;, score=-13299.854 total time=   0.0s\n",
      "[CV 3/3] END max_depth=12, max_features=auto, max_leaf_nodes=40, min_samples_leaf=0.001, min_weight_fraction_leaf=0.1, splitter=random;, score=-4599.618 total time=   0.0s\n"
     ]
    },
    {
     "name": "stderr",
     "output_type": "stream",
     "text": [
      "/opt/anaconda3/lib/python3.8/site-packages/sklearn/tree/_classes.py:306: FutureWarning: `max_features='auto'` has been deprecated in 1.1 and will be removed in 1.3. To keep the past behaviour, explicitly set `max_features=1.0'`.\n",
      "  warnings.warn(\n",
      "/opt/anaconda3/lib/python3.8/site-packages/sklearn/tree/_classes.py:306: FutureWarning: `max_features='auto'` has been deprecated in 1.1 and will be removed in 1.3. To keep the past behaviour, explicitly set `max_features=1.0'`.\n",
      "  warnings.warn(\n",
      "/opt/anaconda3/lib/python3.8/site-packages/sklearn/tree/_classes.py:306: FutureWarning: `max_features='auto'` has been deprecated in 1.1 and will be removed in 1.3. To keep the past behaviour, explicitly set `max_features=1.0'`.\n",
      "  warnings.warn(\n",
      "/opt/anaconda3/lib/python3.8/site-packages/sklearn/tree/_classes.py:306: FutureWarning: `max_features='auto'` has been deprecated in 1.1 and will be removed in 1.3. To keep the past behaviour, explicitly set `max_features=1.0'`.\n",
      "  warnings.warn(\n",
      "/opt/anaconda3/lib/python3.8/site-packages/sklearn/tree/_classes.py:306: FutureWarning: `max_features='auto'` has been deprecated in 1.1 and will be removed in 1.3. To keep the past behaviour, explicitly set `max_features=1.0'`.\n",
      "  warnings.warn(\n",
      "/opt/anaconda3/lib/python3.8/site-packages/sklearn/tree/_classes.py:306: FutureWarning: `max_features='auto'` has been deprecated in 1.1 and will be removed in 1.3. To keep the past behaviour, explicitly set `max_features=1.0'`.\n",
      "  warnings.warn(\n",
      "/opt/anaconda3/lib/python3.8/site-packages/sklearn/tree/_classes.py:306: FutureWarning: `max_features='auto'` has been deprecated in 1.1 and will be removed in 1.3. To keep the past behaviour, explicitly set `max_features=1.0'`.\n",
      "  warnings.warn(\n",
      "/opt/anaconda3/lib/python3.8/site-packages/sklearn/tree/_classes.py:306: FutureWarning: `max_features='auto'` has been deprecated in 1.1 and will be removed in 1.3. To keep the past behaviour, explicitly set `max_features=1.0'`.\n",
      "  warnings.warn(\n"
     ]
    },
    {
     "name": "stdout",
     "output_type": "stream",
     "text": [
      "[CV 1/3] END max_depth=12, max_features=auto, max_leaf_nodes=50, min_samples_leaf=0.001, min_weight_fraction_leaf=0.1, splitter=best;, score=-3472.693 total time=   0.0s\n",
      "[CV 2/3] END max_depth=12, max_features=auto, max_leaf_nodes=50, min_samples_leaf=0.001, min_weight_fraction_leaf=0.1, splitter=best;, score=-3550.671 total time=   0.0s\n",
      "[CV 3/3] END max_depth=12, max_features=auto, max_leaf_nodes=50, min_samples_leaf=0.001, min_weight_fraction_leaf=0.1, splitter=best;, score=-3522.901 total time=   0.0s\n",
      "[CV 1/3] END max_depth=12, max_features=auto, max_leaf_nodes=50, min_samples_leaf=0.001, min_weight_fraction_leaf=0.1, splitter=random;, score=-11061.412 total time=   0.0s\n",
      "[CV 2/3] END max_depth=12, max_features=auto, max_leaf_nodes=50, min_samples_leaf=0.001, min_weight_fraction_leaf=0.1, splitter=random;, score=-9625.111 total time=   0.0s\n",
      "[CV 3/3] END max_depth=12, max_features=auto, max_leaf_nodes=50, min_samples_leaf=0.001, min_weight_fraction_leaf=0.1, splitter=random;, score=-12321.106 total time=   0.0s\n",
      "[CV 1/3] END max_depth=12, max_features=auto, max_leaf_nodes=60, min_samples_leaf=0.001, min_weight_fraction_leaf=0.1, splitter=best;, score=-3472.693 total time=   0.0s\n",
      "[CV 2/3] END max_depth=12, max_features=auto, max_leaf_nodes=60, min_samples_leaf=0.001, min_weight_fraction_leaf=0.1, splitter=best;, score=-3550.671 total time=   0.0s\n"
     ]
    },
    {
     "name": "stderr",
     "output_type": "stream",
     "text": [
      "/opt/anaconda3/lib/python3.8/site-packages/sklearn/tree/_classes.py:306: FutureWarning: `max_features='auto'` has been deprecated in 1.1 and will be removed in 1.3. To keep the past behaviour, explicitly set `max_features=1.0'`.\n",
      "  warnings.warn(\n",
      "/opt/anaconda3/lib/python3.8/site-packages/sklearn/tree/_classes.py:306: FutureWarning: `max_features='auto'` has been deprecated in 1.1 and will be removed in 1.3. To keep the past behaviour, explicitly set `max_features=1.0'`.\n",
      "  warnings.warn(\n",
      "/opt/anaconda3/lib/python3.8/site-packages/sklearn/tree/_classes.py:306: FutureWarning: `max_features='auto'` has been deprecated in 1.1 and will be removed in 1.3. To keep the past behaviour, explicitly set `max_features=1.0'`.\n",
      "  warnings.warn(\n",
      "/opt/anaconda3/lib/python3.8/site-packages/sklearn/tree/_classes.py:306: FutureWarning: `max_features='auto'` has been deprecated in 1.1 and will be removed in 1.3. To keep the past behaviour, explicitly set `max_features=1.0'`.\n",
      "  warnings.warn(\n",
      "/opt/anaconda3/lib/python3.8/site-packages/sklearn/tree/_classes.py:306: FutureWarning: `max_features='auto'` has been deprecated in 1.1 and will be removed in 1.3. To keep the past behaviour, explicitly set `max_features=1.0'`.\n",
      "  warnings.warn(\n",
      "/opt/anaconda3/lib/python3.8/site-packages/sklearn/tree/_classes.py:306: FutureWarning: `max_features='auto'` has been deprecated in 1.1 and will be removed in 1.3. To keep the past behaviour, explicitly set `max_features=1.0'`.\n",
      "  warnings.warn(\n",
      "/opt/anaconda3/lib/python3.8/site-packages/sklearn/tree/_classes.py:306: FutureWarning: `max_features='auto'` has been deprecated in 1.1 and will be removed in 1.3. To keep the past behaviour, explicitly set `max_features=1.0'`.\n",
      "  warnings.warn(\n",
      "/opt/anaconda3/lib/python3.8/site-packages/sklearn/tree/_classes.py:306: FutureWarning: `max_features='auto'` has been deprecated in 1.1 and will be removed in 1.3. To keep the past behaviour, explicitly set `max_features=1.0'`.\n",
      "  warnings.warn(\n",
      "/opt/anaconda3/lib/python3.8/site-packages/sklearn/tree/_classes.py:306: FutureWarning: `max_features='auto'` has been deprecated in 1.1 and will be removed in 1.3. To keep the past behaviour, explicitly set `max_features=1.0'`.\n",
      "  warnings.warn(\n"
     ]
    },
    {
     "name": "stdout",
     "output_type": "stream",
     "text": [
      "[CV 3/3] END max_depth=12, max_features=auto, max_leaf_nodes=60, min_samples_leaf=0.001, min_weight_fraction_leaf=0.1, splitter=best;, score=-3522.901 total time=   0.0s\n",
      "[CV 1/3] END max_depth=12, max_features=auto, max_leaf_nodes=60, min_samples_leaf=0.001, min_weight_fraction_leaf=0.1, splitter=random;, score=-6978.961 total time=   0.0s\n",
      "[CV 2/3] END max_depth=12, max_features=auto, max_leaf_nodes=60, min_samples_leaf=0.001, min_weight_fraction_leaf=0.1, splitter=random;, score=-7249.820 total time=   0.0s\n",
      "[CV 3/3] END max_depth=12, max_features=auto, max_leaf_nodes=60, min_samples_leaf=0.001, min_weight_fraction_leaf=0.1, splitter=random;, score=-6886.187 total time=   0.0s\n",
      "[CV 1/3] END max_depth=12, max_features=log2, max_leaf_nodes=10, min_samples_leaf=0.001, min_weight_fraction_leaf=0.1, splitter=best;, score=-6562.002 total time=   0.0s\n",
      "[CV 2/3] END max_depth=12, max_features=log2, max_leaf_nodes=10, min_samples_leaf=0.001, min_weight_fraction_leaf=0.1, splitter=best;, score=-11394.872 total time=   0.0s\n",
      "[CV 3/3] END max_depth=12, max_features=log2, max_leaf_nodes=10, min_samples_leaf=0.001, min_weight_fraction_leaf=0.1, splitter=best;, score=-5176.241 total time=   0.0s\n",
      "[CV 1/3] END max_depth=12, max_features=log2, max_leaf_nodes=10, min_samples_leaf=0.001, min_weight_fraction_leaf=0.1, splitter=random;, score=-16181.260 total time=   0.0s\n",
      "[CV 2/3] END max_depth=12, max_features=log2, max_leaf_nodes=10, min_samples_leaf=0.001, min_weight_fraction_leaf=0.1, splitter=random;, score=-22707.665 total time=   0.0s\n",
      "[CV 3/3] END max_depth=12, max_features=log2, max_leaf_nodes=10, min_samples_leaf=0.001, min_weight_fraction_leaf=0.1, splitter=random;, score=-8614.607 total time=   0.0s\n",
      "[CV 1/3] END max_depth=12, max_features=log2, max_leaf_nodes=20, min_samples_leaf=0.001, min_weight_fraction_leaf=0.1, splitter=best;, score=-7383.310 total time=   0.0s\n",
      "[CV 2/3] END max_depth=12, max_features=log2, max_leaf_nodes=20, min_samples_leaf=0.001, min_weight_fraction_leaf=0.1, splitter=best;, score=-15816.582 total time=   0.0s\n",
      "[CV 3/3] END max_depth=12, max_features=log2, max_leaf_nodes=20, min_samples_leaf=0.001, min_weight_fraction_leaf=0.1, splitter=best;, score=-9892.813 total time=   0.0s\n",
      "[CV 1/3] END max_depth=12, max_features=log2, max_leaf_nodes=20, min_samples_leaf=0.001, min_weight_fraction_leaf=0.1, splitter=random;, score=-13893.561 total time=   0.0s\n",
      "[CV 2/3] END max_depth=12, max_features=log2, max_leaf_nodes=20, min_samples_leaf=0.001, min_weight_fraction_leaf=0.1, splitter=random;, score=-15872.346 total time=   0.0s\n",
      "[CV 3/3] END max_depth=12, max_features=log2, max_leaf_nodes=20, min_samples_leaf=0.001, min_weight_fraction_leaf=0.1, splitter=random;, score=-14916.431 total time=   0.0s\n",
      "[CV 1/3] END max_depth=12, max_features=log2, max_leaf_nodes=30, min_samples_leaf=0.001, min_weight_fraction_leaf=0.1, splitter=best;, score=-15107.167 total time=   0.0s\n"
     ]
    },
    {
     "name": "stderr",
     "output_type": "stream",
     "text": [
      "/opt/anaconda3/lib/python3.8/site-packages/sklearn/tree/_classes.py:306: FutureWarning: `max_features='auto'` has been deprecated in 1.1 and will be removed in 1.3. To keep the past behaviour, explicitly set `max_features=1.0'`.\n",
      "  warnings.warn(\n"
     ]
    },
    {
     "name": "stdout",
     "output_type": "stream",
     "text": [
      "[CV 2/3] END max_depth=12, max_features=log2, max_leaf_nodes=30, min_samples_leaf=0.001, min_weight_fraction_leaf=0.1, splitter=best;, score=-7737.628 total time=   0.0s\n",
      "[CV 3/3] END max_depth=12, max_features=log2, max_leaf_nodes=30, min_samples_leaf=0.001, min_weight_fraction_leaf=0.1, splitter=best;, score=-15424.255 total time=   0.0s\n",
      "[CV 1/3] END max_depth=12, max_features=log2, max_leaf_nodes=30, min_samples_leaf=0.001, min_weight_fraction_leaf=0.1, splitter=random;, score=-23387.429 total time=   0.0s\n",
      "[CV 2/3] END max_depth=12, max_features=log2, max_leaf_nodes=30, min_samples_leaf=0.001, min_weight_fraction_leaf=0.1, splitter=random;, score=-10100.589 total time=   0.0s\n",
      "[CV 3/3] END max_depth=12, max_features=log2, max_leaf_nodes=30, min_samples_leaf=0.001, min_weight_fraction_leaf=0.1, splitter=random;, score=-14513.307 total time=   0.0s\n",
      "[CV 1/3] END max_depth=12, max_features=log2, max_leaf_nodes=40, min_samples_leaf=0.001, min_weight_fraction_leaf=0.1, splitter=best;, score=-6700.351 total time=   0.0s\n",
      "[CV 2/3] END max_depth=12, max_features=log2, max_leaf_nodes=40, min_samples_leaf=0.001, min_weight_fraction_leaf=0.1, splitter=best;, score=-10821.033 total time=   0.0s\n",
      "[CV 3/3] END max_depth=12, max_features=log2, max_leaf_nodes=40, min_samples_leaf=0.001, min_weight_fraction_leaf=0.1, splitter=best;, score=-6811.584 total time=   0.0s\n",
      "[CV 1/3] END max_depth=12, max_features=log2, max_leaf_nodes=40, min_samples_leaf=0.001, min_weight_fraction_leaf=0.1, splitter=random;, score=-22316.823 total time=   0.0s\n",
      "[CV 2/3] END max_depth=12, max_features=log2, max_leaf_nodes=40, min_samples_leaf=0.001, min_weight_fraction_leaf=0.1, splitter=random;, score=-16676.825 total time=   0.0s\n",
      "[CV 3/3] END max_depth=12, max_features=log2, max_leaf_nodes=40, min_samples_leaf=0.001, min_weight_fraction_leaf=0.1, splitter=random;, score=-17389.954 total time=   0.0s\n",
      "[CV 1/3] END max_depth=12, max_features=log2, max_leaf_nodes=50, min_samples_leaf=0.001, min_weight_fraction_leaf=0.1, splitter=best;, score=-10969.194 total time=   0.0s\n",
      "[CV 2/3] END max_depth=12, max_features=log2, max_leaf_nodes=50, min_samples_leaf=0.001, min_weight_fraction_leaf=0.1, splitter=best;, score=-11347.583 total time=   0.0s\n",
      "[CV 3/3] END max_depth=12, max_features=log2, max_leaf_nodes=50, min_samples_leaf=0.001, min_weight_fraction_leaf=0.1, splitter=best;, score=-17337.416 total time=   0.0s\n",
      "[CV 1/3] END max_depth=12, max_features=log2, max_leaf_nodes=50, min_samples_leaf=0.001, min_weight_fraction_leaf=0.1, splitter=random;, score=-10588.257 total time=   0.0s\n",
      "[CV 2/3] END max_depth=12, max_features=log2, max_leaf_nodes=50, min_samples_leaf=0.001, min_weight_fraction_leaf=0.1, splitter=random;, score=-14065.453 total time=   0.0s\n",
      "[CV 3/3] END max_depth=12, max_features=log2, max_leaf_nodes=50, min_samples_leaf=0.001, min_weight_fraction_leaf=0.1, splitter=random;, score=-10018.762 total time=   0.0s\n",
      "[CV 1/3] END max_depth=12, max_features=log2, max_leaf_nodes=60, min_samples_leaf=0.001, min_weight_fraction_leaf=0.1, splitter=best;, score=-11627.388 total time=   0.0s\n",
      "[CV 2/3] END max_depth=12, max_features=log2, max_leaf_nodes=60, min_samples_leaf=0.001, min_weight_fraction_leaf=0.1, splitter=best;, score=-6875.162 total time=   0.0s\n",
      "[CV 3/3] END max_depth=12, max_features=log2, max_leaf_nodes=60, min_samples_leaf=0.001, min_weight_fraction_leaf=0.1, splitter=best;, score=-6588.132 total time=   0.0s\n",
      "[CV 1/3] END max_depth=12, max_features=log2, max_leaf_nodes=60, min_samples_leaf=0.001, min_weight_fraction_leaf=0.1, splitter=random;, score=-17354.827 total time=   0.0s\n",
      "[CV 2/3] END max_depth=12, max_features=log2, max_leaf_nodes=60, min_samples_leaf=0.001, min_weight_fraction_leaf=0.1, splitter=random;, score=-9534.862 total time=   0.0s\n",
      "[CV 3/3] END max_depth=12, max_features=log2, max_leaf_nodes=60, min_samples_leaf=0.001, min_weight_fraction_leaf=0.1, splitter=random;, score=-20635.479 total time=   0.0s\n",
      "[CV 1/3] END max_depth=12, max_features=sqrt, max_leaf_nodes=10, min_samples_leaf=0.001, min_weight_fraction_leaf=0.1, splitter=best;, score=-6509.834 total time=   0.0s\n",
      "[CV 2/3] END max_depth=12, max_features=sqrt, max_leaf_nodes=10, min_samples_leaf=0.001, min_weight_fraction_leaf=0.1, splitter=best;, score=-10635.306 total time=   0.0s\n",
      "[CV 3/3] END max_depth=12, max_features=sqrt, max_leaf_nodes=10, min_samples_leaf=0.001, min_weight_fraction_leaf=0.1, splitter=best;, score=-7603.800 total time=   0.0s\n",
      "[CV 1/3] END max_depth=12, max_features=sqrt, max_leaf_nodes=10, min_samples_leaf=0.001, min_weight_fraction_leaf=0.1, splitter=random;, score=-17252.563 total time=   0.0s\n",
      "[CV 2/3] END max_depth=12, max_features=sqrt, max_leaf_nodes=10, min_samples_leaf=0.001, min_weight_fraction_leaf=0.1, splitter=random;, score=-17206.421 total time=   0.0s\n",
      "[CV 3/3] END max_depth=12, max_features=sqrt, max_leaf_nodes=10, min_samples_leaf=0.001, min_weight_fraction_leaf=0.1, splitter=random;, score=-13876.765 total time=   0.0s\n",
      "[CV 1/3] END max_depth=12, max_features=sqrt, max_leaf_nodes=20, min_samples_leaf=0.001, min_weight_fraction_leaf=0.1, splitter=best;, score=-7385.910 total time=   0.0s\n",
      "[CV 2/3] END max_depth=12, max_features=sqrt, max_leaf_nodes=20, min_samples_leaf=0.001, min_weight_fraction_leaf=0.1, splitter=best;, score=-4240.970 total time=   0.0s\n",
      "[CV 3/3] END max_depth=12, max_features=sqrt, max_leaf_nodes=20, min_samples_leaf=0.001, min_weight_fraction_leaf=0.1, splitter=best;, score=-13063.776 total time=   0.0s\n",
      "[CV 1/3] END max_depth=12, max_features=sqrt, max_leaf_nodes=20, min_samples_leaf=0.001, min_weight_fraction_leaf=0.1, splitter=random;, score=-23387.429 total time=   0.0s\n",
      "[CV 2/3] END max_depth=12, max_features=sqrt, max_leaf_nodes=20, min_samples_leaf=0.001, min_weight_fraction_leaf=0.1, splitter=random;, score=-17098.581 total time=   0.0s\n",
      "[CV 3/3] END max_depth=12, max_features=sqrt, max_leaf_nodes=20, min_samples_leaf=0.001, min_weight_fraction_leaf=0.1, splitter=random;, score=-23543.854 total time=   0.0s\n",
      "[CV 1/3] END max_depth=12, max_features=sqrt, max_leaf_nodes=30, min_samples_leaf=0.001, min_weight_fraction_leaf=0.1, splitter=best;, score=-9195.105 total time=   0.0s\n",
      "[CV 2/3] END max_depth=12, max_features=sqrt, max_leaf_nodes=30, min_samples_leaf=0.001, min_weight_fraction_leaf=0.1, splitter=best;, score=-3841.380 total time=   0.0s\n",
      "[CV 3/3] END max_depth=12, max_features=sqrt, max_leaf_nodes=30, min_samples_leaf=0.001, min_weight_fraction_leaf=0.1, splitter=best;, score=-16537.520 total time=   0.0s\n",
      "[CV 1/3] END max_depth=12, max_features=sqrt, max_leaf_nodes=30, min_samples_leaf=0.001, min_weight_fraction_leaf=0.1, splitter=random;, score=-23387.429 total time=   0.0s\n",
      "[CV 2/3] END max_depth=12, max_features=sqrt, max_leaf_nodes=30, min_samples_leaf=0.001, min_weight_fraction_leaf=0.1, splitter=random;, score=-19353.628 total time=   0.0s\n",
      "[CV 3/3] END max_depth=12, max_features=sqrt, max_leaf_nodes=30, min_samples_leaf=0.001, min_weight_fraction_leaf=0.1, splitter=random;, score=-14225.197 total time=   0.0s\n",
      "[CV 1/3] END max_depth=12, max_features=sqrt, max_leaf_nodes=40, min_samples_leaf=0.001, min_weight_fraction_leaf=0.1, splitter=best;, score=-7704.930 total time=   0.0s\n",
      "[CV 2/3] END max_depth=12, max_features=sqrt, max_leaf_nodes=40, min_samples_leaf=0.001, min_weight_fraction_leaf=0.1, splitter=best;, score=-7612.086 total time=   0.0s\n",
      "[CV 3/3] END max_depth=12, max_features=sqrt, max_leaf_nodes=40, min_samples_leaf=0.001, min_weight_fraction_leaf=0.1, splitter=best;, score=-11759.753 total time=   0.0s\n",
      "[CV 1/3] END max_depth=12, max_features=sqrt, max_leaf_nodes=40, min_samples_leaf=0.001, min_weight_fraction_leaf=0.1, splitter=random;, score=-19632.349 total time=   0.0s\n",
      "[CV 2/3] END max_depth=12, max_features=sqrt, max_leaf_nodes=40, min_samples_leaf=0.001, min_weight_fraction_leaf=0.1, splitter=random;, score=-16934.243 total time=   0.0s\n",
      "[CV 3/3] END max_depth=12, max_features=sqrt, max_leaf_nodes=40, min_samples_leaf=0.001, min_weight_fraction_leaf=0.1, splitter=random;, score=-15555.340 total time=   0.0s\n",
      "[CV 1/3] END max_depth=12, max_features=sqrt, max_leaf_nodes=50, min_samples_leaf=0.001, min_weight_fraction_leaf=0.1, splitter=best;, score=-6070.922 total time=   0.0s\n",
      "[CV 2/3] END max_depth=12, max_features=sqrt, max_leaf_nodes=50, min_samples_leaf=0.001, min_weight_fraction_leaf=0.1, splitter=best;, score=-6023.845 total time=   0.0s\n",
      "[CV 3/3] END max_depth=12, max_features=sqrt, max_leaf_nodes=50, min_samples_leaf=0.001, min_weight_fraction_leaf=0.1, splitter=best;, score=-13284.347 total time=   0.0s\n",
      "[CV 1/3] END max_depth=12, max_features=sqrt, max_leaf_nodes=50, min_samples_leaf=0.001, min_weight_fraction_leaf=0.1, splitter=random;, score=-6465.288 total time=   0.0s\n",
      "[CV 2/3] END max_depth=12, max_features=sqrt, max_leaf_nodes=50, min_samples_leaf=0.001, min_weight_fraction_leaf=0.1, splitter=random;, score=-22707.665 total time=   0.0s\n",
      "[CV 3/3] END max_depth=12, max_features=sqrt, max_leaf_nodes=50, min_samples_leaf=0.001, min_weight_fraction_leaf=0.1, splitter=random;, score=-16106.009 total time=   0.0s\n",
      "[CV 1/3] END max_depth=12, max_features=sqrt, max_leaf_nodes=60, min_samples_leaf=0.001, min_weight_fraction_leaf=0.1, splitter=best;, score=-12787.449 total time=   0.0s\n",
      "[CV 2/3] END max_depth=12, max_features=sqrt, max_leaf_nodes=60, min_samples_leaf=0.001, min_weight_fraction_leaf=0.1, splitter=best;, score=-15837.678 total time=   0.0s\n",
      "[CV 3/3] END max_depth=12, max_features=sqrt, max_leaf_nodes=60, min_samples_leaf=0.001, min_weight_fraction_leaf=0.1, splitter=best;, score=-13000.861 total time=   0.0s\n",
      "[CV 1/3] END max_depth=12, max_features=sqrt, max_leaf_nodes=60, min_samples_leaf=0.001, min_weight_fraction_leaf=0.1, splitter=random;, score=-16840.773 total time=   0.0s\n",
      "[CV 2/3] END max_depth=12, max_features=sqrt, max_leaf_nodes=60, min_samples_leaf=0.001, min_weight_fraction_leaf=0.1, splitter=random;, score=-4131.761 total time=   0.0s\n",
      "[CV 3/3] END max_depth=12, max_features=sqrt, max_leaf_nodes=60, min_samples_leaf=0.001, min_weight_fraction_leaf=0.1, splitter=random;, score=-23543.854 total time=   0.0s\n"
     ]
    },
    {
     "name": "stderr",
     "output_type": "stream",
     "text": [
      "/opt/anaconda3/lib/python3.8/site-packages/sklearn/tree/_classes.py:306: FutureWarning: `max_features='auto'` has been deprecated in 1.1 and will be removed in 1.3. To keep the past behaviour, explicitly set `max_features=1.0'`.\n",
      "  warnings.warn(\n"
     ]
    },
    {
     "data": {
      "text/html": [
       "<style>#sk-container-id-42 {color: black;background-color: white;}#sk-container-id-42 pre{padding: 0;}#sk-container-id-42 div.sk-toggleable {background-color: white;}#sk-container-id-42 label.sk-toggleable__label {cursor: pointer;display: block;width: 100%;margin-bottom: 0;padding: 0.3em;box-sizing: border-box;text-align: center;}#sk-container-id-42 label.sk-toggleable__label-arrow:before {content: \"▸\";float: left;margin-right: 0.25em;color: #696969;}#sk-container-id-42 label.sk-toggleable__label-arrow:hover:before {color: black;}#sk-container-id-42 div.sk-estimator:hover label.sk-toggleable__label-arrow:before {color: black;}#sk-container-id-42 div.sk-toggleable__content {max-height: 0;max-width: 0;overflow: hidden;text-align: left;background-color: #f0f8ff;}#sk-container-id-42 div.sk-toggleable__content pre {margin: 0.2em;color: black;border-radius: 0.25em;background-color: #f0f8ff;}#sk-container-id-42 input.sk-toggleable__control:checked~div.sk-toggleable__content {max-height: 200px;max-width: 100%;overflow: auto;}#sk-container-id-42 input.sk-toggleable__control:checked~label.sk-toggleable__label-arrow:before {content: \"▾\";}#sk-container-id-42 div.sk-estimator input.sk-toggleable__control:checked~label.sk-toggleable__label {background-color: #d4ebff;}#sk-container-id-42 div.sk-label input.sk-toggleable__control:checked~label.sk-toggleable__label {background-color: #d4ebff;}#sk-container-id-42 input.sk-hidden--visually {border: 0;clip: rect(1px 1px 1px 1px);clip: rect(1px, 1px, 1px, 1px);height: 1px;margin: -1px;overflow: hidden;padding: 0;position: absolute;width: 1px;}#sk-container-id-42 div.sk-estimator {font-family: monospace;background-color: #f0f8ff;border: 1px dotted black;border-radius: 0.25em;box-sizing: border-box;margin-bottom: 0.5em;}#sk-container-id-42 div.sk-estimator:hover {background-color: #d4ebff;}#sk-container-id-42 div.sk-parallel-item::after {content: \"\";width: 100%;border-bottom: 1px solid gray;flex-grow: 1;}#sk-container-id-42 div.sk-label:hover label.sk-toggleable__label {background-color: #d4ebff;}#sk-container-id-42 div.sk-serial::before {content: \"\";position: absolute;border-left: 1px solid gray;box-sizing: border-box;top: 0;bottom: 0;left: 50%;z-index: 0;}#sk-container-id-42 div.sk-serial {display: flex;flex-direction: column;align-items: center;background-color: white;padding-right: 0.2em;padding-left: 0.2em;position: relative;}#sk-container-id-42 div.sk-item {position: relative;z-index: 1;}#sk-container-id-42 div.sk-parallel {display: flex;align-items: stretch;justify-content: center;background-color: white;position: relative;}#sk-container-id-42 div.sk-item::before, #sk-container-id-42 div.sk-parallel-item::before {content: \"\";position: absolute;border-left: 1px solid gray;box-sizing: border-box;top: 0;bottom: 0;left: 50%;z-index: -1;}#sk-container-id-42 div.sk-parallel-item {display: flex;flex-direction: column;z-index: 1;position: relative;background-color: white;}#sk-container-id-42 div.sk-parallel-item:first-child::after {align-self: flex-end;width: 50%;}#sk-container-id-42 div.sk-parallel-item:last-child::after {align-self: flex-start;width: 50%;}#sk-container-id-42 div.sk-parallel-item:only-child::after {width: 0;}#sk-container-id-42 div.sk-dashed-wrapped {border: 1px dashed gray;margin: 0 0.4em 0.5em 0.4em;box-sizing: border-box;padding-bottom: 0.4em;background-color: white;}#sk-container-id-42 div.sk-label label {font-family: monospace;font-weight: bold;display: inline-block;line-height: 1.2em;}#sk-container-id-42 div.sk-label-container {text-align: center;}#sk-container-id-42 div.sk-container {/* jupyter's `normalize.less` sets `[hidden] { display: none; }` but bootstrap.min.css set `[hidden] { display: none !important; }` so we also need the `!important` here to be able to override the default hidden behavior on the sphinx rendered scikit-learn.org. See: https://github.com/scikit-learn/scikit-learn/issues/21755 */display: inline-block !important;position: relative;}#sk-container-id-42 div.sk-text-repr-fallback {display: none;}</style><div id=\"sk-container-id-42\" class=\"sk-top-container\"><div class=\"sk-text-repr-fallback\"><pre>GridSearchCV(cv=3, estimator=DecisionTreeRegressor(min_samples_leaf=0.0001),\n",
       "             param_grid={&#x27;max_depth&#x27;: [3, 5, 7, 9, 11, 12],\n",
       "                         &#x27;max_features&#x27;: [&#x27;auto&#x27;, &#x27;log2&#x27;, &#x27;sqrt&#x27;],\n",
       "                         &#x27;max_leaf_nodes&#x27;: [10, 20, 30, 40, 50, 60],\n",
       "                         &#x27;min_samples_leaf&#x27;: [0.001],\n",
       "                         &#x27;min_weight_fraction_leaf&#x27;: [0.1],\n",
       "                         &#x27;splitter&#x27;: [&#x27;best&#x27;, &#x27;random&#x27;]},\n",
       "             scoring=&#x27;neg_mean_squared_error&#x27;, verbose=3)</pre><b>In a Jupyter environment, please rerun this cell to show the HTML representation or trust the notebook. <br />On GitHub, the HTML representation is unable to render, please try loading this page with nbviewer.org.</b></div><div class=\"sk-container\" hidden><div class=\"sk-item sk-dashed-wrapped\"><div class=\"sk-label-container\"><div class=\"sk-label sk-toggleable\"><input class=\"sk-toggleable__control sk-hidden--visually\" id=\"sk-estimator-id-46\" type=\"checkbox\" ><label for=\"sk-estimator-id-46\" class=\"sk-toggleable__label sk-toggleable__label-arrow\">GridSearchCV</label><div class=\"sk-toggleable__content\"><pre>GridSearchCV(cv=3, estimator=DecisionTreeRegressor(min_samples_leaf=0.0001),\n",
       "             param_grid={&#x27;max_depth&#x27;: [3, 5, 7, 9, 11, 12],\n",
       "                         &#x27;max_features&#x27;: [&#x27;auto&#x27;, &#x27;log2&#x27;, &#x27;sqrt&#x27;],\n",
       "                         &#x27;max_leaf_nodes&#x27;: [10, 20, 30, 40, 50, 60],\n",
       "                         &#x27;min_samples_leaf&#x27;: [0.001],\n",
       "                         &#x27;min_weight_fraction_leaf&#x27;: [0.1],\n",
       "                         &#x27;splitter&#x27;: [&#x27;best&#x27;, &#x27;random&#x27;]},\n",
       "             scoring=&#x27;neg_mean_squared_error&#x27;, verbose=3)</pre></div></div></div><div class=\"sk-parallel\"><div class=\"sk-parallel-item\"><div class=\"sk-item\"><div class=\"sk-label-container\"><div class=\"sk-label sk-toggleable\"><input class=\"sk-toggleable__control sk-hidden--visually\" id=\"sk-estimator-id-47\" type=\"checkbox\" ><label for=\"sk-estimator-id-47\" class=\"sk-toggleable__label sk-toggleable__label-arrow\">estimator: DecisionTreeRegressor</label><div class=\"sk-toggleable__content\"><pre>DecisionTreeRegressor(min_samples_leaf=0.0001)</pre></div></div></div><div class=\"sk-serial\"><div class=\"sk-item\"><div class=\"sk-estimator sk-toggleable\"><input class=\"sk-toggleable__control sk-hidden--visually\" id=\"sk-estimator-id-48\" type=\"checkbox\" ><label for=\"sk-estimator-id-48\" class=\"sk-toggleable__label sk-toggleable__label-arrow\">DecisionTreeRegressor</label><div class=\"sk-toggleable__content\"><pre>DecisionTreeRegressor(min_samples_leaf=0.0001)</pre></div></div></div></div></div></div></div></div></div></div>"
      ],
      "text/plain": [
       "GridSearchCV(cv=3, estimator=DecisionTreeRegressor(min_samples_leaf=0.0001),\n",
       "             param_grid={'max_depth': [3, 5, 7, 9, 11, 12],\n",
       "                         'max_features': ['auto', 'log2', 'sqrt'],\n",
       "                         'max_leaf_nodes': [10, 20, 30, 40, 50, 60],\n",
       "                         'min_samples_leaf': [0.001],\n",
       "                         'min_weight_fraction_leaf': [0.1],\n",
       "                         'splitter': ['best', 'random']},\n",
       "             scoring='neg_mean_squared_error', verbose=3)"
      ]
     },
     "execution_count": 556,
     "metadata": {},
     "output_type": "execute_result"
    }
   ],
   "source": [
    "tuning_model.fit(X_train, y_train)"
   ]
  },
  {
   "cell_type": "code",
   "execution_count": 557,
   "id": "9b2d7f7e",
   "metadata": {},
   "outputs": [
    {
     "data": {
      "text/plain": [
       "{'max_depth': 5,\n",
       " 'max_features': 'auto',\n",
       " 'max_leaf_nodes': 30,\n",
       " 'min_samples_leaf': 0.001,\n",
       " 'min_weight_fraction_leaf': 0.1,\n",
       " 'splitter': 'best'}"
      ]
     },
     "execution_count": 557,
     "metadata": {},
     "output_type": "execute_result"
    }
   ],
   "source": [
    "tuning_model.best_params_"
   ]
  },
  {
   "cell_type": "code",
   "execution_count": 614,
   "id": "cff793d4",
   "metadata": {},
   "outputs": [],
   "source": [
    "decision_tree=DecisionTreeRegressor(\n",
    "max_depth= 5,\n",
    "# max_features = 'auto',\n",
    " #max_leaf_nodes=20,\n",
    " min_samples_leaf= 0.001,\n",
    " #min_weight_fraction_leaf= 0.1,\n",
    " #splitter='best'\n",
    ")"
   ]
  },
  {
   "cell_type": "code",
   "execution_count": 615,
   "id": "71ebe8db",
   "metadata": {},
   "outputs": [
    {
     "data": {
      "text/html": [
       "<style>#sk-container-id-47 {color: black;background-color: white;}#sk-container-id-47 pre{padding: 0;}#sk-container-id-47 div.sk-toggleable {background-color: white;}#sk-container-id-47 label.sk-toggleable__label {cursor: pointer;display: block;width: 100%;margin-bottom: 0;padding: 0.3em;box-sizing: border-box;text-align: center;}#sk-container-id-47 label.sk-toggleable__label-arrow:before {content: \"▸\";float: left;margin-right: 0.25em;color: #696969;}#sk-container-id-47 label.sk-toggleable__label-arrow:hover:before {color: black;}#sk-container-id-47 div.sk-estimator:hover label.sk-toggleable__label-arrow:before {color: black;}#sk-container-id-47 div.sk-toggleable__content {max-height: 0;max-width: 0;overflow: hidden;text-align: left;background-color: #f0f8ff;}#sk-container-id-47 div.sk-toggleable__content pre {margin: 0.2em;color: black;border-radius: 0.25em;background-color: #f0f8ff;}#sk-container-id-47 input.sk-toggleable__control:checked~div.sk-toggleable__content {max-height: 200px;max-width: 100%;overflow: auto;}#sk-container-id-47 input.sk-toggleable__control:checked~label.sk-toggleable__label-arrow:before {content: \"▾\";}#sk-container-id-47 div.sk-estimator input.sk-toggleable__control:checked~label.sk-toggleable__label {background-color: #d4ebff;}#sk-container-id-47 div.sk-label input.sk-toggleable__control:checked~label.sk-toggleable__label {background-color: #d4ebff;}#sk-container-id-47 input.sk-hidden--visually {border: 0;clip: rect(1px 1px 1px 1px);clip: rect(1px, 1px, 1px, 1px);height: 1px;margin: -1px;overflow: hidden;padding: 0;position: absolute;width: 1px;}#sk-container-id-47 div.sk-estimator {font-family: monospace;background-color: #f0f8ff;border: 1px dotted black;border-radius: 0.25em;box-sizing: border-box;margin-bottom: 0.5em;}#sk-container-id-47 div.sk-estimator:hover {background-color: #d4ebff;}#sk-container-id-47 div.sk-parallel-item::after {content: \"\";width: 100%;border-bottom: 1px solid gray;flex-grow: 1;}#sk-container-id-47 div.sk-label:hover label.sk-toggleable__label {background-color: #d4ebff;}#sk-container-id-47 div.sk-serial::before {content: \"\";position: absolute;border-left: 1px solid gray;box-sizing: border-box;top: 0;bottom: 0;left: 50%;z-index: 0;}#sk-container-id-47 div.sk-serial {display: flex;flex-direction: column;align-items: center;background-color: white;padding-right: 0.2em;padding-left: 0.2em;position: relative;}#sk-container-id-47 div.sk-item {position: relative;z-index: 1;}#sk-container-id-47 div.sk-parallel {display: flex;align-items: stretch;justify-content: center;background-color: white;position: relative;}#sk-container-id-47 div.sk-item::before, #sk-container-id-47 div.sk-parallel-item::before {content: \"\";position: absolute;border-left: 1px solid gray;box-sizing: border-box;top: 0;bottom: 0;left: 50%;z-index: -1;}#sk-container-id-47 div.sk-parallel-item {display: flex;flex-direction: column;z-index: 1;position: relative;background-color: white;}#sk-container-id-47 div.sk-parallel-item:first-child::after {align-self: flex-end;width: 50%;}#sk-container-id-47 div.sk-parallel-item:last-child::after {align-self: flex-start;width: 50%;}#sk-container-id-47 div.sk-parallel-item:only-child::after {width: 0;}#sk-container-id-47 div.sk-dashed-wrapped {border: 1px dashed gray;margin: 0 0.4em 0.5em 0.4em;box-sizing: border-box;padding-bottom: 0.4em;background-color: white;}#sk-container-id-47 div.sk-label label {font-family: monospace;font-weight: bold;display: inline-block;line-height: 1.2em;}#sk-container-id-47 div.sk-label-container {text-align: center;}#sk-container-id-47 div.sk-container {/* jupyter's `normalize.less` sets `[hidden] { display: none; }` but bootstrap.min.css set `[hidden] { display: none !important; }` so we also need the `!important` here to be able to override the default hidden behavior on the sphinx rendered scikit-learn.org. See: https://github.com/scikit-learn/scikit-learn/issues/21755 */display: inline-block !important;position: relative;}#sk-container-id-47 div.sk-text-repr-fallback {display: none;}</style><div id=\"sk-container-id-47\" class=\"sk-top-container\"><div class=\"sk-text-repr-fallback\"><pre>DecisionTreeRegressor(max_depth=5, min_samples_leaf=0.001)</pre><b>In a Jupyter environment, please rerun this cell to show the HTML representation or trust the notebook. <br />On GitHub, the HTML representation is unable to render, please try loading this page with nbviewer.org.</b></div><div class=\"sk-container\" hidden><div class=\"sk-item\"><div class=\"sk-estimator sk-toggleable\"><input class=\"sk-toggleable__control sk-hidden--visually\" id=\"sk-estimator-id-53\" type=\"checkbox\" checked><label for=\"sk-estimator-id-53\" class=\"sk-toggleable__label sk-toggleable__label-arrow\">DecisionTreeRegressor</label><div class=\"sk-toggleable__content\"><pre>DecisionTreeRegressor(max_depth=5, min_samples_leaf=0.001)</pre></div></div></div></div></div>"
      ],
      "text/plain": [
       "DecisionTreeRegressor(max_depth=5, min_samples_leaf=0.001)"
      ]
     },
     "execution_count": 615,
     "metadata": {},
     "output_type": "execute_result"
    }
   ],
   "source": [
    "decision_tree.fit(X_train, y_train)"
   ]
  },
  {
   "cell_type": "code",
   "execution_count": 616,
   "id": "5183cb6c",
   "metadata": {},
   "outputs": [],
   "source": [
    "predictions = decision_tree.predict(X_test)"
   ]
  },
  {
   "cell_type": "code",
   "execution_count": 617,
   "id": "d15a4da6",
   "metadata": {},
   "outputs": [
    {
     "name": "stdout",
     "output_type": "stream",
     "text": [
      "MAE: 28.25007704984082\n",
      "MSE: 2746.3405854826656\n",
      "RMSE: 52.40553964499045\n",
      "R2 score = 0.88\n"
     ]
    }
   ],
   "source": [
    "print('MAE:', metrics.mean_absolute_error(y_test, predictions))\n",
    "print('MSE:', metrics.mean_squared_error(y_test, predictions))\n",
    "print('RMSE:', np.sqrt(metrics.mean_squared_error(y_test, predictions)))\n",
    "print(\"R2 score =\", round(metrics.r2_score(y_test, predictions), 2))"
   ]
  },
  {
   "cell_type": "code",
   "execution_count": 618,
   "id": "c1dcae5e",
   "metadata": {},
   "outputs": [
    {
     "name": "stdout",
     "output_type": "stream",
     "text": [
      "Cross-validated scores: [-2722.62513024 -2557.8021093  -2724.113497   -2777.0216488\n",
      " -2631.96008918 -3011.93361261 -2725.16450508 -2842.6282817\n",
      " -2955.66752143 -2712.35229809]\n"
     ]
    }
   ],
   "source": [
    "cv = KFold(n_splits=10, random_state=1, shuffle=True)\n",
    "scores = cross_val_score(decision_tree, X, y, cv=cv,scoring='neg_mean_squared_error')\n",
    "print(\"Cross-validated scores:\", scores)"
   ]
  },
  {
   "cell_type": "code",
   "execution_count": 619,
   "id": "6cc9a799",
   "metadata": {},
   "outputs": [],
   "source": [
    "def rmse_cv(model):\n",
    "    rmse = np.sqrt(-cross_val_score(model, X, y, scoring='neg_mean_squared_error', cv = 7)).mean()\n",
    "    return rmse"
   ]
  },
  {
   "cell_type": "code",
   "execution_count": 620,
   "id": "23f9e145",
   "metadata": {},
   "outputs": [
    {
     "data": {
      "text/plain": [
       "52.54071147708983"
      ]
     },
     "execution_count": 620,
     "metadata": {},
     "output_type": "execute_result"
    }
   ],
   "source": [
    "rmse_cv(decision_tree)"
   ]
  },
  {
   "cell_type": "code",
   "execution_count": 621,
   "id": "ef0e4351",
   "metadata": {},
   "outputs": [
    {
     "data": {
      "text/plain": [
       "-2766.1268693438888"
      ]
     },
     "execution_count": 621,
     "metadata": {},
     "output_type": "execute_result"
    }
   ],
   "source": [
    "mean(scores)"
   ]
  },
  {
   "cell_type": "markdown",
   "id": "36f48cb4",
   "metadata": {},
   "source": [
    "# Model on Test data"
   ]
  },
  {
   "cell_type": "code",
   "execution_count": 599,
   "id": "69a851d3",
   "metadata": {},
   "outputs": [],
   "source": [
    "decision_tree=DecisionTreeRegressor(\n",
    " max_depth= 5,\n",
    " #max_features = 'auto',\n",
    " #max_leaf_nodes=10,\n",
    " min_samples_leaf= 0.001,\n",
    " #min_weight_fraction_leaf= 0.1,\n",
    " #splitter='best'\n",
    ")\n"
   ]
  },
  {
   "cell_type": "code",
   "execution_count": 600,
   "id": "055dccd5",
   "metadata": {},
   "outputs": [
    {
     "data": {
      "text/html": [
       "<style>#sk-container-id-46 {color: black;background-color: white;}#sk-container-id-46 pre{padding: 0;}#sk-container-id-46 div.sk-toggleable {background-color: white;}#sk-container-id-46 label.sk-toggleable__label {cursor: pointer;display: block;width: 100%;margin-bottom: 0;padding: 0.3em;box-sizing: border-box;text-align: center;}#sk-container-id-46 label.sk-toggleable__label-arrow:before {content: \"▸\";float: left;margin-right: 0.25em;color: #696969;}#sk-container-id-46 label.sk-toggleable__label-arrow:hover:before {color: black;}#sk-container-id-46 div.sk-estimator:hover label.sk-toggleable__label-arrow:before {color: black;}#sk-container-id-46 div.sk-toggleable__content {max-height: 0;max-width: 0;overflow: hidden;text-align: left;background-color: #f0f8ff;}#sk-container-id-46 div.sk-toggleable__content pre {margin: 0.2em;color: black;border-radius: 0.25em;background-color: #f0f8ff;}#sk-container-id-46 input.sk-toggleable__control:checked~div.sk-toggleable__content {max-height: 200px;max-width: 100%;overflow: auto;}#sk-container-id-46 input.sk-toggleable__control:checked~label.sk-toggleable__label-arrow:before {content: \"▾\";}#sk-container-id-46 div.sk-estimator input.sk-toggleable__control:checked~label.sk-toggleable__label {background-color: #d4ebff;}#sk-container-id-46 div.sk-label input.sk-toggleable__control:checked~label.sk-toggleable__label {background-color: #d4ebff;}#sk-container-id-46 input.sk-hidden--visually {border: 0;clip: rect(1px 1px 1px 1px);clip: rect(1px, 1px, 1px, 1px);height: 1px;margin: -1px;overflow: hidden;padding: 0;position: absolute;width: 1px;}#sk-container-id-46 div.sk-estimator {font-family: monospace;background-color: #f0f8ff;border: 1px dotted black;border-radius: 0.25em;box-sizing: border-box;margin-bottom: 0.5em;}#sk-container-id-46 div.sk-estimator:hover {background-color: #d4ebff;}#sk-container-id-46 div.sk-parallel-item::after {content: \"\";width: 100%;border-bottom: 1px solid gray;flex-grow: 1;}#sk-container-id-46 div.sk-label:hover label.sk-toggleable__label {background-color: #d4ebff;}#sk-container-id-46 div.sk-serial::before {content: \"\";position: absolute;border-left: 1px solid gray;box-sizing: border-box;top: 0;bottom: 0;left: 50%;z-index: 0;}#sk-container-id-46 div.sk-serial {display: flex;flex-direction: column;align-items: center;background-color: white;padding-right: 0.2em;padding-left: 0.2em;position: relative;}#sk-container-id-46 div.sk-item {position: relative;z-index: 1;}#sk-container-id-46 div.sk-parallel {display: flex;align-items: stretch;justify-content: center;background-color: white;position: relative;}#sk-container-id-46 div.sk-item::before, #sk-container-id-46 div.sk-parallel-item::before {content: \"\";position: absolute;border-left: 1px solid gray;box-sizing: border-box;top: 0;bottom: 0;left: 50%;z-index: -1;}#sk-container-id-46 div.sk-parallel-item {display: flex;flex-direction: column;z-index: 1;position: relative;background-color: white;}#sk-container-id-46 div.sk-parallel-item:first-child::after {align-self: flex-end;width: 50%;}#sk-container-id-46 div.sk-parallel-item:last-child::after {align-self: flex-start;width: 50%;}#sk-container-id-46 div.sk-parallel-item:only-child::after {width: 0;}#sk-container-id-46 div.sk-dashed-wrapped {border: 1px dashed gray;margin: 0 0.4em 0.5em 0.4em;box-sizing: border-box;padding-bottom: 0.4em;background-color: white;}#sk-container-id-46 div.sk-label label {font-family: monospace;font-weight: bold;display: inline-block;line-height: 1.2em;}#sk-container-id-46 div.sk-label-container {text-align: center;}#sk-container-id-46 div.sk-container {/* jupyter's `normalize.less` sets `[hidden] { display: none; }` but bootstrap.min.css set `[hidden] { display: none !important; }` so we also need the `!important` here to be able to override the default hidden behavior on the sphinx rendered scikit-learn.org. See: https://github.com/scikit-learn/scikit-learn/issues/21755 */display: inline-block !important;position: relative;}#sk-container-id-46 div.sk-text-repr-fallback {display: none;}</style><div id=\"sk-container-id-46\" class=\"sk-top-container\"><div class=\"sk-text-repr-fallback\"><pre>DecisionTreeRegressor(max_depth=5, min_samples_leaf=0.001)</pre><b>In a Jupyter environment, please rerun this cell to show the HTML representation or trust the notebook. <br />On GitHub, the HTML representation is unable to render, please try loading this page with nbviewer.org.</b></div><div class=\"sk-container\" hidden><div class=\"sk-item\"><div class=\"sk-estimator sk-toggleable\"><input class=\"sk-toggleable__control sk-hidden--visually\" id=\"sk-estimator-id-52\" type=\"checkbox\" checked><label for=\"sk-estimator-id-52\" class=\"sk-toggleable__label sk-toggleable__label-arrow\">DecisionTreeRegressor</label><div class=\"sk-toggleable__content\"><pre>DecisionTreeRegressor(max_depth=5, min_samples_leaf=0.001)</pre></div></div></div></div></div>"
      ],
      "text/plain": [
       "DecisionTreeRegressor(max_depth=5, min_samples_leaf=0.001)"
      ]
     },
     "execution_count": 600,
     "metadata": {},
     "output_type": "execute_result"
    }
   ],
   "source": [
    "decision_tree.fit(X, y)"
   ]
  },
  {
   "cell_type": "code",
   "execution_count": 602,
   "id": "1a05691c",
   "metadata": {},
   "outputs": [],
   "source": [
    "test = test.drop(['neigh_long', 'nycdistance','neigh_lat', 'cen_lat', 'wall_lat', 'wall_long','cen_long','empiredist'],axis=1)\n",
    "\n",
    "\n",
    "\n"
   ]
  },
  {
   "cell_type": "code",
   "execution_count": 540,
   "id": "92f4da34",
   "metadata": {},
   "outputs": [
    {
     "data": {
      "text/html": [
       "<div>\n",
       "<style scoped>\n",
       "    .dataframe tbody tr th:only-of-type {\n",
       "        vertical-align: middle;\n",
       "    }\n",
       "\n",
       "    .dataframe tbody tr th {\n",
       "        vertical-align: top;\n",
       "    }\n",
       "\n",
       "    .dataframe thead th {\n",
       "        text-align: right;\n",
       "    }\n",
       "</style>\n",
       "<table border=\"1\" class=\"dataframe\">\n",
       "  <thead>\n",
       "    <tr style=\"text-align: right;\">\n",
       "      <th></th>\n",
       "      <th>neighbourhood_group</th>\n",
       "      <th>neighbourhood</th>\n",
       "      <th>latitude</th>\n",
       "      <th>longitude</th>\n",
       "      <th>room_type</th>\n",
       "      <th>floor</th>\n",
       "      <th>neigh_distance</th>\n",
       "      <th>cendistance</th>\n",
       "      <th>walldistance</th>\n",
       "      <th>timesquaredist</th>\n",
       "    </tr>\n",
       "  </thead>\n",
       "  <tbody>\n",
       "    <tr>\n",
       "      <th>0</th>\n",
       "      <td>0</td>\n",
       "      <td>31</td>\n",
       "      <td>40.66876</td>\n",
       "      <td>-73.95633</td>\n",
       "      <td>0</td>\n",
       "      <td>16</td>\n",
       "      <td>125.924220</td>\n",
       "      <td>550.649385</td>\n",
       "      <td>406.871917</td>\n",
       "      <td>602.390681</td>\n",
       "    </tr>\n",
       "    <tr>\n",
       "      <th>1</th>\n",
       "      <td>0</td>\n",
       "      <td>121</td>\n",
       "      <td>40.71145</td>\n",
       "      <td>-73.95302</td>\n",
       "      <td>0</td>\n",
       "      <td>1</td>\n",
       "      <td>391.946505</td>\n",
       "      <td>304.218603</td>\n",
       "      <td>354.156264</td>\n",
       "      <td>364.348581</td>\n",
       "    </tr>\n",
       "    <tr>\n",
       "      <th>2</th>\n",
       "      <td>1</td>\n",
       "      <td>112</td>\n",
       "      <td>40.76241</td>\n",
       "      <td>-73.98587</td>\n",
       "      <td>0</td>\n",
       "      <td>16</td>\n",
       "      <td>129.649211</td>\n",
       "      <td>82.622456</td>\n",
       "      <td>387.661084</td>\n",
       "      <td>22.875611</td>\n",
       "    </tr>\n",
       "    <tr>\n",
       "      <th>3</th>\n",
       "      <td>0</td>\n",
       "      <td>18</td>\n",
       "      <td>40.68442</td>\n",
       "      <td>-73.90830</td>\n",
       "      <td>0</td>\n",
       "      <td>1</td>\n",
       "      <td>341.383322</td>\n",
       "      <td>615.838854</td>\n",
       "      <td>648.422423</td>\n",
       "      <td>679.144295</td>\n",
       "    </tr>\n",
       "    <tr>\n",
       "      <th>4</th>\n",
       "      <td>0</td>\n",
       "      <td>31</td>\n",
       "      <td>40.67268</td>\n",
       "      <td>-73.96108</td>\n",
       "      <td>0</td>\n",
       "      <td>1</td>\n",
       "      <td>160.317634</td>\n",
       "      <td>519.714896</td>\n",
       "      <td>368.102044</td>\n",
       "      <td>569.919786</td>\n",
       "    </tr>\n",
       "    <tr>\n",
       "      <th>...</th>\n",
       "      <td>...</td>\n",
       "      <td>...</td>\n",
       "      <td>...</td>\n",
       "      <td>...</td>\n",
       "      <td>...</td>\n",
       "      <td>...</td>\n",
       "      <td>...</td>\n",
       "      <td>...</td>\n",
       "      <td>...</td>\n",
       "      <td>...</td>\n",
       "    </tr>\n",
       "    <tr>\n",
       "      <th>11853</th>\n",
       "      <td>1</td>\n",
       "      <td>42</td>\n",
       "      <td>40.72745</td>\n",
       "      <td>-73.98362</td>\n",
       "      <td>1</td>\n",
       "      <td>1</td>\n",
       "      <td>323.182940</td>\n",
       "      <td>165.510140</td>\n",
       "      <td>209.908646</td>\n",
       "      <td>200.571102</td>\n",
       "    </tr>\n",
       "    <tr>\n",
       "      <th>11854</th>\n",
       "      <td>0</td>\n",
       "      <td>122</td>\n",
       "      <td>40.66023</td>\n",
       "      <td>-73.98259</td>\n",
       "      <td>0</td>\n",
       "      <td>1</td>\n",
       "      <td>214.233511</td>\n",
       "      <td>589.787203</td>\n",
       "      <td>335.107924</td>\n",
       "      <td>628.805611</td>\n",
       "    </tr>\n",
       "    <tr>\n",
       "      <th>11855</th>\n",
       "      <td>2</td>\n",
       "      <td>108</td>\n",
       "      <td>40.70080</td>\n",
       "      <td>-73.75121</td>\n",
       "      <td>1</td>\n",
       "      <td>5</td>\n",
       "      <td>286.952909</td>\n",
       "      <td>1468.479824</td>\n",
       "      <td>1626.083091</td>\n",
       "      <td>1526.452250</td>\n",
       "    </tr>\n",
       "    <tr>\n",
       "      <th>11856</th>\n",
       "      <td>0</td>\n",
       "      <td>39</td>\n",
       "      <td>40.63707</td>\n",
       "      <td>-73.93148</td>\n",
       "      <td>1</td>\n",
       "      <td>1</td>\n",
       "      <td>142.025105</td>\n",
       "      <td>790.931678</td>\n",
       "      <td>654.771066</td>\n",
       "      <td>846.598872</td>\n",
       "    </tr>\n",
       "    <tr>\n",
       "      <th>11857</th>\n",
       "      <td>1</td>\n",
       "      <td>100</td>\n",
       "      <td>40.76414</td>\n",
       "      <td>-73.94900</td>\n",
       "      <td>1</td>\n",
       "      <td>1</td>\n",
       "      <td>162.792909</td>\n",
       "      <td>193.985342</td>\n",
       "      <td>529.909288</td>\n",
       "      <td>231.882017</td>\n",
       "    </tr>\n",
       "  </tbody>\n",
       "</table>\n",
       "<p>11858 rows × 10 columns</p>\n",
       "</div>"
      ],
      "text/plain": [
       "       neighbourhood_group  neighbourhood  latitude  longitude  room_type  \\\n",
       "0                        0             31  40.66876  -73.95633          0   \n",
       "1                        0            121  40.71145  -73.95302          0   \n",
       "2                        1            112  40.76241  -73.98587          0   \n",
       "3                        0             18  40.68442  -73.90830          0   \n",
       "4                        0             31  40.67268  -73.96108          0   \n",
       "...                    ...            ...       ...        ...        ...   \n",
       "11853                    1             42  40.72745  -73.98362          1   \n",
       "11854                    0            122  40.66023  -73.98259          0   \n",
       "11855                    2            108  40.70080  -73.75121          1   \n",
       "11856                    0             39  40.63707  -73.93148          1   \n",
       "11857                    1            100  40.76414  -73.94900          1   \n",
       "\n",
       "       floor  neigh_distance  cendistance  walldistance  timesquaredist  \n",
       "0         16      125.924220   550.649385    406.871917      602.390681  \n",
       "1          1      391.946505   304.218603    354.156264      364.348581  \n",
       "2         16      129.649211    82.622456    387.661084       22.875611  \n",
       "3          1      341.383322   615.838854    648.422423      679.144295  \n",
       "4          1      160.317634   519.714896    368.102044      569.919786  \n",
       "...      ...             ...          ...           ...             ...  \n",
       "11853      1      323.182940   165.510140    209.908646      200.571102  \n",
       "11854      1      214.233511   589.787203    335.107924      628.805611  \n",
       "11855      5      286.952909  1468.479824   1626.083091     1526.452250  \n",
       "11856      1      142.025105   790.931678    654.771066      846.598872  \n",
       "11857      1      162.792909   193.985342    529.909288      231.882017  \n",
       "\n",
       "[11858 rows x 10 columns]"
      ]
     },
     "execution_count": 540,
     "metadata": {},
     "output_type": "execute_result"
    }
   ],
   "source": [
    "test"
   ]
  },
  {
   "cell_type": "code",
   "execution_count": 603,
   "id": "f858fe95",
   "metadata": {},
   "outputs": [],
   "source": [
    "finalpredictions = decision_tree.predict(test)"
   ]
  },
  {
   "cell_type": "code",
   "execution_count": 604,
   "id": "5c1ef378",
   "metadata": {},
   "outputs": [
    {
     "data": {
      "text/plain": [
       "(11858,)"
      ]
     },
     "execution_count": 604,
     "metadata": {},
     "output_type": "execute_result"
    }
   ],
   "source": [
    "finalpredictions.shape"
   ]
  },
  {
   "cell_type": "code",
   "execution_count": 605,
   "id": "771974cc",
   "metadata": {},
   "outputs": [],
   "source": [
    "final_test = pd.DataFrame(finalpredictions, columns = ['Prediction'])"
   ]
  },
  {
   "cell_type": "code",
   "execution_count": 606,
   "id": "0366e631",
   "metadata": {},
   "outputs": [],
   "source": [
    "final_test['Id'] = final_test.index +1"
   ]
  },
  {
   "cell_type": "code",
   "execution_count": 607,
   "id": "9d089653",
   "metadata": {},
   "outputs": [],
   "source": [
    "final_test = final_test[['Id', 'Prediction']]"
   ]
  },
  {
   "cell_type": "code",
   "execution_count": 608,
   "id": "1326c0d7",
   "metadata": {},
   "outputs": [],
   "source": [
    "final_test.to_csv('test_results.csv', header=['Id', 'Prediction'], index=False)"
   ]
  },
  {
   "cell_type": "code",
   "execution_count": 609,
   "id": "c9d7833f",
   "metadata": {},
   "outputs": [
    {
     "data": {
      "text/html": [
       "<div>\n",
       "<style scoped>\n",
       "    .dataframe tbody tr th:only-of-type {\n",
       "        vertical-align: middle;\n",
       "    }\n",
       "\n",
       "    .dataframe tbody tr th {\n",
       "        vertical-align: top;\n",
       "    }\n",
       "\n",
       "    .dataframe thead th {\n",
       "        text-align: right;\n",
       "    }\n",
       "</style>\n",
       "<table border=\"1\" class=\"dataframe\">\n",
       "  <thead>\n",
       "    <tr style=\"text-align: right;\">\n",
       "      <th></th>\n",
       "      <th>Id</th>\n",
       "      <th>Prediction</th>\n",
       "    </tr>\n",
       "  </thead>\n",
       "  <tbody>\n",
       "    <tr>\n",
       "      <th>0</th>\n",
       "      <td>1</td>\n",
       "      <td>389.168938</td>\n",
       "    </tr>\n",
       "    <tr>\n",
       "      <th>1</th>\n",
       "      <td>2</td>\n",
       "      <td>194.530692</td>\n",
       "    </tr>\n",
       "    <tr>\n",
       "      <th>2</th>\n",
       "      <td>3</td>\n",
       "      <td>534.692401</td>\n",
       "    </tr>\n",
       "    <tr>\n",
       "      <th>3</th>\n",
       "      <td>4</td>\n",
       "      <td>194.530692</td>\n",
       "    </tr>\n",
       "    <tr>\n",
       "      <th>4</th>\n",
       "      <td>5</td>\n",
       "      <td>194.530692</td>\n",
       "    </tr>\n",
       "    <tr>\n",
       "      <th>...</th>\n",
       "      <td>...</td>\n",
       "      <td>...</td>\n",
       "    </tr>\n",
       "    <tr>\n",
       "      <th>11853</th>\n",
       "      <td>11854</td>\n",
       "      <td>154.726964</td>\n",
       "    </tr>\n",
       "    <tr>\n",
       "      <th>11854</th>\n",
       "      <td>11855</td>\n",
       "      <td>194.530692</td>\n",
       "    </tr>\n",
       "    <tr>\n",
       "      <th>11855</th>\n",
       "      <td>11856</td>\n",
       "      <td>101.194900</td>\n",
       "    </tr>\n",
       "    <tr>\n",
       "      <th>11856</th>\n",
       "      <td>11857</td>\n",
       "      <td>101.194900</td>\n",
       "    </tr>\n",
       "    <tr>\n",
       "      <th>11857</th>\n",
       "      <td>11858</td>\n",
       "      <td>143.680074</td>\n",
       "    </tr>\n",
       "  </tbody>\n",
       "</table>\n",
       "<p>11858 rows × 2 columns</p>\n",
       "</div>"
      ],
      "text/plain": [
       "          Id  Prediction\n",
       "0          1  389.168938\n",
       "1          2  194.530692\n",
       "2          3  534.692401\n",
       "3          4  194.530692\n",
       "4          5  194.530692\n",
       "...      ...         ...\n",
       "11853  11854  154.726964\n",
       "11854  11855  194.530692\n",
       "11855  11856  101.194900\n",
       "11856  11857  101.194900\n",
       "11857  11858  143.680074\n",
       "\n",
       "[11858 rows x 2 columns]"
      ]
     },
     "execution_count": 609,
     "metadata": {},
     "output_type": "execute_result"
    }
   ],
   "source": [
    "final_test"
   ]
  }
 ],
 "metadata": {
  "kernelspec": {
   "display_name": "Python 3",
   "language": "python",
   "name": "python3"
  },
  "language_info": {
   "codemirror_mode": {
    "name": "ipython",
    "version": 3
   },
   "file_extension": ".py",
   "mimetype": "text/x-python",
   "name": "python",
   "nbconvert_exporter": "python",
   "pygments_lexer": "ipython3",
   "version": "3.8.8"
  }
 },
 "nbformat": 4,
 "nbformat_minor": 5
}
